{
 "cells": [
  {
   "cell_type": "markdown",
   "id": "52a2670c-4c51-4045-a062-07a2721ad756",
   "metadata": {},
   "source": [
    "# チエル 日足"
   ]
  },
  {
   "cell_type": "code",
   "execution_count": 1,
   "id": "2879685d-e0c3-4056-b1b3-572276028930",
   "metadata": {},
   "outputs": [],
   "source": [
    "import sys\n",
    "\n",
    "path_up = \"..\"\n",
    "if not path_up in sys.path:\n",
    "    sys.path.append(path_up)"
   ]
  },
  {
   "cell_type": "code",
   "execution_count": 2,
   "id": "5f9752f5-7cf6-4cc8-9315-97f46531c70a",
   "metadata": {},
   "outputs": [],
   "source": [
    "import datetime\n",
    "\n",
    "import matplotlib.font_manager as fm\n",
    "import matplotlib.pyplot as plt\n",
    "import mplfinance as mpf\n",
    "import numpy as np\n",
    "import pandas as pd\n",
    "import pingouin as pg\n",
    "import seaborn as sns\n",
    "import yfinance as yf\n",
    "\n",
    "from funcs.technical import psar"
   ]
  },
  {
   "cell_type": "code",
   "execution_count": 3,
   "id": "6834dd84-ba52-49e6-a4e1-73cf33186524",
   "metadata": {},
   "outputs": [],
   "source": [
    "code = \"3933\"\n",
    "symbol = f\"{code}.T\"\n",
    "ticker = yf.Ticker(symbol)"
   ]
  },
  {
   "cell_type": "code",
   "execution_count": 4,
   "id": "b356e0e1-f3c7-4a40-92fa-ad290dc3c429",
   "metadata": {},
   "outputs": [
    {
     "data": {
      "text/html": [
       "<div>\n",
       "<style scoped>\n",
       "    .dataframe tbody tr th:only-of-type {\n",
       "        vertical-align: middle;\n",
       "    }\n",
       "\n",
       "    .dataframe tbody tr th {\n",
       "        vertical-align: top;\n",
       "    }\n",
       "\n",
       "    .dataframe thead th {\n",
       "        text-align: right;\n",
       "    }\n",
       "</style>\n",
       "<table border=\"1\" class=\"dataframe\">\n",
       "  <thead>\n",
       "    <tr style=\"text-align: right;\">\n",
       "      <th></th>\n",
       "      <th>Open</th>\n",
       "      <th>High</th>\n",
       "      <th>Low</th>\n",
       "      <th>Close</th>\n",
       "      <th>Volume</th>\n",
       "      <th>Dividends</th>\n",
       "      <th>Stock Splits</th>\n",
       "    </tr>\n",
       "    <tr>\n",
       "      <th>Date</th>\n",
       "      <th></th>\n",
       "      <th></th>\n",
       "      <th></th>\n",
       "      <th></th>\n",
       "      <th></th>\n",
       "      <th></th>\n",
       "      <th></th>\n",
       "    </tr>\n",
       "  </thead>\n",
       "  <tbody>\n",
       "    <tr>\n",
       "      <th>2025-06-25 00:00:00+09:00</th>\n",
       "      <td>799.0</td>\n",
       "      <td>799.0</td>\n",
       "      <td>790.0</td>\n",
       "      <td>795.0</td>\n",
       "      <td>5700</td>\n",
       "      <td>0.0</td>\n",
       "      <td>0.0</td>\n",
       "    </tr>\n",
       "    <tr>\n",
       "      <th>2025-06-26 00:00:00+09:00</th>\n",
       "      <td>792.0</td>\n",
       "      <td>810.0</td>\n",
       "      <td>771.0</td>\n",
       "      <td>771.0</td>\n",
       "      <td>9400</td>\n",
       "      <td>0.0</td>\n",
       "      <td>0.0</td>\n",
       "    </tr>\n",
       "    <tr>\n",
       "      <th>2025-06-27 00:00:00+09:00</th>\n",
       "      <td>771.0</td>\n",
       "      <td>785.0</td>\n",
       "      <td>771.0</td>\n",
       "      <td>776.0</td>\n",
       "      <td>2700</td>\n",
       "      <td>0.0</td>\n",
       "      <td>0.0</td>\n",
       "    </tr>\n",
       "    <tr>\n",
       "      <th>2025-06-30 00:00:00+09:00</th>\n",
       "      <td>791.0</td>\n",
       "      <td>791.0</td>\n",
       "      <td>776.0</td>\n",
       "      <td>780.0</td>\n",
       "      <td>6100</td>\n",
       "      <td>0.0</td>\n",
       "      <td>0.0</td>\n",
       "    </tr>\n",
       "    <tr>\n",
       "      <th>2025-07-01 00:00:00+09:00</th>\n",
       "      <td>780.0</td>\n",
       "      <td>780.0</td>\n",
       "      <td>760.0</td>\n",
       "      <td>761.0</td>\n",
       "      <td>8800</td>\n",
       "      <td>0.0</td>\n",
       "      <td>0.0</td>\n",
       "    </tr>\n",
       "    <tr>\n",
       "      <th>...</th>\n",
       "      <td>...</td>\n",
       "      <td>...</td>\n",
       "      <td>...</td>\n",
       "      <td>...</td>\n",
       "      <td>...</td>\n",
       "      <td>...</td>\n",
       "      <td>...</td>\n",
       "    </tr>\n",
       "    <tr>\n",
       "      <th>2025-09-18 00:00:00+09:00</th>\n",
       "      <td>664.0</td>\n",
       "      <td>674.0</td>\n",
       "      <td>648.0</td>\n",
       "      <td>653.0</td>\n",
       "      <td>28500</td>\n",
       "      <td>0.0</td>\n",
       "      <td>0.0</td>\n",
       "    </tr>\n",
       "    <tr>\n",
       "      <th>2025-09-19 00:00:00+09:00</th>\n",
       "      <td>655.0</td>\n",
       "      <td>661.0</td>\n",
       "      <td>653.0</td>\n",
       "      <td>658.0</td>\n",
       "      <td>17400</td>\n",
       "      <td>0.0</td>\n",
       "      <td>0.0</td>\n",
       "    </tr>\n",
       "    <tr>\n",
       "      <th>2025-09-22 00:00:00+09:00</th>\n",
       "      <td>658.0</td>\n",
       "      <td>672.0</td>\n",
       "      <td>656.0</td>\n",
       "      <td>664.0</td>\n",
       "      <td>17500</td>\n",
       "      <td>0.0</td>\n",
       "      <td>0.0</td>\n",
       "    </tr>\n",
       "    <tr>\n",
       "      <th>2025-09-24 00:00:00+09:00</th>\n",
       "      <td>674.0</td>\n",
       "      <td>764.0</td>\n",
       "      <td>664.0</td>\n",
       "      <td>764.0</td>\n",
       "      <td>158900</td>\n",
       "      <td>0.0</td>\n",
       "      <td>0.0</td>\n",
       "    </tr>\n",
       "    <tr>\n",
       "      <th>2025-09-25 00:00:00+09:00</th>\n",
       "      <td>755.0</td>\n",
       "      <td>755.0</td>\n",
       "      <td>701.0</td>\n",
       "      <td>711.0</td>\n",
       "      <td>146900</td>\n",
       "      <td>0.0</td>\n",
       "      <td>0.0</td>\n",
       "    </tr>\n",
       "  </tbody>\n",
       "</table>\n",
       "<p>63 rows × 7 columns</p>\n",
       "</div>"
      ],
      "text/plain": [
       "                            Open   High    Low  Close  Volume  Dividends  \\\n",
       "Date                                                                       \n",
       "2025-06-25 00:00:00+09:00  799.0  799.0  790.0  795.0    5700        0.0   \n",
       "2025-06-26 00:00:00+09:00  792.0  810.0  771.0  771.0    9400        0.0   \n",
       "2025-06-27 00:00:00+09:00  771.0  785.0  771.0  776.0    2700        0.0   \n",
       "2025-06-30 00:00:00+09:00  791.0  791.0  776.0  780.0    6100        0.0   \n",
       "2025-07-01 00:00:00+09:00  780.0  780.0  760.0  761.0    8800        0.0   \n",
       "...                          ...    ...    ...    ...     ...        ...   \n",
       "2025-09-18 00:00:00+09:00  664.0  674.0  648.0  653.0   28500        0.0   \n",
       "2025-09-19 00:00:00+09:00  655.0  661.0  653.0  658.0   17400        0.0   \n",
       "2025-09-22 00:00:00+09:00  658.0  672.0  656.0  664.0   17500        0.0   \n",
       "2025-09-24 00:00:00+09:00  674.0  764.0  664.0  764.0  158900        0.0   \n",
       "2025-09-25 00:00:00+09:00  755.0  755.0  701.0  711.0  146900        0.0   \n",
       "\n",
       "                           Stock Splits  \n",
       "Date                                     \n",
       "2025-06-25 00:00:00+09:00           0.0  \n",
       "2025-06-26 00:00:00+09:00           0.0  \n",
       "2025-06-27 00:00:00+09:00           0.0  \n",
       "2025-06-30 00:00:00+09:00           0.0  \n",
       "2025-07-01 00:00:00+09:00           0.0  \n",
       "...                                 ...  \n",
       "2025-09-18 00:00:00+09:00           0.0  \n",
       "2025-09-19 00:00:00+09:00           0.0  \n",
       "2025-09-22 00:00:00+09:00           0.0  \n",
       "2025-09-24 00:00:00+09:00           0.0  \n",
       "2025-09-25 00:00:00+09:00           0.0  \n",
       "\n",
       "[63 rows x 7 columns]"
      ]
     },
     "execution_count": 4,
     "metadata": {},
     "output_type": "execute_result"
    }
   ],
   "source": [
    "# 日足で過去 1 年分のデータを取得\n",
    "df = ticker.history(period=\"3mo\", interval=\"1d\")\n",
    "df"
   ]
  },
  {
   "cell_type": "code",
   "execution_count": 5,
   "id": "ddfa3322-99fe-4f27-a851-cbc605368e3e",
   "metadata": {},
   "outputs": [
    {
     "data": {
      "text/plain": [
       "'0925'"
      ]
     },
     "execution_count": 5,
     "metadata": {},
     "output_type": "execute_result"
    }
   ],
   "source": [
    "dt = df.tail(1).index[0]\n",
    "date_str = f\"{dt.month:02d}{dt.day:02d}\"\n",
    "date_str"
   ]
  },
  {
   "cell_type": "markdown",
   "id": "7c6f6eee-2527-44e9-834d-d96edc6e6bde",
   "metadata": {},
   "source": [
    "### Matplotlib の設定"
   ]
  },
  {
   "cell_type": "code",
   "execution_count": 6,
   "id": "495048bd-ddd4-4c00-9f5c-cd971902f4ef",
   "metadata": {},
   "outputs": [],
   "source": [
    "FONT_PATH = \"../fonts/RictyDiminished-Regular.ttf\"\n",
    "fm.fontManager.addfont(FONT_PATH)\n",
    "\n",
    "# FontPropertiesオブジェクト生成（名前の取得のため）\n",
    "font_prop = fm.FontProperties(fname=FONT_PATH)\n",
    "font_prop.get_name()\n",
    "\n",
    "plt.rcParams[\"font.family\"] = font_prop.get_name()\n",
    "plt.rcParams[\"font.size\"] = 12"
   ]
  },
  {
   "cell_type": "markdown",
   "id": "d82d8f9a-2140-46f8-8d00-508635590229",
   "metadata": {},
   "source": [
    "## 日足"
   ]
  },
  {
   "cell_type": "code",
   "execution_count": 7,
   "id": "aa5062d6-7579-4d2b-ae95-c3f0bf35f13a",
   "metadata": {},
   "outputs": [
    {
     "data": {
      "image/png": "[encoded data removed]",
      "text/plain": [
       "<Figure size 600x300 with 1 Axes>"
      ]
     },
     "metadata": {},
     "output_type": "display_data"
    }
   ],
   "source": [
    "fig, ax = plt.subplots(figsize=(6, 3))\n",
    "\n",
    "mpf.plot(\n",
    "    df,\n",
    "    type=\"candle\",\n",
    "    style=\"default\",\n",
    "    datetime_format=\"%m/%d\",\n",
    "    xrotation=0,\n",
    "    update_width_config=dict(candle_linewidth=0.75),\n",
    "    ax=ax,\n",
    ")\n",
    "ax.grid()\n",
    "\n",
    "try:\n",
    "    ax.set_title(f\"Daily chart for {ticker.info[\"longName\"]} ({code})\")\n",
    "except KeyError:\n",
    "    ax.set_title(f\"Daily chart for {symbol}\")\n",
    "\n",
    "plt.tight_layout()\n",
    "plt.savefig(f\"{date_str}_daily_chart_{code}.png\")\n",
    "plt.show()"
   ]
  },
  {
   "cell_type": "code",
   "execution_count": null,
   "id": "23186c73-a28e-4de9-be78-5b03f3131fdd",
   "metadata": {},
   "outputs": [],
   "source": []
  }
 ],
 "metadata": {
  "kernelspec": {
   "display_name": "Python 3 (ipykernel)",
   "language": "python",
   "name": "python3"
  },
  "language_info": {
   "codemirror_mode": {
    "name": "ipython",
    "version": 3
   },
   "file_extension": ".py",
   "mimetype": "text/x-python",
   "name": "python",
   "nbconvert_exporter": "python",
   "pygments_lexer": "ipython3",
   "version": "3.13.7"
  }
 },
 "nbformat": 4,
 "nbformat_minor": 5
}
