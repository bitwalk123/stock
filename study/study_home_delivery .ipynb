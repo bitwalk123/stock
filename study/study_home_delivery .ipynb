{
 "cells": [
  {
   "cell_type": "markdown",
   "id": "f267f502-44cf-4079-8472-4f6f3b647ae1",
   "metadata": {},
   "source": [
    "# 宅配便（宅急便）銘柄"
   ]
  },
  {
   "cell_type": "code",
   "execution_count": null,
   "id": "38de1c4b-cd57-4324-af42-54e255cc9a08",
   "metadata": {},
   "outputs": [],
   "source": [
    "import datetime\n",
    "import re\n",
    "\n",
    "import matplotlib.font_manager as fm\n",
    "from matplotlib import dates as mdates\n",
    "import matplotlib.pyplot as plt\n",
    "import mplfinance as mpf\n",
    "import numpy as np\n",
    "import pandas as pd\n",
    "import yfinance as yf"
   ]
  },
  {
   "cell_type": "code",
   "execution_count": null,
   "id": "b08b4929-af47-49af-b0ef-b1655b2b2b1a",
   "metadata": {},
   "outputs": [],
   "source": [
    "name_source = \"宅配便（宅急便）銘柄.xlsx\"\n",
    "df_code = pd.read_excel(name_source)\n",
    "df_code"
   ]
  },
  {
   "cell_type": "code",
   "execution_count": null,
   "id": "c8296cd5-85a9-4197-853a-a8d55d8ba273",
   "metadata": {},
   "outputs": [],
   "source": [
    "df_result = pd.DataFrame()\n",
    "for code in df_code[\"コード\"]:\n",
    "    print(code)\n",
    "    symbol = f\"{code}.T\"\n",
    "    ticker = yf.Ticker(symbol)\n",
    "    ser = ticker.history(period=\"1y\")[\"Close\"]\n",
    "    df_result[code] = ser / ser.iloc[0]\n",
    "df_result"
   ]
  },
  {
   "cell_type": "markdown",
   "id": "6c765368-7eef-4a1e-af31-d9cf266ccef4",
   "metadata": {},
   "source": [
    "### 日付文字列"
   ]
  },
  {
   "cell_type": "code",
   "execution_count": null,
   "id": "36bc01dc-7a2b-472e-8749-631c84ba9b81",
   "metadata": {},
   "outputs": [],
   "source": [
    "dt_start = df_result.index[0]\n",
    "date_str = f\"{dt_start.year:04}-{dt_start.month:02}-{dt_start.day:02}\"\n",
    "row_last = len(df_result) - 1\n",
    "dt_end = df_result.index[row_last]\n",
    "date_latest_str = f\"{dt_end.year:04}{dt_end.month:02}{dt_end.day:02}\"\n",
    "date_latest_str"
   ]
  },
  {
   "cell_type": "code",
   "execution_count": null,
   "id": "b3f55e5b-aad0-4b94-a86a-ee66eb6b50fd",
   "metadata": {
    "scrolled": true
   },
   "outputs": [],
   "source": [
    "df_top = df_result.iloc[row_last].sort_values(ascending=False)\n",
    "n = 5\n",
    "df_top.head(n)"
   ]
  },
  {
   "cell_type": "code",
   "execution_count": null,
   "id": "e5a4817e-5f7c-48fa-bbd5-732bf4cb4e1a",
   "metadata": {},
   "outputs": [],
   "source": [
    "list_top = list(df_top.index)\n",
    "len(list_top)"
   ]
  },
  {
   "cell_type": "code",
   "execution_count": null,
   "id": "c43d7948-ca4a-4ca0-be26-13831824f2d3",
   "metadata": {},
   "outputs": [],
   "source": [
    "FONT_PATH = \"../fonts/RictyDiminished-Regular.ttf\"\n",
    "fm.fontManager.addfont(FONT_PATH)\n",
    "\n",
    "# FontPropertiesオブジェクト生成（名前の取得のため）\n",
    "font_prop = fm.FontProperties(fname=FONT_PATH)\n",
    "font_prop.get_name()\n",
    "\n",
    "plt.rcParams[\"font.family\"] = font_prop.get_name()\n",
    "plt.rcParams[\"font.size\"] = 16\n",
    "\n",
    "fig, ax = plt.subplots(figsize=(12, 8))\n",
    "plt.subplots_adjust(top=0.91, left=0.05, bottom=0.03, right=0.99)\n",
    "\n",
    "for i, colname in enumerate(list_top):\n",
    "    if i < n:\n",
    "        width = 1.5\n",
    "        lstyle = \"solid\"\n",
    "        ax.plot(df_result[colname], lw=width, ls=lstyle, label=colname)\n",
    "    elif colname == 6178:\n",
    "        width = 1\n",
    "        lstyle = \"dashed\"\n",
    "        ax.plot(df_result[colname], lw=width, ls=lstyle, color=\"black\", label=f\"日本郵政 ({colname})\")        \n",
    "    else:\n",
    "        width = 1\n",
    "        lstyle = \"dotted\"\n",
    "        ax.plot(df_result[colname], lw=width, ls=lstyle, alpha=0.9)\n",
    "\n",
    "ax.xaxis.set_major_formatter(mdates.DateFormatter(\"%m/%d\"))\n",
    "fig.suptitle(\"宅配便（宅急便）銘柄\")\n",
    "ax.set_title(f\"{date_str} の終値を 1 とした比率のトレンド\", fontsize=16)\n",
    "ax.grid()\n",
    "ax.legend(loc='upper left', fontsize=8)\n",
    "#plt.tight_layout()\n",
    "\n",
    "plt.savefig(f\"screenshots/{date_latest_str}_report_home_delivery.png\")\n",
    "plt.show()"
   ]
  },
  {
   "cell_type": "code",
   "execution_count": null,
   "id": "3b603507-09fe-4bf0-9fb4-0f41b11c583b",
   "metadata": {},
   "outputs": [],
   "source": [
    "FONT_PATH = \"../fonts/RictyDiminished-Regular.ttf\"\n",
    "fm.fontManager.addfont(FONT_PATH)\n",
    "\n",
    "# FontPropertiesオブジェクト生成（名前の取得のため）\n",
    "font_prop = fm.FontProperties(fname=FONT_PATH)\n",
    "font_prop.get_name()\n",
    "\n",
    "plt.rcParams[\"font.family\"] = font_prop.get_name()\n",
    "plt.rcParams[\"font.size\"] = 16\n",
    "\n",
    "for code in list_top[0:n]:\n",
    "    symbol = f\"{code}.T\"\n",
    "    ticker = yf.Ticker(symbol)\n",
    "    df = ticker.history(period=\"1y\")\n",
    "    fig, ax = plt.subplots(figsize=(12, 3))\n",
    "    mpf.plot(\n",
    "        df,\n",
    "        type='candle',\n",
    "        style='default',\n",
    "        volume=False,\n",
    "        datetime_format='%m-%d',\n",
    "        xrotation=0,\n",
    "        ax=ax\n",
    "    )\n",
    "    ax.set_ylabel(None)\n",
    "    ax.grid()\n",
    "    ax.set_title(f\"Daily chart for {ticker.info['longName']} ({code})\")\n",
    "    plt.tight_layout()\n",
    "    plt.savefig(f\"screenshots/{date_latest_str}_daily_chart_{code}.png\")\n",
    "    plt.show()"
   ]
  },
  {
   "cell_type": "code",
   "execution_count": null,
   "id": "6a7f2bb7-fa7a-4025-8f3a-7f8b8542d1c4",
   "metadata": {},
   "outputs": [],
   "source": []
  }
 ],
 "metadata": {
  "kernelspec": {
   "display_name": "Python 3 (ipykernel)",
   "language": "python",
   "name": "python3"
  },
  "language_info": {
   "codemirror_mode": {
    "name": "ipython",
    "version": 3
   },
   "file_extension": ".py",
   "mimetype": "text/x-python",
   "name": "python",
   "nbconvert_exporter": "python",
   "pygments_lexer": "ipython3",
   "version": "3.13.3"
  }
 },
 "nbformat": 4,
 "nbformat_minor": 5
}
