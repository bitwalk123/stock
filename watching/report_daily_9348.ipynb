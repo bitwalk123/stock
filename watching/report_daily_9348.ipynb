{
 "cells": [
  {
   "cell_type": "markdown",
   "id": "52a2670c-4c51-4045-a062-07a2721ad756",
   "metadata": {},
   "source": [
    "# ispace 日足"
   ]
  },
  {
   "cell_type": "code",
   "execution_count": 12,
   "id": "6834dd84-ba52-49e6-a4e1-73cf33186524",
   "metadata": {},
   "outputs": [
    {
     "data": {
      "text/html": [
       "<div>\n",
       "<style scoped>\n",
       "    .dataframe tbody tr th:only-of-type {\n",
       "        vertical-align: middle;\n",
       "    }\n",
       "\n",
       "    .dataframe tbody tr th {\n",
       "        vertical-align: top;\n",
       "    }\n",
       "\n",
       "    .dataframe thead th {\n",
       "        text-align: right;\n",
       "    }\n",
       "</style>\n",
       "<table border=\"1\" class=\"dataframe\">\n",
       "  <thead>\n",
       "    <tr style=\"text-align: right;\">\n",
       "      <th></th>\n",
       "      <th>Open</th>\n",
       "      <th>High</th>\n",
       "      <th>Low</th>\n",
       "      <th>Close</th>\n",
       "      <th>Volume</th>\n",
       "      <th>Dividends</th>\n",
       "      <th>Stock Splits</th>\n",
       "    </tr>\n",
       "    <tr>\n",
       "      <th>Date</th>\n",
       "      <th></th>\n",
       "      <th></th>\n",
       "      <th></th>\n",
       "      <th></th>\n",
       "      <th></th>\n",
       "      <th></th>\n",
       "      <th></th>\n",
       "    </tr>\n",
       "  </thead>\n",
       "  <tbody>\n",
       "    <tr>\n",
       "      <th>2024-08-19 00:00:00+09:00</th>\n",
       "      <td>610.0</td>\n",
       "      <td>614.0</td>\n",
       "      <td>591.0</td>\n",
       "      <td>594.0</td>\n",
       "      <td>799300</td>\n",
       "      <td>0.0</td>\n",
       "      <td>0.0</td>\n",
       "    </tr>\n",
       "    <tr>\n",
       "      <th>2024-08-20 00:00:00+09:00</th>\n",
       "      <td>610.0</td>\n",
       "      <td>632.0</td>\n",
       "      <td>601.0</td>\n",
       "      <td>628.0</td>\n",
       "      <td>1224000</td>\n",
       "      <td>0.0</td>\n",
       "      <td>0.0</td>\n",
       "    </tr>\n",
       "    <tr>\n",
       "      <th>2024-08-21 00:00:00+09:00</th>\n",
       "      <td>608.0</td>\n",
       "      <td>608.0</td>\n",
       "      <td>593.0</td>\n",
       "      <td>595.0</td>\n",
       "      <td>1162300</td>\n",
       "      <td>0.0</td>\n",
       "      <td>0.0</td>\n",
       "    </tr>\n",
       "    <tr>\n",
       "      <th>2024-08-22 00:00:00+09:00</th>\n",
       "      <td>592.0</td>\n",
       "      <td>594.0</td>\n",
       "      <td>579.0</td>\n",
       "      <td>592.0</td>\n",
       "      <td>669500</td>\n",
       "      <td>0.0</td>\n",
       "      <td>0.0</td>\n",
       "    </tr>\n",
       "    <tr>\n",
       "      <th>2024-08-23 00:00:00+09:00</th>\n",
       "      <td>587.0</td>\n",
       "      <td>623.0</td>\n",
       "      <td>586.0</td>\n",
       "      <td>604.0</td>\n",
       "      <td>1307700</td>\n",
       "      <td>0.0</td>\n",
       "      <td>0.0</td>\n",
       "    </tr>\n",
       "    <tr>\n",
       "      <th>...</th>\n",
       "      <td>...</td>\n",
       "      <td>...</td>\n",
       "      <td>...</td>\n",
       "      <td>...</td>\n",
       "      <td>...</td>\n",
       "      <td>...</td>\n",
       "      <td>...</td>\n",
       "    </tr>\n",
       "    <tr>\n",
       "      <th>2025-02-10 00:00:00+09:00</th>\n",
       "      <td>627.0</td>\n",
       "      <td>637.0</td>\n",
       "      <td>615.0</td>\n",
       "      <td>622.0</td>\n",
       "      <td>1007300</td>\n",
       "      <td>0.0</td>\n",
       "      <td>0.0</td>\n",
       "    </tr>\n",
       "    <tr>\n",
       "      <th>2025-02-12 00:00:00+09:00</th>\n",
       "      <td>620.0</td>\n",
       "      <td>655.0</td>\n",
       "      <td>617.0</td>\n",
       "      <td>650.0</td>\n",
       "      <td>2035100</td>\n",
       "      <td>0.0</td>\n",
       "      <td>0.0</td>\n",
       "    </tr>\n",
       "    <tr>\n",
       "      <th>2025-02-13 00:00:00+09:00</th>\n",
       "      <td>660.0</td>\n",
       "      <td>660.0</td>\n",
       "      <td>637.0</td>\n",
       "      <td>651.0</td>\n",
       "      <td>2113500</td>\n",
       "      <td>0.0</td>\n",
       "      <td>0.0</td>\n",
       "    </tr>\n",
       "    <tr>\n",
       "      <th>2025-02-14 00:00:00+09:00</th>\n",
       "      <td>654.0</td>\n",
       "      <td>656.0</td>\n",
       "      <td>630.0</td>\n",
       "      <td>631.0</td>\n",
       "      <td>1757100</td>\n",
       "      <td>0.0</td>\n",
       "      <td>0.0</td>\n",
       "    </tr>\n",
       "    <tr>\n",
       "      <th>2025-02-17 00:00:00+09:00</th>\n",
       "      <td>650.0</td>\n",
       "      <td>653.0</td>\n",
       "      <td>626.0</td>\n",
       "      <td>626.0</td>\n",
       "      <td>1460900</td>\n",
       "      <td>0.0</td>\n",
       "      <td>0.0</td>\n",
       "    </tr>\n",
       "  </tbody>\n",
       "</table>\n",
       "<p>121 rows × 7 columns</p>\n",
       "</div>"
      ],
      "text/plain": [
       "                            Open   High    Low  Close   Volume  Dividends  \\\n",
       "Date                                                                        \n",
       "2024-08-19 00:00:00+09:00  610.0  614.0  591.0  594.0   799300        0.0   \n",
       "2024-08-20 00:00:00+09:00  610.0  632.0  601.0  628.0  1224000        0.0   \n",
       "2024-08-21 00:00:00+09:00  608.0  608.0  593.0  595.0  1162300        0.0   \n",
       "2024-08-22 00:00:00+09:00  592.0  594.0  579.0  592.0   669500        0.0   \n",
       "2024-08-23 00:00:00+09:00  587.0  623.0  586.0  604.0  1307700        0.0   \n",
       "...                          ...    ...    ...    ...      ...        ...   \n",
       "2025-02-10 00:00:00+09:00  627.0  637.0  615.0  622.0  1007300        0.0   \n",
       "2025-02-12 00:00:00+09:00  620.0  655.0  617.0  650.0  2035100        0.0   \n",
       "2025-02-13 00:00:00+09:00  660.0  660.0  637.0  651.0  2113500        0.0   \n",
       "2025-02-14 00:00:00+09:00  654.0  656.0  630.0  631.0  1757100        0.0   \n",
       "2025-02-17 00:00:00+09:00  650.0  653.0  626.0  626.0  1460900        0.0   \n",
       "\n",
       "                           Stock Splits  \n",
       "Date                                     \n",
       "2024-08-19 00:00:00+09:00           0.0  \n",
       "2024-08-20 00:00:00+09:00           0.0  \n",
       "2024-08-21 00:00:00+09:00           0.0  \n",
       "2024-08-22 00:00:00+09:00           0.0  \n",
       "2024-08-23 00:00:00+09:00           0.0  \n",
       "...                                 ...  \n",
       "2025-02-10 00:00:00+09:00           0.0  \n",
       "2025-02-12 00:00:00+09:00           0.0  \n",
       "2025-02-13 00:00:00+09:00           0.0  \n",
       "2025-02-14 00:00:00+09:00           0.0  \n",
       "2025-02-17 00:00:00+09:00           0.0  \n",
       "\n",
       "[121 rows x 7 columns]"
      ]
     },
     "execution_count": 12,
     "metadata": {},
     "output_type": "execute_result"
    }
   ],
   "source": [
    "import matplotlib.font_manager as fm\n",
    "import matplotlib.pyplot as plt\n",
    "import mplfinance as mpf\n",
    "import numpy as np\n",
    "import pandas as pd\n",
    "import re\n",
    "import yfinance as yf\n",
    "\n",
    "pattern = re.compile(r'(.+)\\.T')\n",
    "\n",
    "symbol = '9348.T'\n",
    "ticker = yf.Ticker(symbol)\n",
    "\n",
    "df = ticker.history(period='6mo')\n",
    "df"
   ]
  },
  {
   "cell_type": "markdown",
   "id": "d962988e-3347-4589-b186-27510a8d1d9b",
   "metadata": {},
   "source": [
    "## パラボリック SAR"
   ]
  },
  {
   "cell_type": "code",
   "execution_count": 13,
   "id": "8a50fcec-f72e-414f-89ea-d5c3926b60fd",
   "metadata": {},
   "outputs": [],
   "source": [
    "def psar(ohlc: pd.DataFrame, iaf: float = 0.02, maxaf: float = 0.2) -> dict:\n",
    "    length = len(ohlc)\n",
    "    high = ohlc['High'].tolist()\n",
    "    low = ohlc['Low'].tolist()\n",
    "    close = ohlc['Close'].tolist()\n",
    " \n",
    "    psar = close[0:len(close)]\n",
    "    psarbull = [None] * length\n",
    "    psarbear = [None] * length\n",
    " \n",
    "    bull = True\n",
    "    af = iaf\n",
    "    ep = low[0]\n",
    "    price_high = high[0]\n",
    "    price_low = low[0]\n",
    " \n",
    "    for i in range(2, length):\n",
    "        if bull:\n",
    "            psar[i] = psar[i - 1] + af * (price_high - psar[i - 1])\n",
    "        else:\n",
    "            psar[i] = psar[i - 1] + af * (price_low - psar[i - 1])\n",
    "        reverse = False\n",
    " \n",
    "        if bull:\n",
    "            if low[i] < psar[i]:\n",
    "                bull = False\n",
    "                reverse = True\n",
    "                psar[i] = price_high\n",
    "                price_low = low[i]\n",
    "                af = iaf\n",
    "        else:\n",
    "            if high[i] > psar[i]:\n",
    "                bull = True\n",
    "                reverse = True\n",
    "                psar[i] = price_low\n",
    "                price_high = high[i]\n",
    "                af = iaf\n",
    " \n",
    "        if not reverse:\n",
    "            if bull:\n",
    "                if high[i] > price_high:\n",
    "                    price_high = high[i]\n",
    "                    af = min(af + iaf, maxaf)\n",
    "                if low[i - 1] < psar[i]:\n",
    "                    psar[i] = low[i - 1]\n",
    "                if low[i - 2] < psar[i]:\n",
    "                    psar[i] = low[i - 2]\n",
    "            else:\n",
    "                if low[i] < price_low:\n",
    "                    price_low = low[i]\n",
    "                    af = min(af + iaf, maxaf)\n",
    "                if high[i - 1] > psar[i]:\n",
    "                    psar[i] = high[i - 1]\n",
    "                if high[i - 2] > psar[i]:\n",
    "                    psar[i] = high[i - 2]\n",
    " \n",
    "        if bull:\n",
    "            psarbull[i] = psar[i]\n",
    "        else:\n",
    "            psarbear[i] = psar[i]\n",
    " \n",
    "    return {\n",
    "        'bear': np.array(psarbear, dtype='float64'),\n",
    "        'bull': np.array(psarbull, dtype='float64'),\n",
    "    }"
   ]
  },
  {
   "cell_type": "markdown",
   "id": "a8e1eedf-42ee-48d9-90b7-a03984127b91",
   "metadata": {},
   "source": [
    "## 日足チャートとパラボリック SAR"
   ]
  },
  {
   "cell_type": "code",
   "execution_count": 14,
   "id": "9992dabc-2cb3-4cea-b153-802c5fd5b5fb",
   "metadata": {},
   "outputs": [
    {
     "data": {
      "image/png": "[encoded data removed]",
      "text/plain": [
       "<Figure size 1200x600 with 2 Axes>"
      ]
     },
     "metadata": {},
     "output_type": "display_data"
    }
   ],
   "source": [
    "dict_psar = psar(df)\n",
    "\n",
    "FONT_PATH = \"../fonts/RictyDiminished-Regular.ttf\"\n",
    "fm.fontManager.addfont(FONT_PATH)\n",
    "\n",
    "# FontPropertiesオブジェクト生成（名前の取得のため）\n",
    "font_prop = fm.FontProperties(fname=FONT_PATH)\n",
    "font_prop.get_name()\n",
    "\n",
    "plt.rcParams['font.family'] = font_prop.get_name()\n",
    "plt.rcParams[\"font.size\"] = 16\n",
    "fig = plt.figure(figsize=(12, 6))\n",
    "ax = dict()\n",
    "n = 2\n",
    "gs = fig.add_gridspec(\n",
    "    n, 1,\n",
    "    wspace=0.0, hspace=0.0,\n",
    "    height_ratios=[2 if i == 0 else 1 for i in range(n)]\n",
    ")\n",
    "for i, axis in enumerate(gs.subplots(sharex='col')):\n",
    "    ax[i] = axis\n",
    "    ax[i].grid()\n",
    "\n",
    "apds  = [\n",
    "    mpf.make_addplot(\n",
    "        dict_psar['bear'],\n",
    "        type='scatter',\n",
    "        marker='o',\n",
    "        markersize=5,\n",
    "        color='blue',\n",
    "        label='downtrend',\n",
    "        ax=ax[0]\n",
    "    ),\n",
    "    mpf.make_addplot(\n",
    "        dict_psar['bull'],\n",
    "        type='scatter',\n",
    "        marker='o',\n",
    "        markersize=5,\n",
    "        color='red',\n",
    "        label='uptrend',\n",
    "        ax=ax[0]\n",
    "    ),\n",
    "] \n",
    "\n",
    "mpf.plot(\n",
    "    df,\n",
    "    type='candle',\n",
    "    style='default',\n",
    "    mav=(5, 25, 75),\n",
    "    volume=ax[1],\n",
    "    datetime_format='%y-%m-%d',\n",
    "    addplot=apds,\n",
    "    xrotation=0,\n",
    "    ax=ax[0],\n",
    ")\n",
    "\n",
    "try:\n",
    "    ax[0].set_title('Daily chart for %s (%s)\\nmav=(5, 25, 75)' % (ticker.info['longName'], symbol))\n",
    "except KeyError:\n",
    "    ax[0].set_title('Daily chart for %s\\nmav=(5, 25, 75)' % symbol)\n",
    "\n",
    "ax[0].legend(loc='best', fontsize=9)\n",
    "\n",
    "plt.tight_layout()\n",
    "\n",
    "m = pattern.match(symbol)\n",
    "if m:\n",
    "    plt.savefig('daily_chart_%s.png' % m.group(1))\n",
    "else:\n",
    "    plt.savefig('daily_chart_%s.png' % symbol)\n",
    "\n",
    "plt.show()"
   ]
  },
  {
   "cell_type": "code",
   "execution_count": 15,
   "id": "02289103-23b3-45c7-9be4-91c4f1e7958c",
   "metadata": {},
   "outputs": [
    {
     "data": {
      "text/plain": [
       "Date\n",
       "2025-02-14 00:00:00+09:00    631.0\n",
       "2025-02-17 00:00:00+09:00    626.0\n",
       "Name: Close, dtype: float64"
      ]
     },
     "execution_count": 15,
     "metadata": {},
     "output_type": "execute_result"
    }
   ],
   "source": [
    "df.tail(2)['Close']"
   ]
  },
  {
   "cell_type": "code",
   "execution_count": 16,
   "id": "c71558aa-1b70-454a-b538-e7c62b3710a2",
   "metadata": {},
   "outputs": [
    {
     "data": {
      "text/plain": [
       "Date\n",
       "2025-02-14 00:00:00+09:00    NaN\n",
       "2025-02-17 00:00:00+09:00   -5.0\n",
       "Name: Close, dtype: float64"
      ]
     },
     "execution_count": 16,
     "metadata": {},
     "output_type": "execute_result"
    }
   ],
   "source": [
    "df.tail(2)['Close'].diff()"
   ]
  },
  {
   "cell_type": "code",
   "execution_count": 17,
   "id": "264ad245-7b2a-49b9-b38e-6140b2a23260",
   "metadata": {},
   "outputs": [
    {
     "data": {
      "text/plain": [
       "Date\n",
       "2025-02-14 00:00:00+09:00    634.8\n",
       "2025-02-17 00:00:00+09:00    636.0\n",
       "Name: Close, dtype: float64"
      ]
     },
     "execution_count": 17,
     "metadata": {},
     "output_type": "execute_result"
    }
   ],
   "source": [
    "df['Close'].rolling(5).mean().tail(2)"
   ]
  },
  {
   "cell_type": "code",
   "execution_count": 18,
   "id": "22705f9a-58ad-4fdd-ad4d-f331fd7d83fa",
   "metadata": {},
   "outputs": [
    {
     "data": {
      "text/plain": [
       "Date\n",
       "2025-02-14 00:00:00+09:00    688.20\n",
       "2025-02-17 00:00:00+09:00    677.64\n",
       "Name: Close, dtype: float64"
      ]
     },
     "execution_count": 18,
     "metadata": {},
     "output_type": "execute_result"
    }
   ],
   "source": [
    "df['Close'].rolling(25).mean().tail(2)"
   ]
  },
  {
   "cell_type": "code",
   "execution_count": 19,
   "id": "19d901ea-197d-4569-95b1-f0f4fea059eb",
   "metadata": {},
   "outputs": [
    {
     "data": {
      "text/plain": [
       "Date\n",
       "2025-02-14 00:00:00+09:00    630.333333\n",
       "2025-02-17 00:00:00+09:00    630.080000\n",
       "Name: Close, dtype: float64"
      ]
     },
     "execution_count": 19,
     "metadata": {},
     "output_type": "execute_result"
    }
   ],
   "source": [
    "df['Close'].rolling(75).mean().tail(2)"
   ]
  },
  {
   "cell_type": "code",
   "execution_count": null,
   "id": "15c58d8a-df32-423b-b5e4-495a7b928ba4",
   "metadata": {},
   "outputs": [],
   "source": []
  }
 ],
 "metadata": {
  "kernelspec": {
   "display_name": "Python 3 (ipykernel)",
   "language": "python",
   "name": "python3"
  },
  "language_info": {
   "codemirror_mode": {
    "name": "ipython",
    "version": 3
   },
   "file_extension": ".py",
   "mimetype": "text/x-python",
   "name": "python",
   "nbconvert_exporter": "python",
   "pygments_lexer": "ipython3",
   "version": "3.13.2"
  }
 },
 "nbformat": 4,
 "nbformat_minor": 5
}
