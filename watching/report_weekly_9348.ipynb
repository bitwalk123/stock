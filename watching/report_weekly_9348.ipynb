{
 "cells": [
  {
   "cell_type": "markdown",
   "id": "52a2670c-4c51-4045-a062-07a2721ad756",
   "metadata": {},
   "source": [
    "# ispace 週足"
   ]
  },
  {
   "cell_type": "code",
   "execution_count": 1,
   "id": "6834dd84-ba52-49e6-a4e1-73cf33186524",
   "metadata": {},
   "outputs": [
    {
     "data": {
      "text/html": [
       "<div>\n",
       "<style scoped>\n",
       "    .dataframe tbody tr th:only-of-type {\n",
       "        vertical-align: middle;\n",
       "    }\n",
       "\n",
       "    .dataframe tbody tr th {\n",
       "        vertical-align: top;\n",
       "    }\n",
       "\n",
       "    .dataframe thead th {\n",
       "        text-align: right;\n",
       "    }\n",
       "</style>\n",
       "<table border=\"1\" class=\"dataframe\">\n",
       "  <thead>\n",
       "    <tr style=\"text-align: right;\">\n",
       "      <th></th>\n",
       "      <th>Open</th>\n",
       "      <th>High</th>\n",
       "      <th>Low</th>\n",
       "      <th>Close</th>\n",
       "      <th>Volume</th>\n",
       "      <th>Dividends</th>\n",
       "      <th>Stock Splits</th>\n",
       "    </tr>\n",
       "    <tr>\n",
       "      <th>Date</th>\n",
       "      <th></th>\n",
       "      <th></th>\n",
       "      <th></th>\n",
       "      <th></th>\n",
       "      <th></th>\n",
       "      <th></th>\n",
       "      <th></th>\n",
       "    </tr>\n",
       "  </thead>\n",
       "  <tbody>\n",
       "    <tr>\n",
       "      <th>2023-04-10 00:00:00+09:00</th>\n",
       "      <td>1000.0</td>\n",
       "      <td>1501.0</td>\n",
       "      <td>950.0</td>\n",
       "      <td>1501.0</td>\n",
       "      <td>29053600</td>\n",
       "      <td>0.0</td>\n",
       "      <td>0.0</td>\n",
       "    </tr>\n",
       "    <tr>\n",
       "      <th>2023-04-17 00:00:00+09:00</th>\n",
       "      <td>1901.0</td>\n",
       "      <td>2373.0</td>\n",
       "      <td>1800.0</td>\n",
       "      <td>1804.0</td>\n",
       "      <td>74281100</td>\n",
       "      <td>0.0</td>\n",
       "      <td>0.0</td>\n",
       "    </tr>\n",
       "    <tr>\n",
       "      <th>2023-04-24 00:00:00+09:00</th>\n",
       "      <td>1964.0</td>\n",
       "      <td>2170.0</td>\n",
       "      <td>1001.0</td>\n",
       "      <td>1017.0</td>\n",
       "      <td>47943300</td>\n",
       "      <td>0.0</td>\n",
       "      <td>0.0</td>\n",
       "    </tr>\n",
       "    <tr>\n",
       "      <th>2023-05-01 00:00:00+09:00</th>\n",
       "      <td>1025.0</td>\n",
       "      <td>1193.0</td>\n",
       "      <td>1005.0</td>\n",
       "      <td>1010.0</td>\n",
       "      <td>16424300</td>\n",
       "      <td>0.0</td>\n",
       "      <td>0.0</td>\n",
       "    </tr>\n",
       "    <tr>\n",
       "      <th>2023-05-08 00:00:00+09:00</th>\n",
       "      <td>1022.0</td>\n",
       "      <td>1027.0</td>\n",
       "      <td>793.0</td>\n",
       "      <td>856.0</td>\n",
       "      <td>12355400</td>\n",
       "      <td>0.0</td>\n",
       "      <td>0.0</td>\n",
       "    </tr>\n",
       "    <tr>\n",
       "      <th>...</th>\n",
       "      <td>...</td>\n",
       "      <td>...</td>\n",
       "      <td>...</td>\n",
       "      <td>...</td>\n",
       "      <td>...</td>\n",
       "      <td>...</td>\n",
       "      <td>...</td>\n",
       "    </tr>\n",
       "    <tr>\n",
       "      <th>2024-12-23 00:00:00+09:00</th>\n",
       "      <td>630.0</td>\n",
       "      <td>692.0</td>\n",
       "      <td>582.0</td>\n",
       "      <td>669.0</td>\n",
       "      <td>17735000</td>\n",
       "      <td>0.0</td>\n",
       "      <td>0.0</td>\n",
       "    </tr>\n",
       "    <tr>\n",
       "      <th>2024-12-30 00:00:00+09:00</th>\n",
       "      <td>689.0</td>\n",
       "      <td>694.0</td>\n",
       "      <td>661.0</td>\n",
       "      <td>680.0</td>\n",
       "      <td>3056200</td>\n",
       "      <td>0.0</td>\n",
       "      <td>0.0</td>\n",
       "    </tr>\n",
       "    <tr>\n",
       "      <th>2025-01-06 00:00:00+09:00</th>\n",
       "      <td>695.0</td>\n",
       "      <td>928.0</td>\n",
       "      <td>675.0</td>\n",
       "      <td>891.0</td>\n",
       "      <td>48515200</td>\n",
       "      <td>0.0</td>\n",
       "      <td>0.0</td>\n",
       "    </tr>\n",
       "    <tr>\n",
       "      <th>2025-01-13 00:00:00+09:00</th>\n",
       "      <td>890.0</td>\n",
       "      <td>891.0</td>\n",
       "      <td>630.0</td>\n",
       "      <td>656.0</td>\n",
       "      <td>37387600</td>\n",
       "      <td>0.0</td>\n",
       "      <td>0.0</td>\n",
       "    </tr>\n",
       "    <tr>\n",
       "      <th>2025-01-20 00:00:00+09:00</th>\n",
       "      <td>662.0</td>\n",
       "      <td>735.0</td>\n",
       "      <td>658.0</td>\n",
       "      <td>695.0</td>\n",
       "      <td>13556400</td>\n",
       "      <td>0.0</td>\n",
       "      <td>0.0</td>\n",
       "    </tr>\n",
       "  </tbody>\n",
       "</table>\n",
       "<p>94 rows × 7 columns</p>\n",
       "</div>"
      ],
      "text/plain": [
       "                             Open    High     Low   Close    Volume  \\\n",
       "Date                                                                  \n",
       "2023-04-10 00:00:00+09:00  1000.0  1501.0   950.0  1501.0  29053600   \n",
       "2023-04-17 00:00:00+09:00  1901.0  2373.0  1800.0  1804.0  74281100   \n",
       "2023-04-24 00:00:00+09:00  1964.0  2170.0  1001.0  1017.0  47943300   \n",
       "2023-05-01 00:00:00+09:00  1025.0  1193.0  1005.0  1010.0  16424300   \n",
       "2023-05-08 00:00:00+09:00  1022.0  1027.0   793.0   856.0  12355400   \n",
       "...                           ...     ...     ...     ...       ...   \n",
       "2024-12-23 00:00:00+09:00   630.0   692.0   582.0   669.0  17735000   \n",
       "2024-12-30 00:00:00+09:00   689.0   694.0   661.0   680.0   3056200   \n",
       "2025-01-06 00:00:00+09:00   695.0   928.0   675.0   891.0  48515200   \n",
       "2025-01-13 00:00:00+09:00   890.0   891.0   630.0   656.0  37387600   \n",
       "2025-01-20 00:00:00+09:00   662.0   735.0   658.0   695.0  13556400   \n",
       "\n",
       "                           Dividends  Stock Splits  \n",
       "Date                                                \n",
       "2023-04-10 00:00:00+09:00        0.0           0.0  \n",
       "2023-04-17 00:00:00+09:00        0.0           0.0  \n",
       "2023-04-24 00:00:00+09:00        0.0           0.0  \n",
       "2023-05-01 00:00:00+09:00        0.0           0.0  \n",
       "2023-05-08 00:00:00+09:00        0.0           0.0  \n",
       "...                              ...           ...  \n",
       "2024-12-23 00:00:00+09:00        0.0           0.0  \n",
       "2024-12-30 00:00:00+09:00        0.0           0.0  \n",
       "2025-01-06 00:00:00+09:00        0.0           0.0  \n",
       "2025-01-13 00:00:00+09:00        0.0           0.0  \n",
       "2025-01-20 00:00:00+09:00        0.0           0.0  \n",
       "\n",
       "[94 rows x 7 columns]"
      ]
     },
     "execution_count": 1,
     "metadata": {},
     "output_type": "execute_result"
    }
   ],
   "source": [
    "import matplotlib.pyplot as plt\n",
    "import mplfinance as mpf\n",
    "import numpy as np\n",
    "import pandas as pd\n",
    "import re\n",
    "import yfinance as yf\n",
    "\n",
    "pattern = re.compile(r'(.+)\\.T')\n",
    "\n",
    "symbol = '9348.T'\n",
    "ticker = yf.Ticker(symbol)\n",
    "\n",
    "df = ticker.history(period='max', interval='1wk')\n",
    "df"
   ]
  },
  {
   "cell_type": "markdown",
   "id": "d962988e-3347-4589-b186-27510a8d1d9b",
   "metadata": {},
   "source": [
    "## パラボリック SAR"
   ]
  },
  {
   "cell_type": "code",
   "execution_count": 2,
   "id": "8a50fcec-f72e-414f-89ea-d5c3926b60fd",
   "metadata": {},
   "outputs": [],
   "source": [
    "def psar(ohlc: pd.DataFrame, iaf: float = 0.02, maxaf: float = 0.2) -> dict:\n",
    "    length = len(ohlc)\n",
    "    high = ohlc['High'].tolist()\n",
    "    low = ohlc['Low'].tolist()\n",
    "    close = ohlc['Close'].tolist()\n",
    " \n",
    "    psar = close[0:len(close)]\n",
    "    psarbull = [None] * length\n",
    "    psarbear = [None] * length\n",
    " \n",
    "    bull = True\n",
    "    af = iaf\n",
    "    ep = low[0]\n",
    "    price_high = high[0]\n",
    "    price_low = low[0]\n",
    " \n",
    "    for i in range(2, length):\n",
    "        if bull:\n",
    "            psar[i] = psar[i - 1] + af * (price_high - psar[i - 1])\n",
    "        else:\n",
    "            psar[i] = psar[i - 1] + af * (price_low - psar[i - 1])\n",
    "        reverse = False\n",
    " \n",
    "        if bull:\n",
    "            if low[i] < psar[i]:\n",
    "                bull = False\n",
    "                reverse = True\n",
    "                psar[i] = price_high\n",
    "                price_low = low[i]\n",
    "                af = iaf\n",
    "        else:\n",
    "            if high[i] > psar[i]:\n",
    "                bull = True\n",
    "                reverse = True\n",
    "                psar[i] = price_low\n",
    "                price_high = high[i]\n",
    "                af = iaf\n",
    " \n",
    "        if not reverse:\n",
    "            if bull:\n",
    "                if high[i] > price_high:\n",
    "                    price_high = high[i]\n",
    "                    af = min(af + iaf, maxaf)\n",
    "                if low[i - 1] < psar[i]:\n",
    "                    psar[i] = low[i - 1]\n",
    "                if low[i - 2] < psar[i]:\n",
    "                    psar[i] = low[i - 2]\n",
    "            else:\n",
    "                if low[i] < price_low:\n",
    "                    price_low = low[i]\n",
    "                    af = min(af + iaf, maxaf)\n",
    "                if high[i - 1] > psar[i]:\n",
    "                    psar[i] = high[i - 1]\n",
    "                if high[i - 2] > psar[i]:\n",
    "                    psar[i] = high[i - 2]\n",
    " \n",
    "        if bull:\n",
    "            psarbull[i] = psar[i]\n",
    "        else:\n",
    "            psarbear[i] = psar[i]\n",
    " \n",
    "    return {\n",
    "        'bear': np.array(psarbear, dtype='float64'),\n",
    "        'bull': np.array(psarbull, dtype='float64'),\n",
    "    }"
   ]
  },
  {
   "cell_type": "markdown",
   "id": "a8e1eedf-42ee-48d9-90b7-a03984127b91",
   "metadata": {},
   "source": [
    "## 日足チャートとパラボリック SAR"
   ]
  },
  {
   "cell_type": "code",
   "execution_count": 3,
   "id": "9992dabc-2cb3-4cea-b153-802c5fd5b5fb",
   "metadata": {},
   "outputs": [
    {
     "data": {
      "image/png": "[encoded data removed]",
      "text/plain": [
       "<Figure size 1200x600 with 1 Axes>"
      ]
     },
     "metadata": {},
     "output_type": "display_data"
    }
   ],
   "source": [
    "dict_psar = psar(df)\n",
    "\n",
    "fig = plt.figure(figsize=(12, 6))\n",
    "ax = fig.add_subplot(111)\n",
    "\n",
    "apds  = [\n",
    "    mpf.make_addplot(\n",
    "        dict_psar['bear'],\n",
    "        type='scatter',\n",
    "        marker='o',\n",
    "        markersize=20,\n",
    "        color='blue',\n",
    "        label='downtrend',\n",
    "        ax=ax\n",
    "    ),\n",
    "    mpf.make_addplot(\n",
    "        dict_psar['bull'],\n",
    "        type='scatter',\n",
    "        marker='o',\n",
    "        markersize=20,\n",
    "        color='red',\n",
    "        label='uptrend',\n",
    "        ax=ax\n",
    "    ),\n",
    "] \n",
    "\n",
    "mpf.plot(\n",
    "    df,\n",
    "    type='candle',\n",
    "    style='default',\n",
    "    mav=(13, 26, 52),\n",
    "    volume=False,\n",
    "    datetime_format='%y-%m-%d',\n",
    "    addplot=apds,\n",
    "    xrotation=0,\n",
    "    ax=ax,\n",
    ")\n",
    "\n",
    "try:\n",
    "    ax.set_title('Weekly chart for %s (%s)\\nmav=(13, 26, 52)' % (ticker.info['longName'], symbol))\n",
    "except KeyError:\n",
    "    ax.set_title('Weekly chart for %s\\nmav=(13, 26, 52)' % symbol)\n",
    "\n",
    "ax.grid()\n",
    "ax.legend(loc='best')\n",
    "\n",
    "plt.tight_layout()\n",
    "\n",
    "m = pattern.match(symbol)\n",
    "if m:\n",
    "    plt.savefig('weekly_chart_%s.png' % m.group(1))\n",
    "else:\n",
    "    plt.savefig('weekly_chart_%s.png' % symbol)\n",
    "\n",
    "plt.show()"
   ]
  },
  {
   "cell_type": "code",
   "execution_count": 4,
   "id": "02289103-23b3-45c7-9be4-91c4f1e7958c",
   "metadata": {},
   "outputs": [
    {
     "data": {
      "text/plain": [
       "Date\n",
       "2025-01-13 00:00:00+09:00    656.0\n",
       "2025-01-20 00:00:00+09:00    695.0\n",
       "Name: Close, dtype: float64"
      ]
     },
     "execution_count": 4,
     "metadata": {},
     "output_type": "execute_result"
    }
   ],
   "source": [
    "df.tail(2)['Close']"
   ]
  },
  {
   "cell_type": "code",
   "execution_count": 5,
   "id": "c71558aa-1b70-454a-b538-e7c62b3710a2",
   "metadata": {},
   "outputs": [
    {
     "data": {
      "text/plain": [
       "Date\n",
       "2025-01-13 00:00:00+09:00     NaN\n",
       "2025-01-20 00:00:00+09:00    39.0\n",
       "Name: Close, dtype: float64"
      ]
     },
     "execution_count": 5,
     "metadata": {},
     "output_type": "execute_result"
    }
   ],
   "source": [
    "df.tail(2)['Close'].diff()"
   ]
  },
  {
   "cell_type": "code",
   "execution_count": 6,
   "id": "264ad245-7b2a-49b9-b38e-6140b2a23260",
   "metadata": {},
   "outputs": [
    {
     "data": {
      "text/plain": [
       "Date\n",
       "2025-01-13 00:00:00+09:00    704.0\n",
       "2025-01-20 00:00:00+09:00    718.2\n",
       "Name: Close, dtype: float64"
      ]
     },
     "execution_count": 6,
     "metadata": {},
     "output_type": "execute_result"
    }
   ],
   "source": [
    "df['Close'].rolling(5).mean().tail(2)"
   ]
  },
  {
   "cell_type": "code",
   "execution_count": 7,
   "id": "22705f9a-58ad-4fdd-ad4d-f331fd7d83fa",
   "metadata": {},
   "outputs": [
    {
     "data": {
      "text/plain": [
       "Date\n",
       "2025-01-13 00:00:00+09:00    639.28\n",
       "2025-01-20 00:00:00+09:00    645.88\n",
       "Name: Close, dtype: float64"
      ]
     },
     "execution_count": 7,
     "metadata": {},
     "output_type": "execute_result"
    }
   ],
   "source": [
    "df['Close'].rolling(25).mean().tail(2)"
   ]
  },
  {
   "cell_type": "code",
   "execution_count": 8,
   "id": "19d901ea-197d-4569-95b1-f0f4fea059eb",
   "metadata": {},
   "outputs": [
    {
     "data": {
      "text/plain": [
       "Date\n",
       "2025-01-13 00:00:00+09:00    852.066667\n",
       "2025-01-20 00:00:00+09:00    842.480000\n",
       "Name: Close, dtype: float64"
      ]
     },
     "execution_count": 8,
     "metadata": {},
     "output_type": "execute_result"
    }
   ],
   "source": [
    "df['Close'].rolling(75).mean().tail(2)"
   ]
  },
  {
   "cell_type": "code",
   "execution_count": null,
   "id": "15c58d8a-df32-423b-b5e4-495a7b928ba4",
   "metadata": {},
   "outputs": [],
   "source": []
  }
 ],
 "metadata": {
  "kernelspec": {
   "display_name": "Python 3 (ipykernel)",
   "language": "python",
   "name": "python3"
  },
  "language_info": {
   "codemirror_mode": {
    "name": "ipython",
    "version": 3
   },
   "file_extension": ".py",
   "mimetype": "text/x-python",
   "name": "python",
   "nbconvert_exporter": "python",
   "pygments_lexer": "ipython3",
   "version": "3.13.1"
  }
 },
 "nbformat": 4,
 "nbformat_minor": 5
}
