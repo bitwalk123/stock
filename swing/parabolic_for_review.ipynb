{
 "cells": [
  {
   "cell_type": "markdown",
   "id": "f5f8ef4a-1864-4735-8f4b-660f72c5a109",
   "metadata": {},
   "source": [
    "# Parabolic SAR レビュー用"
   ]
  },
  {
   "cell_type": "code",
   "execution_count": 1,
   "id": "cbd88358-004a-4528-bb59-0703271d474c",
   "metadata": {},
   "outputs": [],
   "source": [
    "import sys\n",
    "\n",
    "path_up = \"..\"\n",
    "if not path_up in sys.path:\n",
    "    sys.path.append(path_up)"
   ]
  },
  {
   "cell_type": "code",
   "execution_count": 2,
   "id": "4854d4e2-78eb-4a40-ab35-80d4dd54b73c",
   "metadata": {},
   "outputs": [],
   "source": [
    "import datetime\n",
    "import os\n",
    "import time\n",
    "import unicodedata\n",
    "\n",
    "import matplotlib.font_manager as fm\n",
    "import matplotlib.pyplot as plt\n",
    "import mplfinance as mpf\n",
    "import pandas as pd\n",
    "import yfinance as yf\n",
    "\n",
    "from funcs.tse import get_ticker_name_list\n",
    "from module.psar import ParabolicSAR"
   ]
  },
  {
   "cell_type": "code",
   "execution_count": null,
   "id": "0606d439-733d-4d1f-8861-a6bf8f0bbc83",
   "metadata": {},
   "outputs": [],
   "source": [
    "code = '4755'\n",
    "\n",
    "symbol = f\"{code}.T\"\n",
    "ticker = yf.Ticker(symbol)\n",
    "df0 = ticker.history(period=\"3y\", interval=\"1d\")\n",
    "psar = ParabolicSAR()\n",
    "psar.calc(df0)\n",
    "\n",
    "# チャート\n",
    "dt_last = df0.index[len(df0) - 1]\n",
    "tdelta_1y = datetime.timedelta(days=100)\n",
    "df = df0[df0.index >= dt_last - tdelta_1y].copy()\n",
    "\n",
    "FONT_PATH = \"../fonts/RictyDiminished-Regular.ttf\"\n",
    "fm.fontManager.addfont(FONT_PATH)\n",
    "\n",
    "# FontPropertiesオブジェクト生成（名前の取得のため）\n",
    "font_prop = fm.FontProperties(fname=FONT_PATH)\n",
    "font_prop.get_name()\n",
    "\n",
    "plt.rcParams[\"font.family\"] = font_prop.get_name()\n",
    "plt.rcParams[\"font.size\"] = 10\n",
    "fig = plt.figure(figsize=(6, 4))\n",
    "ax = dict()\n",
    "n = 2\n",
    "gs = fig.add_gridspec(\n",
    "    n, 1, wspace=0.0, hspace=0.0, height_ratios=[3 if i == 0 else 1 for i in range(n)]\n",
    ")\n",
    "for i, axis in enumerate(gs.subplots(sharex=\"col\")):\n",
    "    ax[i] = axis\n",
    "    ax[i].grid()\n",
    "\n",
    "mm05 = df0[\"Close\"].rolling(5).median()\n",
    "mm25 = df0[\"Close\"].rolling(25).median()\n",
    "mm75 = df0[\"Close\"].rolling(75).median()\n",
    "\n",
    "apds = [\n",
    "    mpf.make_addplot(mm05[df.index], width=0.75, label=\" 5d moving median\", ax=ax[0]),\n",
    "    mpf.make_addplot(mm25[df.index], width=0.75, label=\"25d moving median\", ax=ax[0]),\n",
    "    mpf.make_addplot(mm75[df.index], width=0.75, label=\"75d moving median\", ax=ax[0]),\n",
    "    mpf.make_addplot(df[\"Bear\"], type=\"scatter\", marker=\"o\", markersize=5, color=\"blue\", label=\"down trend\", ax=ax[0]),\n",
    "    mpf.make_addplot(df[\"Bull\"], type=\"scatter\", marker=\"o\", markersize=5, color=\"red\", label=\"up trend\", ax=ax[0]),\n",
    "]\n",
    "mpf.plot(df, type=\"candle\", style=\"default\", volume=ax[1], datetime_format=\"%m/%d\", addplot=apds, xrotation=0, ax=ax[0])\n",
    "\n",
    "dict_name = get_ticker_name_list([code])\n",
    "if code in dict_name.keys():\n",
    "    name = unicodedata.normalize('NFKC', dict_name[code])\n",
    "elif \"longName\" in ticker.info.keys():\n",
    "    name = ticker.info[\"longName\"]\n",
    "elif \"shortName\" in ticker.info.keys():\n",
    "    name = ticker.info[\"shortName\"]\n",
    "else:\n",
    "    name = \"\"\n",
    "\n",
    "ax[0].set_title(f\"{name} ({code})\")\n",
    "ax[0].legend(loc=\"best\", fontsize=7)\n",
    "\n",
    "plt.tight_layout()\n",
    "dt = df.tail(1).index[0]\n",
    "name_chart = f\"{dt.year:04d}{dt.month:02d}{dt.day:02d}_{code}_parabolic.png\"\n",
    "print(name_chart)\n",
    "plt.savefig(name_chart)\n",
    "plt.show()\n",
    "plt.close()"
   ]
  },
  {
   "cell_type": "code",
   "execution_count": null,
   "id": "08990d7c-4814-47fd-8a5b-7a19257a7cac",
   "metadata": {},
   "outputs": [],
   "source": []
  }
 ],
 "metadata": {
  "kernelspec": {
   "display_name": "Python 3 (ipykernel)",
   "language": "python",
   "name": "python3"
  },
  "language_info": {
   "codemirror_mode": {
    "name": "ipython",
    "version": 3
   },
   "file_extension": ".py",
   "mimetype": "text/x-python",
   "name": "python",
   "nbconvert_exporter": "python",
   "pygments_lexer": "ipython3",
   "version": "3.13.5"
  }
 },
 "nbformat": 4,
 "nbformat_minor": 5
}
