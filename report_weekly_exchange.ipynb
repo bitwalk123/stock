{
 "cells": [
  {
   "cell_type": "code",
   "execution_count": 1,
   "id": "c14a2fc6-21f3-47d0-a5f1-5fb5e1f40115",
   "metadata": {},
   "outputs": [
    {
     "data": {
      "text/html": [
       "<div>\n",
       "<style scoped>\n",
       "    .dataframe tbody tr th:only-of-type {\n",
       "        vertical-align: middle;\n",
       "    }\n",
       "\n",
       "    .dataframe tbody tr th {\n",
       "        vertical-align: top;\n",
       "    }\n",
       "\n",
       "    .dataframe thead th {\n",
       "        text-align: right;\n",
       "    }\n",
       "</style>\n",
       "<table border=\"1\" class=\"dataframe\">\n",
       "  <thead>\n",
       "    <tr style=\"text-align: right;\">\n",
       "      <th></th>\n",
       "      <th>Open</th>\n",
       "      <th>High</th>\n",
       "      <th>Low</th>\n",
       "      <th>Close</th>\n",
       "      <th>Volume</th>\n",
       "      <th>Dividends</th>\n",
       "      <th>Stock Splits</th>\n",
       "    </tr>\n",
       "    <tr>\n",
       "      <th>Date</th>\n",
       "      <th></th>\n",
       "      <th></th>\n",
       "      <th></th>\n",
       "      <th></th>\n",
       "      <th></th>\n",
       "      <th></th>\n",
       "      <th></th>\n",
       "    </tr>\n",
       "  </thead>\n",
       "  <tbody>\n",
       "    <tr>\n",
       "      <th>2022-10-31 00:00:00+00:00</th>\n",
       "      <td>148.737000</td>\n",
       "      <td>148.807007</td>\n",
       "      <td>146.578995</td>\n",
       "      <td>146.619995</td>\n",
       "      <td>0</td>\n",
       "      <td>0.0</td>\n",
       "      <td>0.0</td>\n",
       "    </tr>\n",
       "    <tr>\n",
       "      <th>2022-11-07 00:00:00+00:00</th>\n",
       "      <td>146.841003</td>\n",
       "      <td>147.552994</td>\n",
       "      <td>138.789993</td>\n",
       "      <td>138.800003</td>\n",
       "      <td>0</td>\n",
       "      <td>0.0</td>\n",
       "      <td>0.0</td>\n",
       "    </tr>\n",
       "    <tr>\n",
       "      <th>2022-11-14 00:00:00+00:00</th>\n",
       "      <td>139.552994</td>\n",
       "      <td>140.768997</td>\n",
       "      <td>137.809006</td>\n",
       "      <td>140.339996</td>\n",
       "      <td>0</td>\n",
       "      <td>0.0</td>\n",
       "      <td>0.0</td>\n",
       "    </tr>\n",
       "    <tr>\n",
       "      <th>2022-11-21 00:00:00+00:00</th>\n",
       "      <td>140.253006</td>\n",
       "      <td>142.238998</td>\n",
       "      <td>138.095001</td>\n",
       "      <td>139.119995</td>\n",
       "      <td>0</td>\n",
       "      <td>0.0</td>\n",
       "      <td>0.0</td>\n",
       "    </tr>\n",
       "    <tr>\n",
       "      <th>2022-11-28 00:00:00+00:00</th>\n",
       "      <td>139.309998</td>\n",
       "      <td>139.882996</td>\n",
       "      <td>133.673004</td>\n",
       "      <td>134.309998</td>\n",
       "      <td>0</td>\n",
       "      <td>0.0</td>\n",
       "      <td>0.0</td>\n",
       "    </tr>\n",
       "    <tr>\n",
       "      <th>...</th>\n",
       "      <td>...</td>\n",
       "      <td>...</td>\n",
       "      <td>...</td>\n",
       "      <td>...</td>\n",
       "      <td>...</td>\n",
       "      <td>...</td>\n",
       "      <td>...</td>\n",
       "    </tr>\n",
       "    <tr>\n",
       "      <th>2024-09-30 00:00:00+01:00</th>\n",
       "      <td>142.783005</td>\n",
       "      <td>148.738007</td>\n",
       "      <td>141.647003</td>\n",
       "      <td>148.720001</td>\n",
       "      <td>0</td>\n",
       "      <td>0.0</td>\n",
       "      <td>0.0</td>\n",
       "    </tr>\n",
       "    <tr>\n",
       "      <th>2024-10-07 00:00:00+01:00</th>\n",
       "      <td>148.820007</td>\n",
       "      <td>149.529999</td>\n",
       "      <td>147.388000</td>\n",
       "      <td>149.139999</td>\n",
       "      <td>0</td>\n",
       "      <td>0.0</td>\n",
       "      <td>0.0</td>\n",
       "    </tr>\n",
       "    <tr>\n",
       "      <th>2024-10-14 00:00:00+01:00</th>\n",
       "      <td>149.334000</td>\n",
       "      <td>150.139008</td>\n",
       "      <td>148.852997</td>\n",
       "      <td>149.520004</td>\n",
       "      <td>0</td>\n",
       "      <td>0.0</td>\n",
       "      <td>0.0</td>\n",
       "    </tr>\n",
       "    <tr>\n",
       "      <th>2024-10-21 00:00:00+01:00</th>\n",
       "      <td>149.600006</td>\n",
       "      <td>153.164993</td>\n",
       "      <td>149.095993</td>\n",
       "      <td>152.279999</td>\n",
       "      <td>0</td>\n",
       "      <td>0.0</td>\n",
       "      <td>0.0</td>\n",
       "    </tr>\n",
       "    <tr>\n",
       "      <th>2024-10-28 00:00:00+00:00</th>\n",
       "      <td>152.951996</td>\n",
       "      <td>153.867996</td>\n",
       "      <td>151.778000</td>\n",
       "      <td>152.945999</td>\n",
       "      <td>0</td>\n",
       "      <td>0.0</td>\n",
       "      <td>0.0</td>\n",
       "    </tr>\n",
       "  </tbody>\n",
       "</table>\n",
       "<p>105 rows × 7 columns</p>\n",
       "</div>"
      ],
      "text/plain": [
       "                                 Open        High         Low       Close  \\\n",
       "Date                                                                        \n",
       "2022-10-31 00:00:00+00:00  148.737000  148.807007  146.578995  146.619995   \n",
       "2022-11-07 00:00:00+00:00  146.841003  147.552994  138.789993  138.800003   \n",
       "2022-11-14 00:00:00+00:00  139.552994  140.768997  137.809006  140.339996   \n",
       "2022-11-21 00:00:00+00:00  140.253006  142.238998  138.095001  139.119995   \n",
       "2022-11-28 00:00:00+00:00  139.309998  139.882996  133.673004  134.309998   \n",
       "...                               ...         ...         ...         ...   \n",
       "2024-09-30 00:00:00+01:00  142.783005  148.738007  141.647003  148.720001   \n",
       "2024-10-07 00:00:00+01:00  148.820007  149.529999  147.388000  149.139999   \n",
       "2024-10-14 00:00:00+01:00  149.334000  150.139008  148.852997  149.520004   \n",
       "2024-10-21 00:00:00+01:00  149.600006  153.164993  149.095993  152.279999   \n",
       "2024-10-28 00:00:00+00:00  152.951996  153.867996  151.778000  152.945999   \n",
       "\n",
       "                           Volume  Dividends  Stock Splits  \n",
       "Date                                                        \n",
       "2022-10-31 00:00:00+00:00       0        0.0           0.0  \n",
       "2022-11-07 00:00:00+00:00       0        0.0           0.0  \n",
       "2022-11-14 00:00:00+00:00       0        0.0           0.0  \n",
       "2022-11-21 00:00:00+00:00       0        0.0           0.0  \n",
       "2022-11-28 00:00:00+00:00       0        0.0           0.0  \n",
       "...                           ...        ...           ...  \n",
       "2024-09-30 00:00:00+01:00       0        0.0           0.0  \n",
       "2024-10-07 00:00:00+01:00       0        0.0           0.0  \n",
       "2024-10-14 00:00:00+01:00       0        0.0           0.0  \n",
       "2024-10-21 00:00:00+01:00       0        0.0           0.0  \n",
       "2024-10-28 00:00:00+00:00       0        0.0           0.0  \n",
       "\n",
       "[105 rows x 7 columns]"
      ]
     },
     "execution_count": 1,
     "metadata": {},
     "output_type": "execute_result"
    }
   ],
   "source": [
    "import matplotlib.pyplot as plt\n",
    "import mplfinance as mpf\n",
    "import yfinance as yf\n",
    "\n",
    "symbol = 'USDJPY=X'\n",
    "#symbol = 'USDJPY=X'\n",
    "ticker = yf.Ticker(symbol)\n",
    "df = ticker.history(period='2y', interval='1wk')\n",
    "df"
   ]
  },
  {
   "cell_type": "code",
   "execution_count": 11,
   "id": "17d8fa47-23ac-42a6-9f06-d52701bb7a6e",
   "metadata": {},
   "outputs": [
    {
     "data": {
      "image/png": "[encoded data removed]",
      "text/plain": [
       "<Figure size 1200x600 with 1 Axes>"
      ]
     },
     "metadata": {},
     "output_type": "display_data"
    }
   ],
   "source": [
    "fig = plt.figure(figsize=(12, 6))\n",
    "#ax = fig.add_axes(111)\n",
    "ax = fig.add_subplot(111)\n",
    "\n",
    "mpf.plot(\n",
    "    df, type='candle', style='yahoo',\n",
    "    mav=(13, 26, 52),\n",
    "    volume=False,\n",
    "    datetime_format='%Y-%m-%d',\n",
    "    xrotation=0,\n",
    "    ax=ax,\n",
    ")\n",
    "ax.set_title('Weekly chart for %s\\nmav=(13, 26, 52)' % symbol)\n",
    "ax.grid()\n",
    "\n",
    "plt.tight_layout()\n",
    "plt.savefig('weekly_chart_exchange.png')\n",
    "plt.show()"
   ]
  },
  {
   "cell_type": "code",
   "execution_count": 12,
   "id": "58b4bcfa-ad40-4df1-8e0b-0126ecb3abc3",
   "metadata": {},
   "outputs": [
    {
     "data": {
      "text/html": [
       "<div>\n",
       "<style scoped>\n",
       "    .dataframe tbody tr th:only-of-type {\n",
       "        vertical-align: middle;\n",
       "    }\n",
       "\n",
       "    .dataframe tbody tr th {\n",
       "        vertical-align: top;\n",
       "    }\n",
       "\n",
       "    .dataframe thead th {\n",
       "        text-align: right;\n",
       "    }\n",
       "</style>\n",
       "<table border=\"1\" class=\"dataframe\">\n",
       "  <thead>\n",
       "    <tr style=\"text-align: right;\">\n",
       "      <th></th>\n",
       "      <th>Open</th>\n",
       "      <th>High</th>\n",
       "      <th>Low</th>\n",
       "      <th>Close</th>\n",
       "      <th>Volume</th>\n",
       "      <th>Dividends</th>\n",
       "      <th>Stock Splits</th>\n",
       "    </tr>\n",
       "    <tr>\n",
       "      <th>Date</th>\n",
       "      <th></th>\n",
       "      <th></th>\n",
       "      <th></th>\n",
       "      <th></th>\n",
       "      <th></th>\n",
       "      <th></th>\n",
       "      <th></th>\n",
       "    </tr>\n",
       "  </thead>\n",
       "  <tbody>\n",
       "    <tr>\n",
       "      <th>2024-10-28 00:00:00+00:00</th>\n",
       "      <td>152.951996</td>\n",
       "      <td>153.867996</td>\n",
       "      <td>151.778</td>\n",
       "      <td>152.945999</td>\n",
       "      <td>0</td>\n",
       "      <td>0.0</td>\n",
       "      <td>0.0</td>\n",
       "    </tr>\n",
       "  </tbody>\n",
       "</table>\n",
       "</div>"
      ],
      "text/plain": [
       "                                 Open        High      Low       Close  \\\n",
       "Date                                                                     \n",
       "2024-10-28 00:00:00+00:00  152.951996  153.867996  151.778  152.945999   \n",
       "\n",
       "                           Volume  Dividends  Stock Splits  \n",
       "Date                                                        \n",
       "2024-10-28 00:00:00+00:00       0        0.0           0.0  "
      ]
     },
     "execution_count": 12,
     "metadata": {},
     "output_type": "execute_result"
    }
   ],
   "source": [
    "df.tail(1)"
   ]
  },
  {
   "cell_type": "code",
   "execution_count": 13,
   "id": "60c07842-88e5-4d06-8c0d-91c0f29bf7eb",
   "metadata": {},
   "outputs": [
    {
     "data": {
      "text/html": [
       "<div>\n",
       "<style scoped>\n",
       "    .dataframe tbody tr th:only-of-type {\n",
       "        vertical-align: middle;\n",
       "    }\n",
       "\n",
       "    .dataframe tbody tr th {\n",
       "        vertical-align: top;\n",
       "    }\n",
       "\n",
       "    .dataframe thead th {\n",
       "        text-align: right;\n",
       "    }\n",
       "</style>\n",
       "<table border=\"1\" class=\"dataframe\">\n",
       "  <thead>\n",
       "    <tr style=\"text-align: right;\">\n",
       "      <th></th>\n",
       "      <th>Open</th>\n",
       "      <th>High</th>\n",
       "      <th>Low</th>\n",
       "      <th>Close</th>\n",
       "      <th>Volume</th>\n",
       "      <th>Dividends</th>\n",
       "      <th>Stock Splits</th>\n",
       "    </tr>\n",
       "    <tr>\n",
       "      <th>Date</th>\n",
       "      <th></th>\n",
       "      <th></th>\n",
       "      <th></th>\n",
       "      <th></th>\n",
       "      <th></th>\n",
       "      <th></th>\n",
       "      <th></th>\n",
       "    </tr>\n",
       "  </thead>\n",
       "  <tbody>\n",
       "    <tr>\n",
       "      <th>2024-10-28 00:00:00+00:00</th>\n",
       "      <td>152.951996</td>\n",
       "      <td>153.867996</td>\n",
       "      <td>151.778</td>\n",
       "      <td>152.945999</td>\n",
       "      <td>0</td>\n",
       "      <td>0.0</td>\n",
       "      <td>0.0</td>\n",
       "    </tr>\n",
       "  </tbody>\n",
       "</table>\n",
       "</div>"
      ],
      "text/plain": [
       "                                 Open        High      Low       Close  \\\n",
       "Date                                                                     \n",
       "2024-10-28 00:00:00+00:00  152.951996  153.867996  151.778  152.945999   \n",
       "\n",
       "                           Volume  Dividends  Stock Splits  \n",
       "Date                                                        \n",
       "2024-10-28 00:00:00+00:00       0        0.0           0.0  "
      ]
     },
     "execution_count": 13,
     "metadata": {},
     "output_type": "execute_result"
    }
   ],
   "source": [
    "df.tail(1)"
   ]
  },
  {
   "cell_type": "code",
   "execution_count": 14,
   "id": "b5ddac87-7aca-4a91-a167-e92aca64f6e7",
   "metadata": {},
   "outputs": [
    {
     "data": {
      "text/plain": [
       "Date\n",
       "2024-10-21 00:00:00+01:00    152.279999\n",
       "2024-10-28 00:00:00+00:00    152.945999\n",
       "Name: Close, dtype: float64"
      ]
     },
     "execution_count": 14,
     "metadata": {},
     "output_type": "execute_result"
    }
   ],
   "source": [
    "df.tail(2)['Close']"
   ]
  },
  {
   "cell_type": "code",
   "execution_count": 15,
   "id": "c16b51e9-cee6-43ea-b5af-a4a1124c2624",
   "metadata": {},
   "outputs": [
    {
     "data": {
      "text/plain": [
       "Date\n",
       "2024-10-21 00:00:00+01:00      NaN\n",
       "2024-10-28 00:00:00+00:00    0.666\n",
       "Name: Close, dtype: float64"
      ]
     },
     "execution_count": 15,
     "metadata": {},
     "output_type": "execute_result"
    }
   ],
   "source": [
    "df.tail(2)['Close'].diff()"
   ]
  },
  {
   "cell_type": "code",
   "execution_count": 16,
   "id": "9b81b628-5fb1-4c6e-bbf2-be39d517c427",
   "metadata": {},
   "outputs": [
    {
     "data": {
      "text/plain": [
       "Date\n",
       "2022-10-31 00:00:00+00:00           NaN\n",
       "2022-11-07 00:00:00+00:00           NaN\n",
       "2022-11-14 00:00:00+00:00           NaN\n",
       "2022-11-21 00:00:00+00:00           NaN\n",
       "2022-11-28 00:00:00+00:00           NaN\n",
       "                                ...    \n",
       "2024-09-30 00:00:00+01:00    152.246923\n",
       "2024-10-07 00:00:00+01:00    152.088077\n",
       "2024-10-14 00:00:00+01:00    151.891923\n",
       "2024-10-21 00:00:00+01:00    151.668462\n",
       "2024-10-28 00:00:00+00:00    151.664847\n",
       "Name: Close, Length: 105, dtype: float64"
      ]
     },
     "execution_count": 16,
     "metadata": {},
     "output_type": "execute_result"
    }
   ],
   "source": [
    "df['Close'].rolling(26).mean()"
   ]
  },
  {
   "cell_type": "code",
   "execution_count": 17,
   "id": "f67aff9f-3963-4ebf-a482-036301eff3cb",
   "metadata": {},
   "outputs": [
    {
     "data": {
      "text/plain": [
       "Date\n",
       "2022-10-31 00:00:00+00:00           NaN\n",
       "2022-11-07 00:00:00+00:00           NaN\n",
       "2022-11-14 00:00:00+00:00           NaN\n",
       "2022-11-21 00:00:00+00:00           NaN\n",
       "2022-11-28 00:00:00+00:00           NaN\n",
       "                                ...    \n",
       "2024-09-30 00:00:00+01:00    150.179327\n",
       "2024-10-07 00:00:00+01:00    150.171346\n",
       "2024-10-14 00:00:00+01:00    150.165000\n",
       "2024-10-21 00:00:00+01:00    150.215442\n",
       "2024-10-28 00:00:00+00:00    150.284307\n",
       "Name: Close, Length: 105, dtype: float64"
      ]
     },
     "execution_count": 17,
     "metadata": {},
     "output_type": "execute_result"
    }
   ],
   "source": [
    "df['Close'].rolling(52).mean()"
   ]
  },
  {
   "cell_type": "code",
   "execution_count": null,
   "id": "68256757-455b-4638-bef9-7411e005bce3",
   "metadata": {},
   "outputs": [],
   "source": []
  }
 ],
 "metadata": {
  "kernelspec": {
   "display_name": "Python 3 (ipykernel)",
   "language": "python",
   "name": "python3"
  },
  "language_info": {
   "codemirror_mode": {
    "name": "ipython",
    "version": 3
   },
   "file_extension": ".py",
   "mimetype": "text/x-python",
   "name": "python",
   "nbconvert_exporter": "python",
   "pygments_lexer": "ipython3",
   "version": "3.12.7"
  }
 },
 "nbformat": 4,
 "nbformat_minor": 5
}
