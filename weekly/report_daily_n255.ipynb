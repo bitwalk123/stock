{
 "cells": [
  {
   "cell_type": "markdown",
   "id": "52a2670c-4c51-4045-a062-07a2721ad756",
   "metadata": {},
   "source": [
    "# 日経平均株価 日足"
   ]
  },
  {
   "cell_type": "code",
   "execution_count": 10,
   "id": "6834dd84-ba52-49e6-a4e1-73cf33186524",
   "metadata": {},
   "outputs": [
    {
     "data": {
      "text/html": [
       "<div>\n",
       "<style scoped>\n",
       "    .dataframe tbody tr th:only-of-type {\n",
       "        vertical-align: middle;\n",
       "    }\n",
       "\n",
       "    .dataframe tbody tr th {\n",
       "        vertical-align: top;\n",
       "    }\n",
       "\n",
       "    .dataframe thead th {\n",
       "        text-align: right;\n",
       "    }\n",
       "</style>\n",
       "<table border=\"1\" class=\"dataframe\">\n",
       "  <thead>\n",
       "    <tr style=\"text-align: right;\">\n",
       "      <th></th>\n",
       "      <th>Open</th>\n",
       "      <th>High</th>\n",
       "      <th>Low</th>\n",
       "      <th>Close</th>\n",
       "      <th>Volume</th>\n",
       "      <th>Dividends</th>\n",
       "      <th>Stock Splits</th>\n",
       "    </tr>\n",
       "    <tr>\n",
       "      <th>Date</th>\n",
       "      <th></th>\n",
       "      <th></th>\n",
       "      <th></th>\n",
       "      <th></th>\n",
       "      <th></th>\n",
       "      <th></th>\n",
       "      <th></th>\n",
       "    </tr>\n",
       "  </thead>\n",
       "  <tbody>\n",
       "    <tr>\n",
       "      <th>2024-06-20 00:00:00+09:00</th>\n",
       "      <td>38410.320312</td>\n",
       "      <td>38637.621094</td>\n",
       "      <td>38263.078125</td>\n",
       "      <td>38633.019531</td>\n",
       "      <td>88000000</td>\n",
       "      <td>0.0</td>\n",
       "      <td>0.0</td>\n",
       "    </tr>\n",
       "    <tr>\n",
       "      <th>2024-06-21 00:00:00+09:00</th>\n",
       "      <td>38608.660156</td>\n",
       "      <td>38795.679688</td>\n",
       "      <td>38532.128906</td>\n",
       "      <td>38596.468750</td>\n",
       "      <td>140800000</td>\n",
       "      <td>0.0</td>\n",
       "      <td>0.0</td>\n",
       "    </tr>\n",
       "    <tr>\n",
       "      <th>2024-06-24 00:00:00+09:00</th>\n",
       "      <td>38497.421875</td>\n",
       "      <td>38905.468750</td>\n",
       "      <td>38416.070312</td>\n",
       "      <td>38804.648438</td>\n",
       "      <td>93500000</td>\n",
       "      <td>0.0</td>\n",
       "      <td>0.0</td>\n",
       "    </tr>\n",
       "    <tr>\n",
       "      <th>2024-06-25 00:00:00+09:00</th>\n",
       "      <td>38833.898438</td>\n",
       "      <td>39215.070312</td>\n",
       "      <td>38758.070312</td>\n",
       "      <td>39173.148438</td>\n",
       "      <td>108300000</td>\n",
       "      <td>0.0</td>\n",
       "      <td>0.0</td>\n",
       "    </tr>\n",
       "    <tr>\n",
       "      <th>2024-06-26 00:00:00+09:00</th>\n",
       "      <td>39364.730469</td>\n",
       "      <td>39788.628906</td>\n",
       "      <td>39233.558594</td>\n",
       "      <td>39667.070312</td>\n",
       "      <td>108900000</td>\n",
       "      <td>0.0</td>\n",
       "      <td>0.0</td>\n",
       "    </tr>\n",
       "    <tr>\n",
       "      <th>...</th>\n",
       "      <td>...</td>\n",
       "      <td>...</td>\n",
       "      <td>...</td>\n",
       "      <td>...</td>\n",
       "      <td>...</td>\n",
       "      <td>...</td>\n",
       "      <td>...</td>\n",
       "    </tr>\n",
       "    <tr>\n",
       "      <th>2024-12-16 00:00:00+09:00</th>\n",
       "      <td>39551.218750</td>\n",
       "      <td>39632.171875</td>\n",
       "      <td>39371.421875</td>\n",
       "      <td>39457.488281</td>\n",
       "      <td>87500000</td>\n",
       "      <td>0.0</td>\n",
       "      <td>0.0</td>\n",
       "    </tr>\n",
       "    <tr>\n",
       "      <th>2024-12-17 00:00:00+09:00</th>\n",
       "      <td>39589.648438</td>\n",
       "      <td>39796.218750</td>\n",
       "      <td>39364.679688</td>\n",
       "      <td>39364.679688</td>\n",
       "      <td>115700000</td>\n",
       "      <td>0.0</td>\n",
       "      <td>0.0</td>\n",
       "    </tr>\n",
       "    <tr>\n",
       "      <th>2024-12-18 00:00:00+09:00</th>\n",
       "      <td>39176.878906</td>\n",
       "      <td>39382.691406</td>\n",
       "      <td>39081.710938</td>\n",
       "      <td>39081.710938</td>\n",
       "      <td>132200000</td>\n",
       "      <td>0.0</td>\n",
       "      <td>0.0</td>\n",
       "    </tr>\n",
       "    <tr>\n",
       "      <th>2024-12-19 00:00:00+09:00</th>\n",
       "      <td>38522.269531</td>\n",
       "      <td>38913.070312</td>\n",
       "      <td>38355.519531</td>\n",
       "      <td>38813.578125</td>\n",
       "      <td>147700000</td>\n",
       "      <td>0.0</td>\n",
       "      <td>0.0</td>\n",
       "    </tr>\n",
       "    <tr>\n",
       "      <th>2024-12-20 00:00:00+09:00</th>\n",
       "      <td>38950.281250</td>\n",
       "      <td>39039.679688</td>\n",
       "      <td>38701.898438</td>\n",
       "      <td>38701.898438</td>\n",
       "      <td>0</td>\n",
       "      <td>0.0</td>\n",
       "      <td>0.0</td>\n",
       "    </tr>\n",
       "  </tbody>\n",
       "</table>\n",
       "<p>126 rows × 7 columns</p>\n",
       "</div>"
      ],
      "text/plain": [
       "                                   Open          High           Low  \\\n",
       "Date                                                                  \n",
       "2024-06-20 00:00:00+09:00  38410.320312  38637.621094  38263.078125   \n",
       "2024-06-21 00:00:00+09:00  38608.660156  38795.679688  38532.128906   \n",
       "2024-06-24 00:00:00+09:00  38497.421875  38905.468750  38416.070312   \n",
       "2024-06-25 00:00:00+09:00  38833.898438  39215.070312  38758.070312   \n",
       "2024-06-26 00:00:00+09:00  39364.730469  39788.628906  39233.558594   \n",
       "...                                 ...           ...           ...   \n",
       "2024-12-16 00:00:00+09:00  39551.218750  39632.171875  39371.421875   \n",
       "2024-12-17 00:00:00+09:00  39589.648438  39796.218750  39364.679688   \n",
       "2024-12-18 00:00:00+09:00  39176.878906  39382.691406  39081.710938   \n",
       "2024-12-19 00:00:00+09:00  38522.269531  38913.070312  38355.519531   \n",
       "2024-12-20 00:00:00+09:00  38950.281250  39039.679688  38701.898438   \n",
       "\n",
       "                                  Close     Volume  Dividends  Stock Splits  \n",
       "Date                                                                         \n",
       "2024-06-20 00:00:00+09:00  38633.019531   88000000        0.0           0.0  \n",
       "2024-06-21 00:00:00+09:00  38596.468750  140800000        0.0           0.0  \n",
       "2024-06-24 00:00:00+09:00  38804.648438   93500000        0.0           0.0  \n",
       "2024-06-25 00:00:00+09:00  39173.148438  108300000        0.0           0.0  \n",
       "2024-06-26 00:00:00+09:00  39667.070312  108900000        0.0           0.0  \n",
       "...                                 ...        ...        ...           ...  \n",
       "2024-12-16 00:00:00+09:00  39457.488281   87500000        0.0           0.0  \n",
       "2024-12-17 00:00:00+09:00  39364.679688  115700000        0.0           0.0  \n",
       "2024-12-18 00:00:00+09:00  39081.710938  132200000        0.0           0.0  \n",
       "2024-12-19 00:00:00+09:00  38813.578125  147700000        0.0           0.0  \n",
       "2024-12-20 00:00:00+09:00  38701.898438          0        0.0           0.0  \n",
       "\n",
       "[126 rows x 7 columns]"
      ]
     },
     "execution_count": 10,
     "metadata": {},
     "output_type": "execute_result"
    }
   ],
   "source": [
    "import matplotlib.pyplot as plt\n",
    "import mplfinance as mpf\n",
    "import numpy as np\n",
    "import pandas as pd\n",
    "import yfinance as yf\n",
    "\n",
    "symbol = '^N225'\n",
    "ticker = yf.Ticker(symbol)\n",
    "\n",
    "df = ticker.history(period='6mo')\n",
    "df"
   ]
  },
  {
   "cell_type": "markdown",
   "id": "d962988e-3347-4589-b186-27510a8d1d9b",
   "metadata": {},
   "source": [
    "## パラボリック SAR"
   ]
  },
  {
   "cell_type": "code",
   "execution_count": 11,
   "id": "8a50fcec-f72e-414f-89ea-d5c3926b60fd",
   "metadata": {},
   "outputs": [],
   "source": [
    "def psar(ohlc: pd.DataFrame, iaf: float = 0.02, maxaf: float = 0.2) -> dict:\n",
    "    length = len(ohlc)\n",
    "    high = ohlc['High'].tolist()\n",
    "    low = ohlc['Low'].tolist()\n",
    "    close = ohlc['Close'].tolist()\n",
    " \n",
    "    psar = close[0:len(close)]\n",
    "    psarbull = [None] * length\n",
    "    psarbear = [None] * length\n",
    " \n",
    "    bull = True\n",
    "    af = iaf\n",
    "    ep = low[0]\n",
    "    price_high = high[0]\n",
    "    price_low = low[0]\n",
    " \n",
    "    for i in range(2, length):\n",
    "        if bull:\n",
    "            psar[i] = psar[i - 1] + af * (price_high - psar[i - 1])\n",
    "        else:\n",
    "            psar[i] = psar[i - 1] + af * (price_low - psar[i - 1])\n",
    "        reverse = False\n",
    " \n",
    "        if bull:\n",
    "            if low[i] < psar[i]:\n",
    "                bull = False\n",
    "                reverse = True\n",
    "                psar[i] = price_high\n",
    "                price_low = low[i]\n",
    "                af = iaf\n",
    "        else:\n",
    "            if high[i] > psar[i]:\n",
    "                bull = True\n",
    "                reverse = True\n",
    "                psar[i] = price_low\n",
    "                price_high = high[i]\n",
    "                af = iaf\n",
    " \n",
    "        if not reverse:\n",
    "            if bull:\n",
    "                if high[i] > price_high:\n",
    "                    price_high = high[i]\n",
    "                    af = min(af + iaf, maxaf)\n",
    "                if low[i - 1] < psar[i]:\n",
    "                    psar[i] = low[i - 1]\n",
    "                if low[i - 2] < psar[i]:\n",
    "                    psar[i] = low[i - 2]\n",
    "            else:\n",
    "                if low[i] < price_low:\n",
    "                    price_low = low[i]\n",
    "                    af = min(af + iaf, maxaf)\n",
    "                if high[i - 1] > psar[i]:\n",
    "                    psar[i] = high[i - 1]\n",
    "                if high[i - 2] > psar[i]:\n",
    "                    psar[i] = high[i - 2]\n",
    " \n",
    "        if bull:\n",
    "            psarbull[i] = psar[i]\n",
    "        else:\n",
    "            psarbear[i] = psar[i]\n",
    " \n",
    "    return {\n",
    "        'bear': np.array(psarbear, dtype='float64'),\n",
    "        'bull': np.array(psarbull, dtype='float64'),\n",
    "    }"
   ]
  },
  {
   "cell_type": "markdown",
   "id": "a8e1eedf-42ee-48d9-90b7-a03984127b91",
   "metadata": {},
   "source": [
    "## 日足チャートとパラボリック SAR"
   ]
  },
  {
   "cell_type": "code",
   "execution_count": 12,
   "id": "9992dabc-2cb3-4cea-b153-802c5fd5b5fb",
   "metadata": {},
   "outputs": [
    {
     "name": "stderr",
     "output_type": "stream",
     "text": [
      "401 Client Error: Unauthorized for url: https://query2.finance.yahoo.com/v10/finance/quoteSummary/%5EN225?modules=financialData%2CquoteType%2CdefaultKeyStatistics%2CassetProfile%2CsummaryDetail&corsDomain=finance.yahoo.com&formatted=false&symbol=%5EN225&crumb=zzsEMrolCiZ\n"
     ]
    },
    {
     "data": {
      "image/png": "[encoded data removed]",
      "text/plain": [
       "<Figure size 1200x600 with 1 Axes>"
      ]
     },
     "metadata": {},
     "output_type": "display_data"
    }
   ],
   "source": [
    "dict_psar = psar(df)\n",
    "\n",
    "fig = plt.figure(figsize=(12, 6))\n",
    "ax = fig.add_subplot(111)\n",
    "\n",
    "apds  = [\n",
    "    mpf.make_addplot(\n",
    "        dict_psar['bear'],\n",
    "        type='scatter',\n",
    "        marker='o',\n",
    "        markersize=10,\n",
    "        color='blue',\n",
    "        label='downtrend',\n",
    "        ax=ax\n",
    "    ),\n",
    "    mpf.make_addplot(\n",
    "        dict_psar['bull'],\n",
    "        type='scatter',\n",
    "        marker='o',\n",
    "        markersize=10,\n",
    "        color='red',\n",
    "        label='uptrend',\n",
    "        ax=ax\n",
    "    ),\n",
    "] \n",
    "\n",
    "mpf.plot(\n",
    "    df,\n",
    "    type='candle',\n",
    "    style='default',\n",
    "    mav=(5, 25, 75),\n",
    "    volume=False,\n",
    "    datetime_format='%m-%d',\n",
    "    addplot=apds,\n",
    "    xrotation=0,\n",
    "    ax=ax,\n",
    ")\n",
    "try:\n",
    "    ax.set_title('Daily chart for %s (%s)\\nmav=(5, 25, 75)' % (ticker.info['longName'], symbol))\n",
    "except KeyError:\n",
    "    ax.set_title('Daily chart for %s\\nmav=(5, 25, 75)' % symbol)\n",
    "\n",
    "ax.grid()\n",
    "\n",
    "plt.tight_layout()\n",
    "plt.savefig('daily_chart_n225.png')\n",
    "plt.show()"
   ]
  },
  {
   "cell_type": "code",
   "execution_count": 4,
   "id": "02289103-23b3-45c7-9be4-91c4f1e7958c",
   "metadata": {},
   "outputs": [
    {
     "data": {
      "text/plain": [
       "Date\n",
       "2024-12-19 00:00:00+09:00    38813.578125\n",
       "2024-12-20 00:00:00+09:00    38701.898438\n",
       "Name: Close, dtype: float64"
      ]
     },
     "execution_count": 4,
     "metadata": {},
     "output_type": "execute_result"
    }
   ],
   "source": [
    "df.tail(2)['Close']"
   ]
  },
  {
   "cell_type": "code",
   "execution_count": 25,
   "id": "c71558aa-1b70-454a-b538-e7c62b3710a2",
   "metadata": {},
   "outputs": [
    {
     "data": {
      "text/plain": [
       "Date\n",
       "2024-12-19 00:00:00+09:00           NaN\n",
       "2024-12-20 00:00:00+09:00    188.390625\n",
       "Name: Close, dtype: float64"
      ]
     },
     "execution_count": 25,
     "metadata": {},
     "output_type": "execute_result"
    }
   ],
   "source": [
    "df.tail(2)['Close'].diff()"
   ]
  },
  {
   "cell_type": "code",
   "execution_count": 26,
   "id": "6be1421f-d099-45e8-8bc3-c8d627c58968",
   "metadata": {},
   "outputs": [
    {
     "data": {
      "text/plain": [
       "Date\n",
       "2024-06-20 00:00:00+09:00             NaN\n",
       "2024-06-21 00:00:00+09:00             NaN\n",
       "2024-06-24 00:00:00+09:00             NaN\n",
       "2024-06-25 00:00:00+09:00             NaN\n",
       "2024-06-26 00:00:00+09:00             NaN\n",
       "                                 ...     \n",
       "2024-12-16 00:00:00+09:00    38827.625000\n",
       "2024-12-17 00:00:00+09:00    38827.168594\n",
       "2024-12-18 00:00:00+09:00    38841.570625\n",
       "2024-12-19 00:00:00+09:00    38852.685781\n",
       "2024-12-20 00:00:00+09:00    38867.048125\n",
       "Name: Close, Length: 126, dtype: float64"
      ]
     },
     "execution_count": 26,
     "metadata": {},
     "output_type": "execute_result"
    }
   ],
   "source": [
    "df['Close'].rolling(25).mean()"
   ]
  },
  {
   "cell_type": "code",
   "execution_count": 27,
   "id": "891d1909-3c6c-4535-a882-ba7aad2f2f28",
   "metadata": {},
   "outputs": [
    {
     "data": {
      "text/plain": [
       "Date\n",
       "2024-06-20 00:00:00+09:00             NaN\n",
       "2024-06-21 00:00:00+09:00             NaN\n",
       "2024-06-24 00:00:00+09:00             NaN\n",
       "2024-06-25 00:00:00+09:00             NaN\n",
       "2024-06-26 00:00:00+09:00             NaN\n",
       "                                 ...     \n",
       "2024-12-16 00:00:00+09:00    38452.025417\n",
       "2024-12-17 00:00:00+09:00    38465.264323\n",
       "2024-12-18 00:00:00+09:00    38474.853385\n",
       "2024-12-19 00:00:00+09:00    38477.064427\n",
       "2024-12-20 00:00:00+09:00    38481.079063\n",
       "Name: Close, Length: 126, dtype: float64"
      ]
     },
     "execution_count": 27,
     "metadata": {},
     "output_type": "execute_result"
    }
   ],
   "source": [
    "df['Close'].rolling(75).mean()"
   ]
  },
  {
   "cell_type": "code",
   "execution_count": null,
   "id": "ed6538a1-1102-450e-ba62-1ad2e562d213",
   "metadata": {},
   "outputs": [],
   "source": []
  }
 ],
 "metadata": {
  "kernelspec": {
   "display_name": "Python 3 (ipykernel)",
   "language": "python",
   "name": "python3"
  },
  "language_info": {
   "codemirror_mode": {
    "name": "ipython",
    "version": 3
   },
   "file_extension": ".py",
   "mimetype": "text/x-python",
   "name": "python",
   "nbconvert_exporter": "python",
   "pygments_lexer": "ipython3",
   "version": "3.13.0"
  }
 },
 "nbformat": 4,
 "nbformat_minor": 5
}
