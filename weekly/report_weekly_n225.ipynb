{
 "cells": [
  {
   "cell_type": "code",
   "execution_count": 1,
   "id": "c14a2fc6-21f3-47d0-a5f1-5fb5e1f40115",
   "metadata": {},
   "outputs": [
    {
     "data": {
      "text/html": [
       "<div>\n",
       "<style scoped>\n",
       "    .dataframe tbody tr th:only-of-type {\n",
       "        vertical-align: middle;\n",
       "    }\n",
       "\n",
       "    .dataframe tbody tr th {\n",
       "        vertical-align: top;\n",
       "    }\n",
       "\n",
       "    .dataframe thead th {\n",
       "        text-align: right;\n",
       "    }\n",
       "</style>\n",
       "<table border=\"1\" class=\"dataframe\">\n",
       "  <thead>\n",
       "    <tr style=\"text-align: right;\">\n",
       "      <th></th>\n",
       "      <th>Open</th>\n",
       "      <th>High</th>\n",
       "      <th>Low</th>\n",
       "      <th>Close</th>\n",
       "      <th>Volume</th>\n",
       "      <th>Dividends</th>\n",
       "      <th>Stock Splits</th>\n",
       "    </tr>\n",
       "    <tr>\n",
       "      <th>Date</th>\n",
       "      <th></th>\n",
       "      <th></th>\n",
       "      <th></th>\n",
       "      <th></th>\n",
       "      <th></th>\n",
       "      <th></th>\n",
       "      <th></th>\n",
       "    </tr>\n",
       "  </thead>\n",
       "  <tbody>\n",
       "    <tr>\n",
       "      <th>2022-11-28 00:00:00+09:00</th>\n",
       "      <td>27991.500000</td>\n",
       "      <td>28423.460938</td>\n",
       "      <td>27662.119141</td>\n",
       "      <td>27777.900391</td>\n",
       "      <td>322200000</td>\n",
       "      <td>0.0</td>\n",
       "      <td>0.0</td>\n",
       "    </tr>\n",
       "    <tr>\n",
       "      <th>2022-12-05 00:00:00+09:00</th>\n",
       "      <td>27752.990234</td>\n",
       "      <td>27952.800781</td>\n",
       "      <td>27415.660156</td>\n",
       "      <td>27901.009766</td>\n",
       "      <td>322400000</td>\n",
       "      <td>0.0</td>\n",
       "      <td>0.0</td>\n",
       "    </tr>\n",
       "    <tr>\n",
       "      <th>2022-12-12 00:00:00+09:00</th>\n",
       "      <td>27741.099609</td>\n",
       "      <td>28195.689453</td>\n",
       "      <td>27488.830078</td>\n",
       "      <td>27527.119141</td>\n",
       "      <td>291200000</td>\n",
       "      <td>0.0</td>\n",
       "      <td>0.0</td>\n",
       "    </tr>\n",
       "    <tr>\n",
       "      <th>2022-12-19 00:00:00+09:00</th>\n",
       "      <td>27279.919922</td>\n",
       "      <td>27349.580078</td>\n",
       "      <td>26106.380859</td>\n",
       "      <td>26235.250000</td>\n",
       "      <td>445000000</td>\n",
       "      <td>0.0</td>\n",
       "      <td>0.0</td>\n",
       "    </tr>\n",
       "    <tr>\n",
       "      <th>2022-12-26 00:00:00+09:00</th>\n",
       "      <td>26299.539062</td>\n",
       "      <td>26620.490234</td>\n",
       "      <td>25953.919922</td>\n",
       "      <td>26094.500000</td>\n",
       "      <td>274800000</td>\n",
       "      <td>0.0</td>\n",
       "      <td>0.0</td>\n",
       "    </tr>\n",
       "    <tr>\n",
       "      <th>...</th>\n",
       "      <td>...</td>\n",
       "      <td>...</td>\n",
       "      <td>...</td>\n",
       "      <td>...</td>\n",
       "      <td>...</td>\n",
       "      <td>...</td>\n",
       "      <td>...</td>\n",
       "    </tr>\n",
       "    <tr>\n",
       "      <th>2024-10-28 00:00:00+09:00</th>\n",
       "      <td>37757.949219</td>\n",
       "      <td>39417.878906</td>\n",
       "      <td>37757.949219</td>\n",
       "      <td>38053.671875</td>\n",
       "      <td>710400000</td>\n",
       "      <td>0.0</td>\n",
       "      <td>0.0</td>\n",
       "    </tr>\n",
       "    <tr>\n",
       "      <th>2024-11-04 00:00:00+09:00</th>\n",
       "      <td>38274.218750</td>\n",
       "      <td>39884.011719</td>\n",
       "      <td>38159.730469</td>\n",
       "      <td>39500.371094</td>\n",
       "      <td>639900000</td>\n",
       "      <td>0.0</td>\n",
       "      <td>0.0</td>\n",
       "    </tr>\n",
       "    <tr>\n",
       "      <th>2024-11-11 00:00:00+09:00</th>\n",
       "      <td>39417.210938</td>\n",
       "      <td>39866.718750</td>\n",
       "      <td>38535.699219</td>\n",
       "      <td>38642.910156</td>\n",
       "      <td>713800000</td>\n",
       "      <td>0.0</td>\n",
       "      <td>0.0</td>\n",
       "    </tr>\n",
       "    <tr>\n",
       "      <th>2024-11-18 00:00:00+09:00</th>\n",
       "      <td>38259.589844</td>\n",
       "      <td>38560.101562</td>\n",
       "      <td>37945.210938</td>\n",
       "      <td>38283.851562</td>\n",
       "      <td>523900000</td>\n",
       "      <td>0.0</td>\n",
       "      <td>0.0</td>\n",
       "    </tr>\n",
       "    <tr>\n",
       "      <th>2024-11-25 00:00:00+09:00</th>\n",
       "      <td>38679.929688</td>\n",
       "      <td>39053.640625</td>\n",
       "      <td>37801.621094</td>\n",
       "      <td>38208.031250</td>\n",
       "      <td>641400000</td>\n",
       "      <td>0.0</td>\n",
       "      <td>0.0</td>\n",
       "    </tr>\n",
       "  </tbody>\n",
       "</table>\n",
       "<p>105 rows × 7 columns</p>\n",
       "</div>"
      ],
      "text/plain": [
       "                                   Open          High           Low  \\\n",
       "Date                                                                  \n",
       "2022-11-28 00:00:00+09:00  27991.500000  28423.460938  27662.119141   \n",
       "2022-12-05 00:00:00+09:00  27752.990234  27952.800781  27415.660156   \n",
       "2022-12-12 00:00:00+09:00  27741.099609  28195.689453  27488.830078   \n",
       "2022-12-19 00:00:00+09:00  27279.919922  27349.580078  26106.380859   \n",
       "2022-12-26 00:00:00+09:00  26299.539062  26620.490234  25953.919922   \n",
       "...                                 ...           ...           ...   \n",
       "2024-10-28 00:00:00+09:00  37757.949219  39417.878906  37757.949219   \n",
       "2024-11-04 00:00:00+09:00  38274.218750  39884.011719  38159.730469   \n",
       "2024-11-11 00:00:00+09:00  39417.210938  39866.718750  38535.699219   \n",
       "2024-11-18 00:00:00+09:00  38259.589844  38560.101562  37945.210938   \n",
       "2024-11-25 00:00:00+09:00  38679.929688  39053.640625  37801.621094   \n",
       "\n",
       "                                  Close     Volume  Dividends  Stock Splits  \n",
       "Date                                                                         \n",
       "2022-11-28 00:00:00+09:00  27777.900391  322200000        0.0           0.0  \n",
       "2022-12-05 00:00:00+09:00  27901.009766  322400000        0.0           0.0  \n",
       "2022-12-12 00:00:00+09:00  27527.119141  291200000        0.0           0.0  \n",
       "2022-12-19 00:00:00+09:00  26235.250000  445000000        0.0           0.0  \n",
       "2022-12-26 00:00:00+09:00  26094.500000  274800000        0.0           0.0  \n",
       "...                                 ...        ...        ...           ...  \n",
       "2024-10-28 00:00:00+09:00  38053.671875  710400000        0.0           0.0  \n",
       "2024-11-04 00:00:00+09:00  39500.371094  639900000        0.0           0.0  \n",
       "2024-11-11 00:00:00+09:00  38642.910156  713800000        0.0           0.0  \n",
       "2024-11-18 00:00:00+09:00  38283.851562  523900000        0.0           0.0  \n",
       "2024-11-25 00:00:00+09:00  38208.031250  641400000        0.0           0.0  \n",
       "\n",
       "[105 rows x 7 columns]"
      ]
     },
     "execution_count": 1,
     "metadata": {},
     "output_type": "execute_result"
    }
   ],
   "source": [
    "import matplotlib.font_manager as fm\n",
    "import matplotlib.pyplot as plt\n",
    "import mplfinance as mpf\n",
    "import yfinance as yf\n",
    "\n",
    "symbol = '^N225'\n",
    "#symbol = 'USDJPY=X'\n",
    "ticker = yf.Ticker(symbol)\n",
    "df = ticker.history(period='2y', interval='1wk')\n",
    "df"
   ]
  },
  {
   "cell_type": "code",
   "execution_count": 2,
   "id": "17d8fa47-23ac-42a6-9f06-d52701bb7a6e",
   "metadata": {},
   "outputs": [
    {
     "data": {
      "image/png": "[encoded data removed]",
      "text/plain": [
       "<Figure size 1200x600 with 1 Axes>"
      ]
     },
     "metadata": {},
     "output_type": "display_data"
    }
   ],
   "source": [
    "FONT_PATH = \"../fonts/RictyDiminished-Regular.ttf\"\n",
    "fm.fontManager.addfont(FONT_PATH)\n",
    "\n",
    "# FontPropertiesオブジェクト生成（名前の取得のため）\n",
    "font_prop = fm.FontProperties(fname=FONT_PATH)\n",
    "font_prop.get_name()\n",
    "\n",
    "plt.rcParams['font.family'] = font_prop.get_name()\n",
    "plt.rcParams['font.size'] = 14\n",
    "\n",
    "fig = plt.figure(figsize=(12, 6))\n",
    "#ax = fig.add_axes(111)\n",
    "ax = fig.add_subplot(111)\n",
    "\n",
    "mpf.plot(\n",
    "    df, type='candle', style='default',\n",
    "    mav=(13, 26, 52),\n",
    "    volume=False,\n",
    "    datetime_format='%Y-%m-%d',\n",
    "    xrotation=0,\n",
    "    ax=ax,\n",
    ")\n",
    "ax.set_title('Weekly chart for %s (%s)\\nmav=(13, 26, 52)' %(ticker.info['longName'], symbol))\n",
    "ax.grid()\n",
    "\n",
    "plt.tight_layout()\n",
    "plt.savefig('weekly_chart_n225.png')\n",
    "plt.show()"
   ]
  },
  {
   "cell_type": "code",
   "execution_count": 3,
   "id": "23f62e6e-ddfb-4940-8d6b-0c6dc04da33b",
   "metadata": {},
   "outputs": [
    {
     "data": {
      "text/html": [
       "<div>\n",
       "<style scoped>\n",
       "    .dataframe tbody tr th:only-of-type {\n",
       "        vertical-align: middle;\n",
       "    }\n",
       "\n",
       "    .dataframe tbody tr th {\n",
       "        vertical-align: top;\n",
       "    }\n",
       "\n",
       "    .dataframe thead th {\n",
       "        text-align: right;\n",
       "    }\n",
       "</style>\n",
       "<table border=\"1\" class=\"dataframe\">\n",
       "  <thead>\n",
       "    <tr style=\"text-align: right;\">\n",
       "      <th></th>\n",
       "      <th>Open</th>\n",
       "      <th>High</th>\n",
       "      <th>Low</th>\n",
       "      <th>Close</th>\n",
       "      <th>Volume</th>\n",
       "      <th>Dividends</th>\n",
       "      <th>Stock Splits</th>\n",
       "    </tr>\n",
       "    <tr>\n",
       "      <th>Date</th>\n",
       "      <th></th>\n",
       "      <th></th>\n",
       "      <th></th>\n",
       "      <th></th>\n",
       "      <th></th>\n",
       "      <th></th>\n",
       "      <th></th>\n",
       "    </tr>\n",
       "  </thead>\n",
       "  <tbody>\n",
       "    <tr>\n",
       "      <th>2024-11-18 00:00:00+09:00</th>\n",
       "      <td>38259.589844</td>\n",
       "      <td>38560.101562</td>\n",
       "      <td>37945.210938</td>\n",
       "      <td>38283.851562</td>\n",
       "      <td>523900000</td>\n",
       "      <td>0.0</td>\n",
       "      <td>0.0</td>\n",
       "    </tr>\n",
       "    <tr>\n",
       "      <th>2024-11-25 00:00:00+09:00</th>\n",
       "      <td>38679.929688</td>\n",
       "      <td>39053.640625</td>\n",
       "      <td>37801.621094</td>\n",
       "      <td>38208.031250</td>\n",
       "      <td>641400000</td>\n",
       "      <td>0.0</td>\n",
       "      <td>0.0</td>\n",
       "    </tr>\n",
       "  </tbody>\n",
       "</table>\n",
       "</div>"
      ],
      "text/plain": [
       "                                   Open          High           Low  \\\n",
       "Date                                                                  \n",
       "2024-11-18 00:00:00+09:00  38259.589844  38560.101562  37945.210938   \n",
       "2024-11-25 00:00:00+09:00  38679.929688  39053.640625  37801.621094   \n",
       "\n",
       "                                  Close     Volume  Dividends  Stock Splits  \n",
       "Date                                                                         \n",
       "2024-11-18 00:00:00+09:00  38283.851562  523900000        0.0           0.0  \n",
       "2024-11-25 00:00:00+09:00  38208.031250  641400000        0.0           0.0  "
      ]
     },
     "execution_count": 3,
     "metadata": {},
     "output_type": "execute_result"
    }
   ],
   "source": [
    "df.tail(2)"
   ]
  },
  {
   "cell_type": "code",
   "execution_count": 4,
   "id": "b5ddac87-7aca-4a91-a167-e92aca64f6e7",
   "metadata": {},
   "outputs": [
    {
     "data": {
      "text/plain": [
       "Date\n",
       "2024-11-18 00:00:00+09:00    38283.851562\n",
       "2024-11-25 00:00:00+09:00    38208.031250\n",
       "Name: Close, dtype: float64"
      ]
     },
     "execution_count": 4,
     "metadata": {},
     "output_type": "execute_result"
    }
   ],
   "source": [
    "df.tail(2)['Close']"
   ]
  },
  {
   "cell_type": "code",
   "execution_count": 5,
   "id": "c16b51e9-cee6-43ea-b5af-a4a1124c2624",
   "metadata": {},
   "outputs": [
    {
     "data": {
      "text/plain": [
       "Date\n",
       "2024-11-18 00:00:00+09:00          NaN\n",
       "2024-11-25 00:00:00+09:00   -75.820312\n",
       "Name: Close, dtype: float64"
      ]
     },
     "execution_count": 5,
     "metadata": {},
     "output_type": "execute_result"
    }
   ],
   "source": [
    "df.tail(2)['Close'].diff()"
   ]
  },
  {
   "cell_type": "code",
   "execution_count": 6,
   "id": "0d2e53a4-2910-4d80-ab41-c22a78eb1850",
   "metadata": {},
   "outputs": [
    {
     "data": {
      "text/plain": [
       "Date\n",
       "2024-11-25 00:00:00+09:00   -471.898438\n",
       "dtype: float64"
      ]
     },
     "execution_count": 6,
     "metadata": {},
     "output_type": "execute_result"
    }
   ],
   "source": [
    "df['Close'].tail(1) - df['Open'].tail(1)"
   ]
  },
  {
   "cell_type": "code",
   "execution_count": 7,
   "id": "7061388d-20d1-49f8-8551-afff6ca3decb",
   "metadata": {},
   "outputs": [
    {
     "data": {
      "text/plain": [
       "Date\n",
       "2022-11-28 00:00:00+09:00             NaN\n",
       "2022-12-05 00:00:00+09:00             NaN\n",
       "2022-12-12 00:00:00+09:00             NaN\n",
       "2022-12-19 00:00:00+09:00             NaN\n",
       "2022-12-26 00:00:00+09:00             NaN\n",
       "                                 ...     \n",
       "2024-10-28 00:00:00+09:00    38438.062951\n",
       "2024-11-04 00:00:00+09:00    38486.957632\n",
       "2024-11-11 00:00:00+09:00    38481.401142\n",
       "2024-11-18 00:00:00+09:00    38467.468149\n",
       "2024-11-25 00:00:00+09:00    38456.704026\n",
       "Name: Close, Length: 105, dtype: float64"
      ]
     },
     "execution_count": 7,
     "metadata": {},
     "output_type": "execute_result"
    }
   ],
   "source": [
    "df['Close'].rolling(26).mean()"
   ]
  },
  {
   "cell_type": "code",
   "execution_count": 8,
   "id": "01d06e4e-0da0-49c8-b132-a20ab8a287ed",
   "metadata": {},
   "outputs": [
    {
     "data": {
      "text/plain": [
       "Date\n",
       "2022-11-28 00:00:00+09:00             NaN\n",
       "2022-12-05 00:00:00+09:00             NaN\n",
       "2022-12-12 00:00:00+09:00             NaN\n",
       "2022-12-19 00:00:00+09:00             NaN\n",
       "2022-12-26 00:00:00+09:00             NaN\n",
       "                                 ...     \n",
       "2024-10-28 00:00:00+09:00    37445.037260\n",
       "2024-11-04 00:00:00+09:00    37578.349985\n",
       "2024-11-11 00:00:00+09:00    37675.613657\n",
       "2024-11-18 00:00:00+09:00    37765.196740\n",
       "2024-11-25 00:00:00+09:00    37857.052885\n",
       "Name: Close, Length: 105, dtype: float64"
      ]
     },
     "execution_count": 8,
     "metadata": {},
     "output_type": "execute_result"
    }
   ],
   "source": [
    "df['Close'].rolling(52).mean()"
   ]
  },
  {
   "cell_type": "code",
   "execution_count": null,
   "id": "7f240e10-dc8a-46c8-8299-e792052c8834",
   "metadata": {},
   "outputs": [],
   "source": []
  }
 ],
 "metadata": {
  "kernelspec": {
   "display_name": "Python 3 (ipykernel)",
   "language": "python",
   "name": "python3"
  },
  "language_info": {
   "codemirror_mode": {
    "name": "ipython",
    "version": 3
   },
   "file_extension": ".py",
   "mimetype": "text/x-python",
   "name": "python",
   "nbconvert_exporter": "python",
   "pygments_lexer": "ipython3",
   "version": "3.12.7"
  }
 },
 "nbformat": 4,
 "nbformat_minor": 5
}
