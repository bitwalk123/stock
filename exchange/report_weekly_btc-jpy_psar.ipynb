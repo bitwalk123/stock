{
 "cells": [
  {
   "cell_type": "markdown",
   "id": "52a2670c-4c51-4045-a062-07a2721ad756",
   "metadata": {},
   "source": [
    "# Bitcoin-JPY 週足, Parabolic SAR"
   ]
  },
  {
   "cell_type": "code",
   "execution_count": 1,
   "id": "6834dd84-ba52-49e6-a4e1-73cf33186524",
   "metadata": {},
   "outputs": [
    {
     "data": {
      "text/html": [
       "<div>\n",
       "<style scoped>\n",
       "    .dataframe tbody tr th:only-of-type {\n",
       "        vertical-align: middle;\n",
       "    }\n",
       "\n",
       "    .dataframe tbody tr th {\n",
       "        vertical-align: top;\n",
       "    }\n",
       "\n",
       "    .dataframe thead th {\n",
       "        text-align: right;\n",
       "    }\n",
       "</style>\n",
       "<table border=\"1\" class=\"dataframe\">\n",
       "  <thead>\n",
       "    <tr style=\"text-align: right;\">\n",
       "      <th></th>\n",
       "      <th>Open</th>\n",
       "      <th>High</th>\n",
       "      <th>Low</th>\n",
       "      <th>Close</th>\n",
       "      <th>Volume</th>\n",
       "      <th>Dividends</th>\n",
       "      <th>Stock Splits</th>\n",
       "    </tr>\n",
       "    <tr>\n",
       "      <th>Date</th>\n",
       "      <th></th>\n",
       "      <th></th>\n",
       "      <th></th>\n",
       "      <th></th>\n",
       "      <th></th>\n",
       "      <th></th>\n",
       "      <th></th>\n",
       "    </tr>\n",
       "  </thead>\n",
       "  <tbody>\n",
       "    <tr>\n",
       "      <th>2022-12-19 00:00:00+00:00</th>\n",
       "      <td>2252097.25</td>\n",
       "      <td>2244958.50</td>\n",
       "      <td>2197297.75</td>\n",
       "      <td>2236777.00</td>\n",
       "      <td>12020946726241</td>\n",
       "      <td>0.0</td>\n",
       "      <td>0.0</td>\n",
       "    </tr>\n",
       "    <tr>\n",
       "      <th>2022-12-26 00:00:00+00:00</th>\n",
       "      <td>2236811.75</td>\n",
       "      <td>2250012.00</td>\n",
       "      <td>2162035.75</td>\n",
       "      <td>2176655.25</td>\n",
       "      <td>12655894878162</td>\n",
       "      <td>0.0</td>\n",
       "      <td>0.0</td>\n",
       "    </tr>\n",
       "    <tr>\n",
       "      <th>2023-01-02 00:00:00+00:00</th>\n",
       "      <td>2176711.50</td>\n",
       "      <td>2252668.50</td>\n",
       "      <td>2169686.00</td>\n",
       "      <td>2252668.50</td>\n",
       "      <td>11880022165205</td>\n",
       "      <td>0.0</td>\n",
       "      <td>0.0</td>\n",
       "    </tr>\n",
       "    <tr>\n",
       "      <th>2023-01-09 00:00:00+00:00</th>\n",
       "      <td>2253043.75</td>\n",
       "      <td>2695405.00</td>\n",
       "      <td>2253043.75</td>\n",
       "      <td>2673922.00</td>\n",
       "      <td>22675665213406</td>\n",
       "      <td>0.0</td>\n",
       "      <td>0.0</td>\n",
       "    </tr>\n",
       "    <tr>\n",
       "      <th>2023-01-16 00:00:00+00:00</th>\n",
       "      <td>2674104.50</td>\n",
       "      <td>3016344.25</td>\n",
       "      <td>2640122.50</td>\n",
       "      <td>2939810.50</td>\n",
       "      <td>24354510352100</td>\n",
       "      <td>0.0</td>\n",
       "      <td>0.0</td>\n",
       "    </tr>\n",
       "    <tr>\n",
       "      <th>...</th>\n",
       "      <td>...</td>\n",
       "      <td>...</td>\n",
       "      <td>...</td>\n",
       "      <td>...</td>\n",
       "      <td>...</td>\n",
       "      <td>...</td>\n",
       "      <td>...</td>\n",
       "    </tr>\n",
       "    <tr>\n",
       "      <th>2024-11-18 00:00:00+00:00</th>\n",
       "      <td>13976344.00</td>\n",
       "      <td>15427834.00</td>\n",
       "      <td>13703311.00</td>\n",
       "      <td>15132990.00</td>\n",
       "      <td>76879805172485</td>\n",
       "      <td>0.0</td>\n",
       "      <td>0.0</td>\n",
       "    </tr>\n",
       "    <tr>\n",
       "      <th>2024-11-25 00:00:00+00:00</th>\n",
       "      <td>15133116.00</td>\n",
       "      <td>15294976.00</td>\n",
       "      <td>13898010.00</td>\n",
       "      <td>14444693.00</td>\n",
       "      <td>66115825026854</td>\n",
       "      <td>0.0</td>\n",
       "      <td>0.0</td>\n",
       "    </tr>\n",
       "    <tr>\n",
       "      <th>2024-12-02 00:00:00+00:00</th>\n",
       "      <td>14446532.00</td>\n",
       "      <td>15614579.00</td>\n",
       "      <td>13804409.00</td>\n",
       "      <td>14985998.00</td>\n",
       "      <td>81212192130780</td>\n",
       "      <td>0.0</td>\n",
       "      <td>0.0</td>\n",
       "    </tr>\n",
       "    <tr>\n",
       "      <th>2024-12-09 00:00:00+00:00</th>\n",
       "      <td>14985785.00</td>\n",
       "      <td>15777132.00</td>\n",
       "      <td>14261943.00</td>\n",
       "      <td>15584573.00</td>\n",
       "      <td>78247900495261</td>\n",
       "      <td>0.0</td>\n",
       "      <td>0.0</td>\n",
       "    </tr>\n",
       "    <tr>\n",
       "      <th>2024-12-16 00:00:00+00:00</th>\n",
       "      <td>15584660.00</td>\n",
       "      <td>16625664.00</td>\n",
       "      <td>15120179.00</td>\n",
       "      <td>15120179.00</td>\n",
       "      <td>62285332938191</td>\n",
       "      <td>0.0</td>\n",
       "      <td>0.0</td>\n",
       "    </tr>\n",
       "  </tbody>\n",
       "</table>\n",
       "<p>105 rows × 7 columns</p>\n",
       "</div>"
      ],
      "text/plain": [
       "                                  Open         High          Low        Close  \\\n",
       "Date                                                                            \n",
       "2022-12-19 00:00:00+00:00   2252097.25   2244958.50   2197297.75   2236777.00   \n",
       "2022-12-26 00:00:00+00:00   2236811.75   2250012.00   2162035.75   2176655.25   \n",
       "2023-01-02 00:00:00+00:00   2176711.50   2252668.50   2169686.00   2252668.50   \n",
       "2023-01-09 00:00:00+00:00   2253043.75   2695405.00   2253043.75   2673922.00   \n",
       "2023-01-16 00:00:00+00:00   2674104.50   3016344.25   2640122.50   2939810.50   \n",
       "...                                ...          ...          ...          ...   \n",
       "2024-11-18 00:00:00+00:00  13976344.00  15427834.00  13703311.00  15132990.00   \n",
       "2024-11-25 00:00:00+00:00  15133116.00  15294976.00  13898010.00  14444693.00   \n",
       "2024-12-02 00:00:00+00:00  14446532.00  15614579.00  13804409.00  14985998.00   \n",
       "2024-12-09 00:00:00+00:00  14985785.00  15777132.00  14261943.00  15584573.00   \n",
       "2024-12-16 00:00:00+00:00  15584660.00  16625664.00  15120179.00  15120179.00   \n",
       "\n",
       "                                   Volume  Dividends  Stock Splits  \n",
       "Date                                                                \n",
       "2022-12-19 00:00:00+00:00  12020946726241        0.0           0.0  \n",
       "2022-12-26 00:00:00+00:00  12655894878162        0.0           0.0  \n",
       "2023-01-02 00:00:00+00:00  11880022165205        0.0           0.0  \n",
       "2023-01-09 00:00:00+00:00  22675665213406        0.0           0.0  \n",
       "2023-01-16 00:00:00+00:00  24354510352100        0.0           0.0  \n",
       "...                                   ...        ...           ...  \n",
       "2024-11-18 00:00:00+00:00  76879805172485        0.0           0.0  \n",
       "2024-11-25 00:00:00+00:00  66115825026854        0.0           0.0  \n",
       "2024-12-02 00:00:00+00:00  81212192130780        0.0           0.0  \n",
       "2024-12-09 00:00:00+00:00  78247900495261        0.0           0.0  \n",
       "2024-12-16 00:00:00+00:00  62285332938191        0.0           0.0  \n",
       "\n",
       "[105 rows x 7 columns]"
      ]
     },
     "execution_count": 1,
     "metadata": {},
     "output_type": "execute_result"
    }
   ],
   "source": [
    "import matplotlib.pyplot as plt\n",
    "import mplfinance as mpf\n",
    "import numpy as np\n",
    "import pandas as pd\n",
    "import yfinance as yf\n",
    "\n",
    "symbol = 'BTC-JPY'\n",
    "#symbol = 'USDJPY=X'\n",
    "ticker = yf.Ticker(symbol)\n",
    "df = ticker.history(period='2y', interval='1wk')\n",
    "df"
   ]
  },
  {
   "cell_type": "markdown",
   "id": "d962988e-3347-4589-b186-27510a8d1d9b",
   "metadata": {},
   "source": [
    "## パラボリック SAR"
   ]
  },
  {
   "cell_type": "code",
   "execution_count": 2,
   "id": "8a50fcec-f72e-414f-89ea-d5c3926b60fd",
   "metadata": {},
   "outputs": [],
   "source": [
    "def psar(ohlc: pd.DataFrame, iaf: float = 0.02, maxaf: float = 0.2) -> dict:\n",
    "    length = len(ohlc)\n",
    "    high = ohlc['High'].tolist()\n",
    "    low = ohlc['Low'].tolist()\n",
    "    close = ohlc['Close'].tolist()\n",
    " \n",
    "    psar = close[0:len(close)]\n",
    "    psarbull = [None] * length\n",
    "    psarbear = [None] * length\n",
    " \n",
    "    bull = True\n",
    "    af = iaf\n",
    "    ep = low[0]\n",
    "    price_high = high[0]\n",
    "    price_low = low[0]\n",
    " \n",
    "    for i in range(2, length):\n",
    "        if bull:\n",
    "            psar[i] = psar[i - 1] + af * (price_high - psar[i - 1])\n",
    "        else:\n",
    "            psar[i] = psar[i - 1] + af * (price_low - psar[i - 1])\n",
    "        reverse = False\n",
    " \n",
    "        if bull:\n",
    "            if low[i] < psar[i]:\n",
    "                bull = False\n",
    "                reverse = True\n",
    "                psar[i] = price_high\n",
    "                price_low = low[i]\n",
    "                af = iaf\n",
    "        else:\n",
    "            if high[i] > psar[i]:\n",
    "                bull = True\n",
    "                reverse = True\n",
    "                psar[i] = price_low\n",
    "                price_high = high[i]\n",
    "                af = iaf\n",
    " \n",
    "        if not reverse:\n",
    "            if bull:\n",
    "                if high[i] > price_high:\n",
    "                    price_high = high[i]\n",
    "                    af = min(af + iaf, maxaf)\n",
    "                if low[i - 1] < psar[i]:\n",
    "                    psar[i] = low[i - 1]\n",
    "                if low[i - 2] < psar[i]:\n",
    "                    psar[i] = low[i - 2]\n",
    "            else:\n",
    "                if low[i] < price_low:\n",
    "                    price_low = low[i]\n",
    "                    af = min(af + iaf, maxaf)\n",
    "                if high[i - 1] > psar[i]:\n",
    "                    psar[i] = high[i - 1]\n",
    "                if high[i - 2] > psar[i]:\n",
    "                    psar[i] = high[i - 2]\n",
    " \n",
    "        if bull:\n",
    "            psarbull[i] = psar[i]\n",
    "        else:\n",
    "            psarbear[i] = psar[i]\n",
    " \n",
    "    return {\n",
    "        'bear': np.array(psarbear, dtype='float64'),\n",
    "        'bull': np.array(psarbull, dtype='float64'),\n",
    "    }"
   ]
  },
  {
   "cell_type": "markdown",
   "id": "a8e1eedf-42ee-48d9-90b7-a03984127b91",
   "metadata": {},
   "source": [
    "## 週足チャートとパラボリック SAR"
   ]
  },
  {
   "cell_type": "code",
   "execution_count": 8,
   "id": "9992dabc-2cb3-4cea-b153-802c5fd5b5fb",
   "metadata": {},
   "outputs": [
    {
     "data": {
      "image/png": "[encoded data removed]",
      "text/plain": [
       "<Figure size 1200x600 with 1 Axes>"
      ]
     },
     "metadata": {},
     "output_type": "display_data"
    }
   ],
   "source": [
    "dict_psar = psar(df)\n",
    "\n",
    "fig = plt.figure(figsize=(12, 6))\n",
    "ax = fig.add_subplot(111)\n",
    "\n",
    "apds  = [\n",
    "    mpf.make_addplot(\n",
    "        dict_psar['bear'],\n",
    "        type='scatter',\n",
    "        marker='o',\n",
    "        markersize=10,\n",
    "        color='blue',\n",
    "        label='downtrend',\n",
    "        ax=ax\n",
    "    ),\n",
    "    mpf.make_addplot(\n",
    "        dict_psar['bull'],\n",
    "        type='scatter',\n",
    "        marker='o',\n",
    "        markersize=10,\n",
    "        color='red',\n",
    "        label='uptrend',\n",
    "        ax=ax\n",
    "    ),\n",
    "] \n",
    "\n",
    "mpf.plot(\n",
    "    df,\n",
    "    type='candle',\n",
    "    style='default',\n",
    "    mav=(13, 26, 52),\n",
    "    volume=False,\n",
    "    datetime_format='%m-%d',\n",
    "    addplot=apds,\n",
    "    xrotation=0,\n",
    "    ax=ax,\n",
    ")\n",
    "try:\n",
    "    ax.set_title('Weekly chart for %s (%s)\\nmav=(13, 26, 52)' % (ticker.info['longName'], symbol))\n",
    "except KeyError:\n",
    "    ax.set_title('Weekly chart for %s\\nmav=(13, 26, 52)' % symbol)\n",
    "\n",
    "ax.grid()\n",
    "ax.legend(loc='upper left')\n",
    "\n",
    "plt.tight_layout()\n",
    "plt.savefig('weekly_chart_exchange_psar.png')\n",
    "plt.show()"
   ]
  },
  {
   "cell_type": "code",
   "execution_count": 12,
   "id": "02289103-23b3-45c7-9be4-91c4f1e7958c",
   "metadata": {},
   "outputs": [
    {
     "data": {
      "text/html": [
       "<div>\n",
       "<style scoped>\n",
       "    .dataframe tbody tr th:only-of-type {\n",
       "        vertical-align: middle;\n",
       "    }\n",
       "\n",
       "    .dataframe tbody tr th {\n",
       "        vertical-align: top;\n",
       "    }\n",
       "\n",
       "    .dataframe thead th {\n",
       "        text-align: right;\n",
       "    }\n",
       "</style>\n",
       "<table border=\"1\" class=\"dataframe\">\n",
       "  <thead>\n",
       "    <tr style=\"text-align: right;\">\n",
       "      <th></th>\n",
       "      <th>Open</th>\n",
       "      <th>High</th>\n",
       "      <th>Low</th>\n",
       "      <th>Close</th>\n",
       "      <th>Volume</th>\n",
       "      <th>Dividends</th>\n",
       "      <th>Stock Splits</th>\n",
       "    </tr>\n",
       "    <tr>\n",
       "      <th>Date</th>\n",
       "      <th></th>\n",
       "      <th></th>\n",
       "      <th></th>\n",
       "      <th></th>\n",
       "      <th></th>\n",
       "      <th></th>\n",
       "      <th></th>\n",
       "    </tr>\n",
       "  </thead>\n",
       "  <tbody>\n",
       "    <tr>\n",
       "      <th>2024-12-16 00:00:00+00:00</th>\n",
       "      <td>16028582.0</td>\n",
       "      <td>16557646.0</td>\n",
       "      <td>15897460.0</td>\n",
       "      <td>16276849.0</td>\n",
       "      <td>14239908495360</td>\n",
       "      <td>0.0</td>\n",
       "      <td>0.0</td>\n",
       "    </tr>\n",
       "  </tbody>\n",
       "</table>\n",
       "</div>"
      ],
      "text/plain": [
       "                                 Open        High         Low       Close  \\\n",
       "Date                                                                        \n",
       "2024-12-16 00:00:00+00:00  16028582.0  16557646.0  15897460.0  16276849.0   \n",
       "\n",
       "                                   Volume  Dividends  Stock Splits  \n",
       "Date                                                                \n",
       "2024-12-16 00:00:00+00:00  14239908495360        0.0           0.0  "
      ]
     },
     "execution_count": 12,
     "metadata": {},
     "output_type": "execute_result"
    }
   ],
   "source": [
    "df.tail(1)"
   ]
  },
  {
   "cell_type": "code",
   "execution_count": 13,
   "id": "c71558aa-1b70-454a-b538-e7c62b3710a2",
   "metadata": {},
   "outputs": [
    {
     "data": {
      "text/plain": [
       "Date\n",
       "2024-12-09 00:00:00+00:00    15584573.0\n",
       "2024-12-16 00:00:00+00:00    16276849.0\n",
       "Name: Close, dtype: float64"
      ]
     },
     "execution_count": 13,
     "metadata": {},
     "output_type": "execute_result"
    }
   ],
   "source": [
    "df.tail(2)['Close']"
   ]
  },
  {
   "cell_type": "code",
   "execution_count": 14,
   "id": "6be1421f-d099-45e8-8bc3-c8d627c58968",
   "metadata": {},
   "outputs": [
    {
     "data": {
      "text/plain": [
       "Date\n",
       "2024-12-09 00:00:00+00:00         NaN\n",
       "2024-12-16 00:00:00+00:00    692276.0\n",
       "Name: Close, dtype: float64"
      ]
     },
     "execution_count": 14,
     "metadata": {},
     "output_type": "execute_result"
    }
   ],
   "source": [
    "df.tail(2)['Close'].diff()"
   ]
  },
  {
   "cell_type": "code",
   "execution_count": 15,
   "id": "d0c05cb4-c2ae-4a55-b11e-9ee79dc3db62",
   "metadata": {},
   "outputs": [
    {
     "data": {
      "text/plain": [
       "Date\n",
       "2024-11-18 00:00:00+00:00    1.005302e+07\n",
       "2024-11-25 00:00:00+00:00    1.019909e+07\n",
       "2024-12-02 00:00:00+00:00    1.035770e+07\n",
       "2024-12-09 00:00:00+00:00    1.055631e+07\n",
       "2024-12-16 00:00:00+00:00    1.078750e+07\n",
       "Name: Close, dtype: float64"
      ]
     },
     "execution_count": 15,
     "metadata": {},
     "output_type": "execute_result"
    }
   ],
   "source": [
    "df['Close'].rolling(26).mean().tail(5)"
   ]
  },
  {
   "cell_type": "code",
   "execution_count": 16,
   "id": "b2127b5f-fe9f-4288-ade2-7588b5eb21f5",
   "metadata": {},
   "outputs": [
    {
     "data": {
      "text/plain": [
       "Date\n",
       "2024-11-18 00:00:00+00:00    9.152042e+06\n",
       "2024-11-25 00:00:00+00:00    9.318361e+06\n",
       "2024-12-02 00:00:00+00:00    9.484740e+06\n",
       "2024-12-09 00:00:00+00:00    9.669002e+06\n",
       "2024-12-16 00:00:00+00:00    9.862230e+06\n",
       "Name: Close, dtype: float64"
      ]
     },
     "execution_count": 16,
     "metadata": {},
     "output_type": "execute_result"
    }
   ],
   "source": [
    "df['Close'].rolling(52).mean().tail(5)"
   ]
  },
  {
   "cell_type": "code",
   "execution_count": null,
   "id": "a793194c-9319-4e19-a293-e77ca40da02d",
   "metadata": {},
   "outputs": [],
   "source": []
  },
  {
   "cell_type": "code",
   "execution_count": null,
   "id": "115054c7-c1b4-4b52-b0d7-8a5a53cb6a73",
   "metadata": {},
   "outputs": [],
   "source": []
  }
 ],
 "metadata": {
  "kernelspec": {
   "display_name": "Python 3 (ipykernel)",
   "language": "python",
   "name": "python3"
  },
  "language_info": {
   "codemirror_mode": {
    "name": "ipython",
    "version": 3
   },
   "file_extension": ".py",
   "mimetype": "text/x-python",
   "name": "python",
   "nbconvert_exporter": "python",
   "pygments_lexer": "ipython3",
   "version": "3.13.0"
  }
 },
 "nbformat": 4,
 "nbformat_minor": 5
}
