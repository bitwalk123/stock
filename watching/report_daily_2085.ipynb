{
 "cells": [
  {
   "cell_type": "markdown",
   "id": "52a2670c-4c51-4045-a062-07a2721ad756",
   "metadata": {},
   "source": [
    "# ＭＸ高配日株アクティブ 日足"
   ]
  },
  {
   "cell_type": "code",
   "execution_count": 1,
   "id": "6834dd84-ba52-49e6-a4e1-73cf33186524",
   "metadata": {},
   "outputs": [
    {
     "data": {
      "text/html": [
       "<div>\n",
       "<style scoped>\n",
       "    .dataframe tbody tr th:only-of-type {\n",
       "        vertical-align: middle;\n",
       "    }\n",
       "\n",
       "    .dataframe tbody tr th {\n",
       "        vertical-align: top;\n",
       "    }\n",
       "\n",
       "    .dataframe thead th {\n",
       "        text-align: right;\n",
       "    }\n",
       "</style>\n",
       "<table border=\"1\" class=\"dataframe\">\n",
       "  <thead>\n",
       "    <tr style=\"text-align: right;\">\n",
       "      <th></th>\n",
       "      <th>Open</th>\n",
       "      <th>High</th>\n",
       "      <th>Low</th>\n",
       "      <th>Close</th>\n",
       "      <th>Volume</th>\n",
       "      <th>Dividends</th>\n",
       "      <th>Stock Splits</th>\n",
       "      <th>Capital Gains</th>\n",
       "    </tr>\n",
       "    <tr>\n",
       "      <th>Date</th>\n",
       "      <th></th>\n",
       "      <th></th>\n",
       "      <th></th>\n",
       "      <th></th>\n",
       "      <th></th>\n",
       "      <th></th>\n",
       "      <th></th>\n",
       "      <th></th>\n",
       "    </tr>\n",
       "  </thead>\n",
       "  <tbody>\n",
       "    <tr>\n",
       "      <th>2024-07-22 00:00:00+09:00</th>\n",
       "      <td>573.576683</td>\n",
       "      <td>573.576683</td>\n",
       "      <td>568.379240</td>\n",
       "      <td>569.261841</td>\n",
       "      <td>117030</td>\n",
       "      <td>0.0</td>\n",
       "      <td>0.0</td>\n",
       "      <td>0.0</td>\n",
       "    </tr>\n",
       "    <tr>\n",
       "      <th>2024-07-23 00:00:00+09:00</th>\n",
       "      <td>570.732786</td>\n",
       "      <td>572.105707</td>\n",
       "      <td>568.183145</td>\n",
       "      <td>570.046326</td>\n",
       "      <td>74310</td>\n",
       "      <td>0.0</td>\n",
       "      <td>0.0</td>\n",
       "      <td>0.0</td>\n",
       "    </tr>\n",
       "    <tr>\n",
       "      <th>2024-07-24 00:00:00+09:00</th>\n",
       "      <td>567.888972</td>\n",
       "      <td>567.888972</td>\n",
       "      <td>558.376806</td>\n",
       "      <td>558.867126</td>\n",
       "      <td>49020</td>\n",
       "      <td>0.0</td>\n",
       "      <td>0.0</td>\n",
       "      <td>0.0</td>\n",
       "    </tr>\n",
       "    <tr>\n",
       "      <th>2024-07-25 00:00:00+09:00</th>\n",
       "      <td>553.865740</td>\n",
       "      <td>554.650241</td>\n",
       "      <td>549.158678</td>\n",
       "      <td>550.629639</td>\n",
       "      <td>204230</td>\n",
       "      <td>0.0</td>\n",
       "      <td>0.0</td>\n",
       "      <td>0.0</td>\n",
       "    </tr>\n",
       "    <tr>\n",
       "      <th>2024-07-26 00:00:00+09:00</th>\n",
       "      <td>551.316083</td>\n",
       "      <td>552.394764</td>\n",
       "      <td>546.510921</td>\n",
       "      <td>548.276062</td>\n",
       "      <td>126140</td>\n",
       "      <td>0.0</td>\n",
       "      <td>0.0</td>\n",
       "      <td>0.0</td>\n",
       "    </tr>\n",
       "    <tr>\n",
       "      <th>...</th>\n",
       "      <td>...</td>\n",
       "      <td>...</td>\n",
       "      <td>...</td>\n",
       "      <td>...</td>\n",
       "      <td>...</td>\n",
       "      <td>...</td>\n",
       "      <td>...</td>\n",
       "      <td>...</td>\n",
       "    </tr>\n",
       "    <tr>\n",
       "      <th>2025-01-15 00:00:00+09:00</th>\n",
       "      <td>543.599976</td>\n",
       "      <td>543.599976</td>\n",
       "      <td>538.200012</td>\n",
       "      <td>539.400024</td>\n",
       "      <td>78200</td>\n",
       "      <td>0.0</td>\n",
       "      <td>0.0</td>\n",
       "      <td>0.0</td>\n",
       "    </tr>\n",
       "    <tr>\n",
       "      <th>2025-01-16 00:00:00+09:00</th>\n",
       "      <td>540.700012</td>\n",
       "      <td>540.700012</td>\n",
       "      <td>534.700012</td>\n",
       "      <td>539.900024</td>\n",
       "      <td>61330</td>\n",
       "      <td>0.0</td>\n",
       "      <td>0.0</td>\n",
       "      <td>0.0</td>\n",
       "    </tr>\n",
       "    <tr>\n",
       "      <th>2025-01-17 00:00:00+09:00</th>\n",
       "      <td>538.099976</td>\n",
       "      <td>538.099976</td>\n",
       "      <td>531.299988</td>\n",
       "      <td>536.000000</td>\n",
       "      <td>152310</td>\n",
       "      <td>0.0</td>\n",
       "      <td>0.0</td>\n",
       "      <td>0.0</td>\n",
       "    </tr>\n",
       "    <tr>\n",
       "      <th>2025-01-20 00:00:00+09:00</th>\n",
       "      <td>537.599976</td>\n",
       "      <td>541.500000</td>\n",
       "      <td>537.599976</td>\n",
       "      <td>539.599976</td>\n",
       "      <td>25440</td>\n",
       "      <td>0.0</td>\n",
       "      <td>0.0</td>\n",
       "      <td>0.0</td>\n",
       "    </tr>\n",
       "    <tr>\n",
       "      <th>2025-01-21 00:00:00+09:00</th>\n",
       "      <td>542.299988</td>\n",
       "      <td>543.000000</td>\n",
       "      <td>538.799988</td>\n",
       "      <td>539.000000</td>\n",
       "      <td>60430</td>\n",
       "      <td>0.0</td>\n",
       "      <td>0.0</td>\n",
       "      <td>0.0</td>\n",
       "    </tr>\n",
       "  </tbody>\n",
       "</table>\n",
       "<p>119 rows × 8 columns</p>\n",
       "</div>"
      ],
      "text/plain": [
       "                                 Open        High         Low       Close  \\\n",
       "Date                                                                        \n",
       "2024-07-22 00:00:00+09:00  573.576683  573.576683  568.379240  569.261841   \n",
       "2024-07-23 00:00:00+09:00  570.732786  572.105707  568.183145  570.046326   \n",
       "2024-07-24 00:00:00+09:00  567.888972  567.888972  558.376806  558.867126   \n",
       "2024-07-25 00:00:00+09:00  553.865740  554.650241  549.158678  550.629639   \n",
       "2024-07-26 00:00:00+09:00  551.316083  552.394764  546.510921  548.276062   \n",
       "...                               ...         ...         ...         ...   \n",
       "2025-01-15 00:00:00+09:00  543.599976  543.599976  538.200012  539.400024   \n",
       "2025-01-16 00:00:00+09:00  540.700012  540.700012  534.700012  539.900024   \n",
       "2025-01-17 00:00:00+09:00  538.099976  538.099976  531.299988  536.000000   \n",
       "2025-01-20 00:00:00+09:00  537.599976  541.500000  537.599976  539.599976   \n",
       "2025-01-21 00:00:00+09:00  542.299988  543.000000  538.799988  539.000000   \n",
       "\n",
       "                           Volume  Dividends  Stock Splits  Capital Gains  \n",
       "Date                                                                       \n",
       "2024-07-22 00:00:00+09:00  117030        0.0           0.0            0.0  \n",
       "2024-07-23 00:00:00+09:00   74310        0.0           0.0            0.0  \n",
       "2024-07-24 00:00:00+09:00   49020        0.0           0.0            0.0  \n",
       "2024-07-25 00:00:00+09:00  204230        0.0           0.0            0.0  \n",
       "2024-07-26 00:00:00+09:00  126140        0.0           0.0            0.0  \n",
       "...                           ...        ...           ...            ...  \n",
       "2025-01-15 00:00:00+09:00   78200        0.0           0.0            0.0  \n",
       "2025-01-16 00:00:00+09:00   61330        0.0           0.0            0.0  \n",
       "2025-01-17 00:00:00+09:00  152310        0.0           0.0            0.0  \n",
       "2025-01-20 00:00:00+09:00   25440        0.0           0.0            0.0  \n",
       "2025-01-21 00:00:00+09:00   60430        0.0           0.0            0.0  \n",
       "\n",
       "[119 rows x 8 columns]"
      ]
     },
     "execution_count": 1,
     "metadata": {},
     "output_type": "execute_result"
    }
   ],
   "source": [
    "import matplotlib.pyplot as plt\n",
    "import mplfinance as mpf\n",
    "import numpy as np\n",
    "import pandas as pd\n",
    "import re\n",
    "import yfinance as yf\n",
    "\n",
    "pattern = re.compile(r'(.+)\\.T')\n",
    "\n",
    "symbol = '2085.T'\n",
    "ticker = yf.Ticker(symbol)\n",
    "\n",
    "df = ticker.history(period='6mo')\n",
    "df"
   ]
  },
  {
   "cell_type": "markdown",
   "id": "d962988e-3347-4589-b186-27510a8d1d9b",
   "metadata": {},
   "source": [
    "## パラボリック SAR"
   ]
  },
  {
   "cell_type": "code",
   "execution_count": 2,
   "id": "8a50fcec-f72e-414f-89ea-d5c3926b60fd",
   "metadata": {},
   "outputs": [],
   "source": [
    "def psar(ohlc: pd.DataFrame, iaf: float = 0.02, maxaf: float = 0.2) -> dict:\n",
    "    length = len(ohlc)\n",
    "    high = ohlc['High'].tolist()\n",
    "    low = ohlc['Low'].tolist()\n",
    "    close = ohlc['Close'].tolist()\n",
    " \n",
    "    psar = close[0:len(close)]\n",
    "    psarbull = [None] * length\n",
    "    psarbear = [None] * length\n",
    " \n",
    "    bull = True\n",
    "    af = iaf\n",
    "    ep = low[0]\n",
    "    price_high = high[0]\n",
    "    price_low = low[0]\n",
    " \n",
    "    for i in range(2, length):\n",
    "        if bull:\n",
    "            psar[i] = psar[i - 1] + af * (price_high - psar[i - 1])\n",
    "        else:\n",
    "            psar[i] = psar[i - 1] + af * (price_low - psar[i - 1])\n",
    "        reverse = False\n",
    " \n",
    "        if bull:\n",
    "            if low[i] < psar[i]:\n",
    "                bull = False\n",
    "                reverse = True\n",
    "                psar[i] = price_high\n",
    "                price_low = low[i]\n",
    "                af = iaf\n",
    "        else:\n",
    "            if high[i] > psar[i]:\n",
    "                bull = True\n",
    "                reverse = True\n",
    "                psar[i] = price_low\n",
    "                price_high = high[i]\n",
    "                af = iaf\n",
    " \n",
    "        if not reverse:\n",
    "            if bull:\n",
    "                if high[i] > price_high:\n",
    "                    price_high = high[i]\n",
    "                    af = min(af + iaf, maxaf)\n",
    "                if low[i - 1] < psar[i]:\n",
    "                    psar[i] = low[i - 1]\n",
    "                if low[i - 2] < psar[i]:\n",
    "                    psar[i] = low[i - 2]\n",
    "            else:\n",
    "                if low[i] < price_low:\n",
    "                    price_low = low[i]\n",
    "                    af = min(af + iaf, maxaf)\n",
    "                if high[i - 1] > psar[i]:\n",
    "                    psar[i] = high[i - 1]\n",
    "                if high[i - 2] > psar[i]:\n",
    "                    psar[i] = high[i - 2]\n",
    " \n",
    "        if bull:\n",
    "            psarbull[i] = psar[i]\n",
    "        else:\n",
    "            psarbear[i] = psar[i]\n",
    " \n",
    "    return {\n",
    "        'bear': np.array(psarbear, dtype='float64'),\n",
    "        'bull': np.array(psarbull, dtype='float64'),\n",
    "    }"
   ]
  },
  {
   "cell_type": "markdown",
   "id": "a8e1eedf-42ee-48d9-90b7-a03984127b91",
   "metadata": {},
   "source": [
    "## 日足チャートとパラボリック SAR"
   ]
  },
  {
   "cell_type": "code",
   "execution_count": 3,
   "id": "9992dabc-2cb3-4cea-b153-802c5fd5b5fb",
   "metadata": {},
   "outputs": [
    {
     "data": {
      "image/png": "[encoded data removed]",
      "text/plain": [
       "<Figure size 1200x600 with 1 Axes>"
      ]
     },
     "metadata": {},
     "output_type": "display_data"
    }
   ],
   "source": [
    "dict_psar = psar(df)\n",
    "\n",
    "fig = plt.figure(figsize=(12, 6))\n",
    "ax = fig.add_subplot(111)\n",
    "\n",
    "apds  = [\n",
    "    mpf.make_addplot(\n",
    "        dict_psar['bear'],\n",
    "        type='scatter',\n",
    "        marker='o',\n",
    "        markersize=5,\n",
    "        color='blue',\n",
    "        label='downtrend',\n",
    "        ax=ax\n",
    "    ),\n",
    "    mpf.make_addplot(\n",
    "        dict_psar['bull'],\n",
    "        type='scatter',\n",
    "        marker='o',\n",
    "        markersize=5,\n",
    "        color='red',\n",
    "        label='uptrend',\n",
    "        ax=ax\n",
    "    ),\n",
    "] \n",
    "\n",
    "mpf.plot(\n",
    "    df,\n",
    "    type='candle',\n",
    "    style='default',\n",
    "    mav=(5, 25, 75),\n",
    "    volume=False,\n",
    "    datetime_format='%m-%d',\n",
    "    addplot=apds,\n",
    "    xrotation=0,\n",
    "    ax=ax,\n",
    ")\n",
    "\n",
    "try:\n",
    "    ax.set_title('Daily chart for %s (%s)\\nmav=(5, 25, 75)' % (ticker.info['longName'], symbol))\n",
    "except KeyError:\n",
    "    ax.set_title('Daily chart for %s\\nmav=(5, 25, 75)' % symbol)\n",
    "\n",
    "ax.grid()\n",
    "\n",
    "plt.tight_layout()\n",
    "\n",
    "m = pattern.match(symbol)\n",
    "if m:\n",
    "    plt.savefig('daily_chart_%s.png' % m.group(1))\n",
    "else:\n",
    "    plt.savefig('daily_chart_%s.png' % symbol)\n",
    "\n",
    "plt.show()"
   ]
  },
  {
   "cell_type": "code",
   "execution_count": 4,
   "id": "02289103-23b3-45c7-9be4-91c4f1e7958c",
   "metadata": {},
   "outputs": [
    {
     "data": {
      "text/plain": [
       "Date\n",
       "2025-01-20 00:00:00+09:00    539.599976\n",
       "2025-01-21 00:00:00+09:00    539.000000\n",
       "Name: Close, dtype: float64"
      ]
     },
     "execution_count": 4,
     "metadata": {},
     "output_type": "execute_result"
    }
   ],
   "source": [
    "df.tail(2)['Close']"
   ]
  },
  {
   "cell_type": "code",
   "execution_count": 5,
   "id": "c71558aa-1b70-454a-b538-e7c62b3710a2",
   "metadata": {},
   "outputs": [
    {
     "data": {
      "text/plain": [
       "Date\n",
       "2025-01-20 00:00:00+09:00         NaN\n",
       "2025-01-21 00:00:00+09:00   -0.599976\n",
       "Name: Close, dtype: float64"
      ]
     },
     "execution_count": 5,
     "metadata": {},
     "output_type": "execute_result"
    }
   ],
   "source": [
    "df.tail(2)['Close'].diff()"
   ]
  },
  {
   "cell_type": "code",
   "execution_count": 6,
   "id": "22705f9a-58ad-4fdd-ad4d-f331fd7d83fa",
   "metadata": {},
   "outputs": [
    {
     "data": {
      "text/plain": [
       "Date\n",
       "2025-01-20 00:00:00+09:00    539.560010\n",
       "2025-01-21 00:00:00+09:00    538.780005\n",
       "Name: Close, dtype: float64"
      ]
     },
     "execution_count": 6,
     "metadata": {},
     "output_type": "execute_result"
    }
   ],
   "source": [
    "df['Close'].rolling(5).mean().tail(2)"
   ]
  },
  {
   "cell_type": "code",
   "execution_count": 7,
   "id": "582d76da-f40c-4dbb-b4b5-c6909bd5d3a6",
   "metadata": {},
   "outputs": [
    {
     "data": {
      "text/plain": [
       "Date\n",
       "2025-01-20 00:00:00+09:00    543.879636\n",
       "2025-01-21 00:00:00+09:00    543.686707\n",
       "Name: Close, dtype: float64"
      ]
     },
     "execution_count": 7,
     "metadata": {},
     "output_type": "execute_result"
    }
   ],
   "source": [
    "df['Close'].rolling(25).mean().tail(2)"
   ]
  },
  {
   "cell_type": "code",
   "execution_count": 8,
   "id": "706214b0-622c-4098-b6ab-e5763461e9e4",
   "metadata": {},
   "outputs": [
    {
     "data": {
      "text/plain": [
       "Date\n",
       "2025-01-20 00:00:00+09:00    545.009139\n",
       "2025-01-21 00:00:00+09:00    544.944295\n",
       "Name: Close, dtype: float64"
      ]
     },
     "execution_count": 8,
     "metadata": {},
     "output_type": "execute_result"
    }
   ],
   "source": [
    "df['Close'].rolling(75).mean().tail(2)"
   ]
  },
  {
   "cell_type": "code",
   "execution_count": null,
   "id": "ee9a4e88-40d2-4c7b-b6ad-64db74cef691",
   "metadata": {},
   "outputs": [],
   "source": []
  }
 ],
 "metadata": {
  "kernelspec": {
   "display_name": "Python 3 (ipykernel)",
   "language": "python",
   "name": "python3"
  },
  "language_info": {
   "codemirror_mode": {
    "name": "ipython",
    "version": 3
   },
   "file_extension": ".py",
   "mimetype": "text/x-python",
   "name": "python",
   "nbconvert_exporter": "python",
   "pygments_lexer": "ipython3",
   "version": "3.13.1"
  }
 },
 "nbformat": 4,
 "nbformat_minor": 5
}
