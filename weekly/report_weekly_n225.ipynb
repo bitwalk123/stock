{
 "cells": [
  {
   "cell_type": "code",
   "execution_count": 10,
   "id": "c14a2fc6-21f3-47d0-a5f1-5fb5e1f40115",
   "metadata": {},
   "outputs": [
    {
     "data": {
      "text/html": [
       "<div>\n",
       "<style scoped>\n",
       "    .dataframe tbody tr th:only-of-type {\n",
       "        vertical-align: middle;\n",
       "    }\n",
       "\n",
       "    .dataframe tbody tr th {\n",
       "        vertical-align: top;\n",
       "    }\n",
       "\n",
       "    .dataframe thead th {\n",
       "        text-align: right;\n",
       "    }\n",
       "</style>\n",
       "<table border=\"1\" class=\"dataframe\">\n",
       "  <thead>\n",
       "    <tr style=\"text-align: right;\">\n",
       "      <th></th>\n",
       "      <th>Open</th>\n",
       "      <th>High</th>\n",
       "      <th>Low</th>\n",
       "      <th>Close</th>\n",
       "      <th>Volume</th>\n",
       "      <th>Dividends</th>\n",
       "      <th>Stock Splits</th>\n",
       "    </tr>\n",
       "    <tr>\n",
       "      <th>Date</th>\n",
       "      <th></th>\n",
       "      <th></th>\n",
       "      <th></th>\n",
       "      <th></th>\n",
       "      <th></th>\n",
       "      <th></th>\n",
       "      <th></th>\n",
       "    </tr>\n",
       "  </thead>\n",
       "  <tbody>\n",
       "    <tr>\n",
       "      <th>2023-01-09 00:00:00+09:00</th>\n",
       "      <td>26176.609375</td>\n",
       "      <td>26547.609375</td>\n",
       "      <td>26090.839844</td>\n",
       "      <td>26119.519531</td>\n",
       "      <td>308900000</td>\n",
       "      <td>0.0</td>\n",
       "      <td>0.0</td>\n",
       "    </tr>\n",
       "    <tr>\n",
       "      <th>2023-01-16 00:00:00+09:00</th>\n",
       "      <td>25836.669922</td>\n",
       "      <td>26816.679688</td>\n",
       "      <td>25748.099609</td>\n",
       "      <td>26553.529297</td>\n",
       "      <td>362300000</td>\n",
       "      <td>0.0</td>\n",
       "      <td>0.0</td>\n",
       "    </tr>\n",
       "    <tr>\n",
       "      <th>2023-01-23 00:00:00+09:00</th>\n",
       "      <td>26880.210938</td>\n",
       "      <td>27502.150391</td>\n",
       "      <td>26788.759766</td>\n",
       "      <td>27382.560547</td>\n",
       "      <td>329200000</td>\n",
       "      <td>0.0</td>\n",
       "      <td>0.0</td>\n",
       "    </tr>\n",
       "    <tr>\n",
       "      <th>2023-01-30 00:00:00+09:00</th>\n",
       "      <td>27384.769531</td>\n",
       "      <td>27612.570312</td>\n",
       "      <td>27302.220703</td>\n",
       "      <td>27509.460938</td>\n",
       "      <td>372200000</td>\n",
       "      <td>0.0</td>\n",
       "      <td>0.0</td>\n",
       "    </tr>\n",
       "    <tr>\n",
       "      <th>2023-02-06 00:00:00+09:00</th>\n",
       "      <td>27764.660156</td>\n",
       "      <td>27821.220703</td>\n",
       "      <td>27424.689453</td>\n",
       "      <td>27670.980469</td>\n",
       "      <td>382200000</td>\n",
       "      <td>0.0</td>\n",
       "      <td>0.0</td>\n",
       "    </tr>\n",
       "    <tr>\n",
       "      <th>...</th>\n",
       "      <td>...</td>\n",
       "      <td>...</td>\n",
       "      <td>...</td>\n",
       "      <td>...</td>\n",
       "      <td>...</td>\n",
       "      <td>...</td>\n",
       "      <td>...</td>\n",
       "    </tr>\n",
       "    <tr>\n",
       "      <th>2024-12-09 00:00:00+09:00</th>\n",
       "      <td>39332.550781</td>\n",
       "      <td>40091.550781</td>\n",
       "      <td>38972.781250</td>\n",
       "      <td>39470.441406</td>\n",
       "      <td>574200000</td>\n",
       "      <td>0.0</td>\n",
       "      <td>0.0</td>\n",
       "    </tr>\n",
       "    <tr>\n",
       "      <th>2024-12-16 00:00:00+09:00</th>\n",
       "      <td>39551.218750</td>\n",
       "      <td>39796.218750</td>\n",
       "      <td>38355.519531</td>\n",
       "      <td>38701.898438</td>\n",
       "      <td>667600000</td>\n",
       "      <td>0.0</td>\n",
       "      <td>0.0</td>\n",
       "    </tr>\n",
       "    <tr>\n",
       "      <th>2024-12-23 00:00:00+09:00</th>\n",
       "      <td>39040.718750</td>\n",
       "      <td>40398.230469</td>\n",
       "      <td>38847.128906</td>\n",
       "      <td>40281.160156</td>\n",
       "      <td>626400000</td>\n",
       "      <td>0.0</td>\n",
       "      <td>0.0</td>\n",
       "    </tr>\n",
       "    <tr>\n",
       "      <th>2024-12-30 00:00:00+09:00</th>\n",
       "      <td>40325.781250</td>\n",
       "      <td>40325.781250</td>\n",
       "      <td>39864.460938</td>\n",
       "      <td>39894.539062</td>\n",
       "      <td>110600000</td>\n",
       "      <td>0.0</td>\n",
       "      <td>0.0</td>\n",
       "    </tr>\n",
       "    <tr>\n",
       "      <th>2025-01-06 00:00:00+09:00</th>\n",
       "      <td>39945.421875</td>\n",
       "      <td>40288.800781</td>\n",
       "      <td>39166.050781</td>\n",
       "      <td>39190.398438</td>\n",
       "      <td>500700000</td>\n",
       "      <td>0.0</td>\n",
       "      <td>0.0</td>\n",
       "    </tr>\n",
       "  </tbody>\n",
       "</table>\n",
       "<p>105 rows × 7 columns</p>\n",
       "</div>"
      ],
      "text/plain": [
       "                                   Open          High           Low  \\\n",
       "Date                                                                  \n",
       "2023-01-09 00:00:00+09:00  26176.609375  26547.609375  26090.839844   \n",
       "2023-01-16 00:00:00+09:00  25836.669922  26816.679688  25748.099609   \n",
       "2023-01-23 00:00:00+09:00  26880.210938  27502.150391  26788.759766   \n",
       "2023-01-30 00:00:00+09:00  27384.769531  27612.570312  27302.220703   \n",
       "2023-02-06 00:00:00+09:00  27764.660156  27821.220703  27424.689453   \n",
       "...                                 ...           ...           ...   \n",
       "2024-12-09 00:00:00+09:00  39332.550781  40091.550781  38972.781250   \n",
       "2024-12-16 00:00:00+09:00  39551.218750  39796.218750  38355.519531   \n",
       "2024-12-23 00:00:00+09:00  39040.718750  40398.230469  38847.128906   \n",
       "2024-12-30 00:00:00+09:00  40325.781250  40325.781250  39864.460938   \n",
       "2025-01-06 00:00:00+09:00  39945.421875  40288.800781  39166.050781   \n",
       "\n",
       "                                  Close     Volume  Dividends  Stock Splits  \n",
       "Date                                                                         \n",
       "2023-01-09 00:00:00+09:00  26119.519531  308900000        0.0           0.0  \n",
       "2023-01-16 00:00:00+09:00  26553.529297  362300000        0.0           0.0  \n",
       "2023-01-23 00:00:00+09:00  27382.560547  329200000        0.0           0.0  \n",
       "2023-01-30 00:00:00+09:00  27509.460938  372200000        0.0           0.0  \n",
       "2023-02-06 00:00:00+09:00  27670.980469  382200000        0.0           0.0  \n",
       "...                                 ...        ...        ...           ...  \n",
       "2024-12-09 00:00:00+09:00  39470.441406  574200000        0.0           0.0  \n",
       "2024-12-16 00:00:00+09:00  38701.898438  667600000        0.0           0.0  \n",
       "2024-12-23 00:00:00+09:00  40281.160156  626400000        0.0           0.0  \n",
       "2024-12-30 00:00:00+09:00  39894.539062  110600000        0.0           0.0  \n",
       "2025-01-06 00:00:00+09:00  39190.398438  500700000        0.0           0.0  \n",
       "\n",
       "[105 rows x 7 columns]"
      ]
     },
     "execution_count": 10,
     "metadata": {},
     "output_type": "execute_result"
    }
   ],
   "source": [
    "import matplotlib.font_manager as fm\n",
    "import matplotlib.pyplot as plt\n",
    "import mplfinance as mpf\n",
    "import yfinance as yf\n",
    "\n",
    "symbol = '^N225'\n",
    "#symbol = 'USDJPY=X'\n",
    "ticker = yf.Ticker(symbol)\n",
    "df = ticker.history(period='2y', interval='1wk')\n",
    "df"
   ]
  },
  {
   "cell_type": "code",
   "execution_count": 11,
   "id": "17d8fa47-23ac-42a6-9f06-d52701bb7a6e",
   "metadata": {},
   "outputs": [
    {
     "data": {
      "image/png": "[encoded data removed]",
      "text/plain": [
       "<Figure size 1200x600 with 1 Axes>"
      ]
     },
     "metadata": {},
     "output_type": "display_data"
    }
   ],
   "source": [
    "FONT_PATH = \"../fonts/RictyDiminished-Regular.ttf\"\n",
    "fm.fontManager.addfont(FONT_PATH)\n",
    "\n",
    "# FontPropertiesオブジェクト生成（名前の取得のため）\n",
    "font_prop = fm.FontProperties(fname=FONT_PATH)\n",
    "font_prop.get_name()\n",
    "\n",
    "plt.rcParams['font.family'] = font_prop.get_name()\n",
    "plt.rcParams['font.size'] = 14\n",
    "\n",
    "fig = plt.figure(figsize=(12, 6))\n",
    "#ax = fig.add_axes(111)\n",
    "ax = fig.add_subplot(111)\n",
    "\n",
    "mpf.plot(\n",
    "    df, type='candle', style='default',\n",
    "    mav=(13, 26, 52),\n",
    "    volume=False,\n",
    "    datetime_format='%Y-%m-%d',\n",
    "    xrotation=0,\n",
    "    ax=ax,\n",
    ")\n",
    "ax.set_title('Weekly chart for %s (%s)\\nmav=(13, 26, 52)' %(ticker.info['longName'], symbol))\n",
    "ax.grid()\n",
    "\n",
    "plt.tight_layout()\n",
    "plt.savefig('weekly_chart_n225.png')\n",
    "plt.show()"
   ]
  },
  {
   "cell_type": "code",
   "execution_count": 12,
   "id": "23f62e6e-ddfb-4940-8d6b-0c6dc04da33b",
   "metadata": {},
   "outputs": [
    {
     "data": {
      "text/html": [
       "<div>\n",
       "<style scoped>\n",
       "    .dataframe tbody tr th:only-of-type {\n",
       "        vertical-align: middle;\n",
       "    }\n",
       "\n",
       "    .dataframe tbody tr th {\n",
       "        vertical-align: top;\n",
       "    }\n",
       "\n",
       "    .dataframe thead th {\n",
       "        text-align: right;\n",
       "    }\n",
       "</style>\n",
       "<table border=\"1\" class=\"dataframe\">\n",
       "  <thead>\n",
       "    <tr style=\"text-align: right;\">\n",
       "      <th></th>\n",
       "      <th>Open</th>\n",
       "      <th>High</th>\n",
       "      <th>Low</th>\n",
       "      <th>Close</th>\n",
       "      <th>Volume</th>\n",
       "      <th>Dividends</th>\n",
       "      <th>Stock Splits</th>\n",
       "    </tr>\n",
       "    <tr>\n",
       "      <th>Date</th>\n",
       "      <th></th>\n",
       "      <th></th>\n",
       "      <th></th>\n",
       "      <th></th>\n",
       "      <th></th>\n",
       "      <th></th>\n",
       "      <th></th>\n",
       "    </tr>\n",
       "  </thead>\n",
       "  <tbody>\n",
       "    <tr>\n",
       "      <th>2024-12-30 00:00:00+09:00</th>\n",
       "      <td>40325.781250</td>\n",
       "      <td>40325.781250</td>\n",
       "      <td>39864.460938</td>\n",
       "      <td>39894.539062</td>\n",
       "      <td>110600000</td>\n",
       "      <td>0.0</td>\n",
       "      <td>0.0</td>\n",
       "    </tr>\n",
       "    <tr>\n",
       "      <th>2025-01-06 00:00:00+09:00</th>\n",
       "      <td>39945.421875</td>\n",
       "      <td>40288.800781</td>\n",
       "      <td>39166.050781</td>\n",
       "      <td>39190.398438</td>\n",
       "      <td>500700000</td>\n",
       "      <td>0.0</td>\n",
       "      <td>0.0</td>\n",
       "    </tr>\n",
       "  </tbody>\n",
       "</table>\n",
       "</div>"
      ],
      "text/plain": [
       "                                   Open          High           Low  \\\n",
       "Date                                                                  \n",
       "2024-12-30 00:00:00+09:00  40325.781250  40325.781250  39864.460938   \n",
       "2025-01-06 00:00:00+09:00  39945.421875  40288.800781  39166.050781   \n",
       "\n",
       "                                  Close     Volume  Dividends  Stock Splits  \n",
       "Date                                                                         \n",
       "2024-12-30 00:00:00+09:00  39894.539062  110600000        0.0           0.0  \n",
       "2025-01-06 00:00:00+09:00  39190.398438  500700000        0.0           0.0  "
      ]
     },
     "execution_count": 12,
     "metadata": {},
     "output_type": "execute_result"
    }
   ],
   "source": [
    "df.tail(2)"
   ]
  },
  {
   "cell_type": "code",
   "execution_count": 13,
   "id": "b5ddac87-7aca-4a91-a167-e92aca64f6e7",
   "metadata": {},
   "outputs": [
    {
     "data": {
      "text/plain": [
       "Date\n",
       "2024-12-30 00:00:00+09:00    39894.539062\n",
       "2025-01-06 00:00:00+09:00    39190.398438\n",
       "Name: Close, dtype: float64"
      ]
     },
     "execution_count": 13,
     "metadata": {},
     "output_type": "execute_result"
    }
   ],
   "source": [
    "df.tail(2)['Close']"
   ]
  },
  {
   "cell_type": "code",
   "execution_count": 14,
   "id": "c16b51e9-cee6-43ea-b5af-a4a1124c2624",
   "metadata": {},
   "outputs": [
    {
     "data": {
      "text/plain": [
       "Date\n",
       "2024-12-30 00:00:00+09:00           NaN\n",
       "2025-01-06 00:00:00+09:00   -704.140625\n",
       "Name: Close, dtype: float64"
      ]
     },
     "execution_count": 14,
     "metadata": {},
     "output_type": "execute_result"
    }
   ],
   "source": [
    "df.tail(2)['Close'].diff()"
   ]
  },
  {
   "cell_type": "code",
   "execution_count": 15,
   "id": "0d2e53a4-2910-4d80-ab41-c22a78eb1850",
   "metadata": {},
   "outputs": [
    {
     "data": {
      "text/plain": [
       "Date\n",
       "2025-01-06 00:00:00+09:00   -755.023438\n",
       "dtype: float64"
      ]
     },
     "execution_count": 15,
     "metadata": {},
     "output_type": "execute_result"
    }
   ],
   "source": [
    "df['Close'].tail(1) - df['Open'].tail(1)"
   ]
  },
  {
   "cell_type": "code",
   "execution_count": 16,
   "id": "8528939e-86ca-48dd-9b63-5635c9c42b27",
   "metadata": {},
   "outputs": [
    {
     "data": {
      "text/plain": [
       "Date\n",
       "2023-01-09 00:00:00+09:00             NaN\n",
       "2023-01-16 00:00:00+09:00             NaN\n",
       "2023-01-23 00:00:00+09:00             NaN\n",
       "2023-01-30 00:00:00+09:00             NaN\n",
       "2023-02-06 00:00:00+09:00             NaN\n",
       "                                 ...     \n",
       "2024-12-09 00:00:00+09:00    38764.693209\n",
       "2024-12-16 00:00:00+09:00    38839.923077\n",
       "2024-12-23 00:00:00+09:00    38874.661659\n",
       "2024-12-30 00:00:00+09:00    38971.501502\n",
       "2025-01-06 00:00:00+09:00    38939.547476\n",
       "Name: Close, Length: 105, dtype: float64"
      ]
     },
     "execution_count": 16,
     "metadata": {},
     "output_type": "execute_result"
    }
   ],
   "source": [
    "df['Close'].rolling(13).mean()"
   ]
  },
  {
   "cell_type": "code",
   "execution_count": 17,
   "id": "7061388d-20d1-49f8-8551-afff6ca3decb",
   "metadata": {},
   "outputs": [
    {
     "data": {
      "text/plain": [
       "Date\n",
       "2023-01-09 00:00:00+09:00             NaN\n",
       "2023-01-16 00:00:00+09:00             NaN\n",
       "2023-01-23 00:00:00+09:00             NaN\n",
       "2023-01-30 00:00:00+09:00             NaN\n",
       "2023-02-06 00:00:00+09:00             NaN\n",
       "                                 ...     \n",
       "2024-12-09 00:00:00+09:00    38497.593450\n",
       "2024-12-16 00:00:00+09:00    38501.648438\n",
       "2024-12-23 00:00:00+09:00    38528.497746\n",
       "2024-12-30 00:00:00+09:00    38489.350361\n",
       "2025-01-06 00:00:00+09:00    38412.416466\n",
       "Name: Close, Length: 105, dtype: float64"
      ]
     },
     "execution_count": 17,
     "metadata": {},
     "output_type": "execute_result"
    }
   ],
   "source": [
    "df['Close'].rolling(26).mean()"
   ]
  },
  {
   "cell_type": "code",
   "execution_count": 18,
   "id": "01d06e4e-0da0-49c8-b132-a20ab8a287ed",
   "metadata": {},
   "outputs": [
    {
     "data": {
      "text/plain": [
       "Date\n",
       "2023-01-09 00:00:00+09:00             NaN\n",
       "2023-01-16 00:00:00+09:00             NaN\n",
       "2023-01-23 00:00:00+09:00             NaN\n",
       "2023-01-30 00:00:00+09:00             NaN\n",
       "2023-02-06 00:00:00+09:00             NaN\n",
       "                                 ...     \n",
       "2024-12-09 00:00:00+09:00    38112.499099\n",
       "2024-12-16 00:00:00+09:00    38218.900015\n",
       "2024-12-23 00:00:00+09:00    38349.995944\n",
       "2024-12-30 00:00:00+09:00    38475.325120\n",
       "2025-01-06 00:00:00+09:00    38544.811448\n",
       "Name: Close, Length: 105, dtype: float64"
      ]
     },
     "execution_count": 18,
     "metadata": {},
     "output_type": "execute_result"
    }
   ],
   "source": [
    "df['Close'].rolling(52).mean()"
   ]
  },
  {
   "cell_type": "code",
   "execution_count": null,
   "id": "6c6debfb-a3d5-422a-8f92-3fae03798c0b",
   "metadata": {},
   "outputs": [],
   "source": []
  }
 ],
 "metadata": {
  "kernelspec": {
   "display_name": "Python 3 (ipykernel)",
   "language": "python",
   "name": "python3"
  },
  "language_info": {
   "codemirror_mode": {
    "name": "ipython",
    "version": 3
   },
   "file_extension": ".py",
   "mimetype": "text/x-python",
   "name": "python",
   "nbconvert_exporter": "python",
   "pygments_lexer": "ipython3",
   "version": "3.13.1"
  }
 },
 "nbformat": 4,
 "nbformat_minor": 5
}
