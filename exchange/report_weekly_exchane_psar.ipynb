{
 "cells": [
  {
   "cell_type": "markdown",
   "id": "52a2670c-4c51-4045-a062-07a2721ad756",
   "metadata": {},
   "source": [
    "# ドル円為替レート 週足, Parabolic SAR"
   ]
  },
  {
   "cell_type": "code",
   "execution_count": 9,
   "id": "6834dd84-ba52-49e6-a4e1-73cf33186524",
   "metadata": {},
   "outputs": [
    {
     "data": {
      "text/html": [
       "<div>\n",
       "<style scoped>\n",
       "    .dataframe tbody tr th:only-of-type {\n",
       "        vertical-align: middle;\n",
       "    }\n",
       "\n",
       "    .dataframe tbody tr th {\n",
       "        vertical-align: top;\n",
       "    }\n",
       "\n",
       "    .dataframe thead th {\n",
       "        text-align: right;\n",
       "    }\n",
       "</style>\n",
       "<table border=\"1\" class=\"dataframe\">\n",
       "  <thead>\n",
       "    <tr style=\"text-align: right;\">\n",
       "      <th></th>\n",
       "      <th>Open</th>\n",
       "      <th>High</th>\n",
       "      <th>Low</th>\n",
       "      <th>Close</th>\n",
       "      <th>Volume</th>\n",
       "      <th>Dividends</th>\n",
       "      <th>Stock Splits</th>\n",
       "    </tr>\n",
       "    <tr>\n",
       "      <th>Date</th>\n",
       "      <th></th>\n",
       "      <th></th>\n",
       "      <th></th>\n",
       "      <th></th>\n",
       "      <th></th>\n",
       "      <th></th>\n",
       "      <th></th>\n",
       "    </tr>\n",
       "  </thead>\n",
       "  <tbody>\n",
       "    <tr>\n",
       "      <th>2022-12-19 00:00:00+00:00</th>\n",
       "      <td>136.994995</td>\n",
       "      <td>137.451996</td>\n",
       "      <td>131.016998</td>\n",
       "      <td>132.759995</td>\n",
       "      <td>0</td>\n",
       "      <td>0.0</td>\n",
       "      <td>0.0</td>\n",
       "    </tr>\n",
       "    <tr>\n",
       "      <th>2022-12-26 00:00:00+00:00</th>\n",
       "      <td>132.770004</td>\n",
       "      <td>134.395004</td>\n",
       "      <td>131.110001</td>\n",
       "      <td>131.110001</td>\n",
       "      <td>0</td>\n",
       "      <td>0.0</td>\n",
       "      <td>0.0</td>\n",
       "    </tr>\n",
       "    <tr>\n",
       "      <th>2023-01-02 00:00:00+00:00</th>\n",
       "      <td>130.845001</td>\n",
       "      <td>134.740997</td>\n",
       "      <td>129.533997</td>\n",
       "      <td>132.080002</td>\n",
       "      <td>0</td>\n",
       "      <td>0.0</td>\n",
       "      <td>0.0</td>\n",
       "    </tr>\n",
       "    <tr>\n",
       "      <th>2023-01-09 00:00:00+00:00</th>\n",
       "      <td>131.862000</td>\n",
       "      <td>132.854004</td>\n",
       "      <td>127.468002</td>\n",
       "      <td>127.870003</td>\n",
       "      <td>0</td>\n",
       "      <td>0.0</td>\n",
       "      <td>0.0</td>\n",
       "    </tr>\n",
       "    <tr>\n",
       "      <th>2023-01-16 00:00:00+00:00</th>\n",
       "      <td>128.026001</td>\n",
       "      <td>131.559006</td>\n",
       "      <td>127.253998</td>\n",
       "      <td>129.550003</td>\n",
       "      <td>0</td>\n",
       "      <td>0.0</td>\n",
       "      <td>0.0</td>\n",
       "    </tr>\n",
       "    <tr>\n",
       "      <th>...</th>\n",
       "      <td>...</td>\n",
       "      <td>...</td>\n",
       "      <td>...</td>\n",
       "      <td>...</td>\n",
       "      <td>...</td>\n",
       "      <td>...</td>\n",
       "      <td>...</td>\n",
       "    </tr>\n",
       "    <tr>\n",
       "      <th>2024-11-18 00:00:00+00:00</th>\n",
       "      <td>154.664001</td>\n",
       "      <td>155.871994</td>\n",
       "      <td>153.397003</td>\n",
       "      <td>154.770004</td>\n",
       "      <td>0</td>\n",
       "      <td>0.0</td>\n",
       "      <td>0.0</td>\n",
       "    </tr>\n",
       "    <tr>\n",
       "      <th>2024-11-25 00:00:00+00:00</th>\n",
       "      <td>154.145996</td>\n",
       "      <td>154.695999</td>\n",
       "      <td>149.589996</td>\n",
       "      <td>149.750000</td>\n",
       "      <td>0</td>\n",
       "      <td>0.0</td>\n",
       "      <td>0.0</td>\n",
       "    </tr>\n",
       "    <tr>\n",
       "      <th>2024-12-02 00:00:00+00:00</th>\n",
       "      <td>149.815994</td>\n",
       "      <td>151.216995</td>\n",
       "      <td>148.651001</td>\n",
       "      <td>149.979996</td>\n",
       "      <td>0</td>\n",
       "      <td>0.0</td>\n",
       "      <td>0.0</td>\n",
       "    </tr>\n",
       "    <tr>\n",
       "      <th>2024-12-09 00:00:00+00:00</th>\n",
       "      <td>149.931000</td>\n",
       "      <td>153.850006</td>\n",
       "      <td>149.697006</td>\n",
       "      <td>153.729996</td>\n",
       "      <td>0</td>\n",
       "      <td>0.0</td>\n",
       "      <td>0.0</td>\n",
       "    </tr>\n",
       "    <tr>\n",
       "      <th>2024-12-16 00:00:00+00:00</th>\n",
       "      <td>153.453003</td>\n",
       "      <td>157.925003</td>\n",
       "      <td>153.326004</td>\n",
       "      <td>157.292007</td>\n",
       "      <td>0</td>\n",
       "      <td>0.0</td>\n",
       "      <td>0.0</td>\n",
       "    </tr>\n",
       "  </tbody>\n",
       "</table>\n",
       "<p>105 rows × 7 columns</p>\n",
       "</div>"
      ],
      "text/plain": [
       "                                 Open        High         Low       Close  \\\n",
       "Date                                                                        \n",
       "2022-12-19 00:00:00+00:00  136.994995  137.451996  131.016998  132.759995   \n",
       "2022-12-26 00:00:00+00:00  132.770004  134.395004  131.110001  131.110001   \n",
       "2023-01-02 00:00:00+00:00  130.845001  134.740997  129.533997  132.080002   \n",
       "2023-01-09 00:00:00+00:00  131.862000  132.854004  127.468002  127.870003   \n",
       "2023-01-16 00:00:00+00:00  128.026001  131.559006  127.253998  129.550003   \n",
       "...                               ...         ...         ...         ...   \n",
       "2024-11-18 00:00:00+00:00  154.664001  155.871994  153.397003  154.770004   \n",
       "2024-11-25 00:00:00+00:00  154.145996  154.695999  149.589996  149.750000   \n",
       "2024-12-02 00:00:00+00:00  149.815994  151.216995  148.651001  149.979996   \n",
       "2024-12-09 00:00:00+00:00  149.931000  153.850006  149.697006  153.729996   \n",
       "2024-12-16 00:00:00+00:00  153.453003  157.925003  153.326004  157.292007   \n",
       "\n",
       "                           Volume  Dividends  Stock Splits  \n",
       "Date                                                        \n",
       "2022-12-19 00:00:00+00:00       0        0.0           0.0  \n",
       "2022-12-26 00:00:00+00:00       0        0.0           0.0  \n",
       "2023-01-02 00:00:00+00:00       0        0.0           0.0  \n",
       "2023-01-09 00:00:00+00:00       0        0.0           0.0  \n",
       "2023-01-16 00:00:00+00:00       0        0.0           0.0  \n",
       "...                           ...        ...           ...  \n",
       "2024-11-18 00:00:00+00:00       0        0.0           0.0  \n",
       "2024-11-25 00:00:00+00:00       0        0.0           0.0  \n",
       "2024-12-02 00:00:00+00:00       0        0.0           0.0  \n",
       "2024-12-09 00:00:00+00:00       0        0.0           0.0  \n",
       "2024-12-16 00:00:00+00:00       0        0.0           0.0  \n",
       "\n",
       "[105 rows x 7 columns]"
      ]
     },
     "execution_count": 9,
     "metadata": {},
     "output_type": "execute_result"
    }
   ],
   "source": [
    "import matplotlib.pyplot as plt\n",
    "import mplfinance as mpf\n",
    "import numpy as np\n",
    "import pandas as pd\n",
    "import yfinance as yf\n",
    "\n",
    "symbol = 'USDJPY=X'\n",
    "#symbol = 'USDJPY=X'\n",
    "ticker = yf.Ticker(symbol)\n",
    "df = ticker.history(period='2y', interval='1wk')\n",
    "df"
   ]
  },
  {
   "cell_type": "markdown",
   "id": "d962988e-3347-4589-b186-27510a8d1d9b",
   "metadata": {},
   "source": [
    "## パラボリック SAR"
   ]
  },
  {
   "cell_type": "code",
   "execution_count": 10,
   "id": "8a50fcec-f72e-414f-89ea-d5c3926b60fd",
   "metadata": {},
   "outputs": [],
   "source": [
    "def psar(ohlc: pd.DataFrame, iaf: float = 0.02, maxaf: float = 0.2) -> dict:\n",
    "    length = len(ohlc)\n",
    "    high = ohlc['High'].tolist()\n",
    "    low = ohlc['Low'].tolist()\n",
    "    close = ohlc['Close'].tolist()\n",
    " \n",
    "    psar = close[0:len(close)]\n",
    "    psarbull = [None] * length\n",
    "    psarbear = [None] * length\n",
    " \n",
    "    bull = True\n",
    "    af = iaf\n",
    "    ep = low[0]\n",
    "    price_high = high[0]\n",
    "    price_low = low[0]\n",
    " \n",
    "    for i in range(2, length):\n",
    "        if bull:\n",
    "            psar[i] = psar[i - 1] + af * (price_high - psar[i - 1])\n",
    "        else:\n",
    "            psar[i] = psar[i - 1] + af * (price_low - psar[i - 1])\n",
    "        reverse = False\n",
    " \n",
    "        if bull:\n",
    "            if low[i] < psar[i]:\n",
    "                bull = False\n",
    "                reverse = True\n",
    "                psar[i] = price_high\n",
    "                price_low = low[i]\n",
    "                af = iaf\n",
    "        else:\n",
    "            if high[i] > psar[i]:\n",
    "                bull = True\n",
    "                reverse = True\n",
    "                psar[i] = price_low\n",
    "                price_high = high[i]\n",
    "                af = iaf\n",
    " \n",
    "        if not reverse:\n",
    "            if bull:\n",
    "                if high[i] > price_high:\n",
    "                    price_high = high[i]\n",
    "                    af = min(af + iaf, maxaf)\n",
    "                if low[i - 1] < psar[i]:\n",
    "                    psar[i] = low[i - 1]\n",
    "                if low[i - 2] < psar[i]:\n",
    "                    psar[i] = low[i - 2]\n",
    "            else:\n",
    "                if low[i] < price_low:\n",
    "                    price_low = low[i]\n",
    "                    af = min(af + iaf, maxaf)\n",
    "                if high[i - 1] > psar[i]:\n",
    "                    psar[i] = high[i - 1]\n",
    "                if high[i - 2] > psar[i]:\n",
    "                    psar[i] = high[i - 2]\n",
    " \n",
    "        if bull:\n",
    "            psarbull[i] = psar[i]\n",
    "        else:\n",
    "            psarbear[i] = psar[i]\n",
    " \n",
    "    return {\n",
    "        'bear': np.array(psarbear, dtype='float64'),\n",
    "        'bull': np.array(psarbull, dtype='float64'),\n",
    "    }"
   ]
  },
  {
   "cell_type": "markdown",
   "id": "a8e1eedf-42ee-48d9-90b7-a03984127b91",
   "metadata": {},
   "source": [
    "## 週足チャートとパラボリック SAR"
   ]
  },
  {
   "cell_type": "code",
   "execution_count": 11,
   "id": "9992dabc-2cb3-4cea-b153-802c5fd5b5fb",
   "metadata": {},
   "outputs": [
    {
     "data": {
      "image/png": "[encoded data removed]",
      "text/plain": [
       "<Figure size 1200x600 with 1 Axes>"
      ]
     },
     "metadata": {},
     "output_type": "display_data"
    }
   ],
   "source": [
    "dict_psar = psar(df)\n",
    "\n",
    "fig = plt.figure(figsize=(12, 6))\n",
    "ax = fig.add_subplot(111)\n",
    "\n",
    "apds  = [\n",
    "    mpf.make_addplot(\n",
    "        dict_psar['bear'],\n",
    "        type='scatter',\n",
    "        marker='o',\n",
    "        markersize=10,\n",
    "        color='blue',\n",
    "        label='downtrend',\n",
    "        ax=ax\n",
    "    ),\n",
    "    mpf.make_addplot(\n",
    "        dict_psar['bull'],\n",
    "        type='scatter',\n",
    "        marker='o',\n",
    "        markersize=10,\n",
    "        color='red',\n",
    "        label='uptrend',\n",
    "        ax=ax\n",
    "    ),\n",
    "] \n",
    "\n",
    "mpf.plot(\n",
    "    df,\n",
    "    type='candle',\n",
    "    style='default',\n",
    "    mav=(13, 26, 52),\n",
    "    volume=False,\n",
    "    datetime_format='%m-%d',\n",
    "    addplot=apds,\n",
    "    xrotation=0,\n",
    "    ax=ax,\n",
    ")\n",
    "try:\n",
    "    ax.set_title('Weekly chart for %s (%s)\\nmav=(13, 26, 52)' % (ticker.info['longName'], symbol))\n",
    "except KeyError:\n",
    "    ax.set_title('Weekly chart for %s\\nmav=(13, 26, 52)' % symbol)\n",
    "\n",
    "ax.grid()\n",
    "\n",
    "plt.tight_layout()\n",
    "plt.savefig('weekly_chart_exchange_psar.png')\n",
    "plt.show()"
   ]
  },
  {
   "cell_type": "code",
   "execution_count": 4,
   "id": "02289103-23b3-45c7-9be4-91c4f1e7958c",
   "metadata": {},
   "outputs": [
    {
     "data": {
      "text/html": [
       "<div>\n",
       "<style scoped>\n",
       "    .dataframe tbody tr th:only-of-type {\n",
       "        vertical-align: middle;\n",
       "    }\n",
       "\n",
       "    .dataframe tbody tr th {\n",
       "        vertical-align: top;\n",
       "    }\n",
       "\n",
       "    .dataframe thead th {\n",
       "        text-align: right;\n",
       "    }\n",
       "</style>\n",
       "<table border=\"1\" class=\"dataframe\">\n",
       "  <thead>\n",
       "    <tr style=\"text-align: right;\">\n",
       "      <th></th>\n",
       "      <th>Open</th>\n",
       "      <th>High</th>\n",
       "      <th>Low</th>\n",
       "      <th>Close</th>\n",
       "      <th>Volume</th>\n",
       "      <th>Dividends</th>\n",
       "      <th>Stock Splits</th>\n",
       "    </tr>\n",
       "    <tr>\n",
       "      <th>Date</th>\n",
       "      <th></th>\n",
       "      <th></th>\n",
       "      <th></th>\n",
       "      <th></th>\n",
       "      <th></th>\n",
       "      <th></th>\n",
       "      <th></th>\n",
       "    </tr>\n",
       "  </thead>\n",
       "  <tbody>\n",
       "    <tr>\n",
       "      <th>2024-12-16 00:00:00+00:00</th>\n",
       "      <td>153.453003</td>\n",
       "      <td>157.925003</td>\n",
       "      <td>153.326004</td>\n",
       "      <td>157.255997</td>\n",
       "      <td>0</td>\n",
       "      <td>0.0</td>\n",
       "      <td>0.0</td>\n",
       "    </tr>\n",
       "  </tbody>\n",
       "</table>\n",
       "</div>"
      ],
      "text/plain": [
       "                                 Open        High         Low       Close  \\\n",
       "Date                                                                        \n",
       "2024-12-16 00:00:00+00:00  153.453003  157.925003  153.326004  157.255997   \n",
       "\n",
       "                           Volume  Dividends  Stock Splits  \n",
       "Date                                                        \n",
       "2024-12-16 00:00:00+00:00       0        0.0           0.0  "
      ]
     },
     "execution_count": 4,
     "metadata": {},
     "output_type": "execute_result"
    }
   ],
   "source": [
    "df.tail(1)"
   ]
  },
  {
   "cell_type": "code",
   "execution_count": 5,
   "id": "c71558aa-1b70-454a-b538-e7c62b3710a2",
   "metadata": {},
   "outputs": [
    {
     "data": {
      "text/plain": [
       "Date\n",
       "2024-12-09 00:00:00+00:00    153.729996\n",
       "2024-12-16 00:00:00+00:00    157.255997\n",
       "Name: Close, dtype: float64"
      ]
     },
     "execution_count": 5,
     "metadata": {},
     "output_type": "execute_result"
    }
   ],
   "source": [
    "df.tail(2)['Close']"
   ]
  },
  {
   "cell_type": "code",
   "execution_count": 6,
   "id": "6be1421f-d099-45e8-8bc3-c8d627c58968",
   "metadata": {},
   "outputs": [
    {
     "data": {
      "text/plain": [
       "Date\n",
       "2024-12-09 00:00:00+00:00         NaN\n",
       "2024-12-16 00:00:00+00:00    3.526001\n",
       "Name: Close, dtype: float64"
      ]
     },
     "execution_count": 6,
     "metadata": {},
     "output_type": "execute_result"
    }
   ],
   "source": [
    "df.tail(2)['Close'].diff()"
   ]
  },
  {
   "cell_type": "code",
   "execution_count": 7,
   "id": "d0c05cb4-c2ae-4a55-b11e-9ee79dc3db62",
   "metadata": {},
   "outputs": [
    {
     "data": {
      "text/plain": [
       "Date\n",
       "2024-11-18 00:00:00+00:00    151.411924\n",
       "2024-11-25 00:00:00+00:00    151.123078\n",
       "2024-12-02 00:00:00+00:00    150.864231\n",
       "2024-12-09 00:00:00+00:00    150.722693\n",
       "2024-12-16 00:00:00+00:00    150.626000\n",
       "Name: Close, dtype: float64"
      ]
     },
     "execution_count": 7,
     "metadata": {},
     "output_type": "execute_result"
    }
   ],
   "source": [
    "df['Close'].rolling(26).mean().tail(5)"
   ]
  },
  {
   "cell_type": "code",
   "execution_count": 8,
   "id": "b2127b5f-fe9f-4288-ade2-7588b5eb21f5",
   "metadata": {},
   "outputs": [
    {
     "data": {
      "text/plain": [
       "Date\n",
       "2024-11-18 00:00:00+00:00    150.501307\n",
       "2024-11-25 00:00:00+00:00    150.557846\n",
       "2024-12-02 00:00:00+00:00    150.656327\n",
       "2024-12-09 00:00:00+00:00    150.879596\n",
       "2024-12-16 00:00:00+00:00    151.165096\n",
       "Name: Close, dtype: float64"
      ]
     },
     "execution_count": 8,
     "metadata": {},
     "output_type": "execute_result"
    }
   ],
   "source": [
    "df['Close'].rolling(52).mean().tail(5)"
   ]
  }
 ],
 "metadata": {
  "kernelspec": {
   "display_name": "Python 3 (ipykernel)",
   "language": "python",
   "name": "python3"
  },
  "language_info": {
   "codemirror_mode": {
    "name": "ipython",
    "version": 3
   },
   "file_extension": ".py",
   "mimetype": "text/x-python",
   "name": "python",
   "nbconvert_exporter": "python",
   "pygments_lexer": "ipython3",
   "version": "3.13.0"
  }
 },
 "nbformat": 4,
 "nbformat_minor": 5
}
