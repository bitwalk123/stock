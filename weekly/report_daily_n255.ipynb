{
 "cells": [
  {
   "cell_type": "markdown",
   "id": "52a2670c-4c51-4045-a062-07a2721ad756",
   "metadata": {},
   "source": [
    "# 日経平均株価 日足"
   ]
  },
  {
   "cell_type": "code",
   "execution_count": 15,
   "id": "6834dd84-ba52-49e6-a4e1-73cf33186524",
   "metadata": {},
   "outputs": [
    {
     "data": {
      "text/html": [
       "<div>\n",
       "<style scoped>\n",
       "    .dataframe tbody tr th:only-of-type {\n",
       "        vertical-align: middle;\n",
       "    }\n",
       "\n",
       "    .dataframe tbody tr th {\n",
       "        vertical-align: top;\n",
       "    }\n",
       "\n",
       "    .dataframe thead th {\n",
       "        text-align: right;\n",
       "    }\n",
       "</style>\n",
       "<table border=\"1\" class=\"dataframe\">\n",
       "  <thead>\n",
       "    <tr style=\"text-align: right;\">\n",
       "      <th></th>\n",
       "      <th>Open</th>\n",
       "      <th>High</th>\n",
       "      <th>Low</th>\n",
       "      <th>Close</th>\n",
       "      <th>Volume</th>\n",
       "      <th>Dividends</th>\n",
       "      <th>Stock Splits</th>\n",
       "    </tr>\n",
       "    <tr>\n",
       "      <th>Date</th>\n",
       "      <th></th>\n",
       "      <th></th>\n",
       "      <th></th>\n",
       "      <th></th>\n",
       "      <th></th>\n",
       "      <th></th>\n",
       "      <th></th>\n",
       "    </tr>\n",
       "  </thead>\n",
       "  <tbody>\n",
       "    <tr>\n",
       "      <th>2024-06-13 00:00:00+09:00</th>\n",
       "      <td>39182.058594</td>\n",
       "      <td>39252.441406</td>\n",
       "      <td>38689.789062</td>\n",
       "      <td>38720.468750</td>\n",
       "      <td>115900000</td>\n",
       "      <td>0.0</td>\n",
       "      <td>0.0</td>\n",
       "    </tr>\n",
       "    <tr>\n",
       "      <th>2024-06-14 00:00:00+09:00</th>\n",
       "      <td>38587.570312</td>\n",
       "      <td>39025.699219</td>\n",
       "      <td>38554.750000</td>\n",
       "      <td>38814.558594</td>\n",
       "      <td>157100000</td>\n",
       "      <td>0.0</td>\n",
       "      <td>0.0</td>\n",
       "    </tr>\n",
       "    <tr>\n",
       "      <th>2024-06-17 00:00:00+09:00</th>\n",
       "      <td>38440.980469</td>\n",
       "      <td>38442.699219</td>\n",
       "      <td>37950.199219</td>\n",
       "      <td>38102.441406</td>\n",
       "      <td>107500000</td>\n",
       "      <td>0.0</td>\n",
       "      <td>0.0</td>\n",
       "    </tr>\n",
       "    <tr>\n",
       "      <th>2024-06-18 00:00:00+09:00</th>\n",
       "      <td>38433.480469</td>\n",
       "      <td>38519.019531</td>\n",
       "      <td>38332.890625</td>\n",
       "      <td>38482.109375</td>\n",
       "      <td>97100000</td>\n",
       "      <td>0.0</td>\n",
       "      <td>0.0</td>\n",
       "    </tr>\n",
       "    <tr>\n",
       "      <th>2024-06-19 00:00:00+09:00</th>\n",
       "      <td>38653.910156</td>\n",
       "      <td>38797.968750</td>\n",
       "      <td>38453.410156</td>\n",
       "      <td>38570.761719</td>\n",
       "      <td>93600000</td>\n",
       "      <td>0.0</td>\n",
       "      <td>0.0</td>\n",
       "    </tr>\n",
       "    <tr>\n",
       "      <th>...</th>\n",
       "      <td>...</td>\n",
       "      <td>...</td>\n",
       "      <td>...</td>\n",
       "      <td>...</td>\n",
       "      <td>...</td>\n",
       "      <td>...</td>\n",
       "      <td>...</td>\n",
       "    </tr>\n",
       "    <tr>\n",
       "      <th>2024-12-09 00:00:00+09:00</th>\n",
       "      <td>39332.550781</td>\n",
       "      <td>39332.550781</td>\n",
       "      <td>38972.781250</td>\n",
       "      <td>39160.500000</td>\n",
       "      <td>113100000</td>\n",
       "      <td>0.0</td>\n",
       "      <td>0.0</td>\n",
       "    </tr>\n",
       "    <tr>\n",
       "      <th>2024-12-10 00:00:00+09:00</th>\n",
       "      <td>39375.488281</td>\n",
       "      <td>39465.140625</td>\n",
       "      <td>39171.691406</td>\n",
       "      <td>39367.578125</td>\n",
       "      <td>110300000</td>\n",
       "      <td>0.0</td>\n",
       "      <td>0.0</td>\n",
       "    </tr>\n",
       "    <tr>\n",
       "      <th>2024-12-11 00:00:00+09:00</th>\n",
       "      <td>39357.769531</td>\n",
       "      <td>39401.929688</td>\n",
       "      <td>39112.800781</td>\n",
       "      <td>39372.230469</td>\n",
       "      <td>105800000</td>\n",
       "      <td>0.0</td>\n",
       "      <td>0.0</td>\n",
       "    </tr>\n",
       "    <tr>\n",
       "      <th>2024-12-12 00:00:00+09:00</th>\n",
       "      <td>39849.968750</td>\n",
       "      <td>40091.550781</td>\n",
       "      <td>39827.589844</td>\n",
       "      <td>39849.140625</td>\n",
       "      <td>121100000</td>\n",
       "      <td>0.0</td>\n",
       "      <td>0.0</td>\n",
       "    </tr>\n",
       "    <tr>\n",
       "      <th>2024-12-13 00:00:00+09:00</th>\n",
       "      <td>39624.050781</td>\n",
       "      <td>39734.988281</td>\n",
       "      <td>39247.410156</td>\n",
       "      <td>39470.441406</td>\n",
       "      <td>0</td>\n",
       "      <td>0.0</td>\n",
       "      <td>0.0</td>\n",
       "    </tr>\n",
       "  </tbody>\n",
       "</table>\n",
       "<p>126 rows × 7 columns</p>\n",
       "</div>"
      ],
      "text/plain": [
       "                                   Open          High           Low  \\\n",
       "Date                                                                  \n",
       "2024-06-13 00:00:00+09:00  39182.058594  39252.441406  38689.789062   \n",
       "2024-06-14 00:00:00+09:00  38587.570312  39025.699219  38554.750000   \n",
       "2024-06-17 00:00:00+09:00  38440.980469  38442.699219  37950.199219   \n",
       "2024-06-18 00:00:00+09:00  38433.480469  38519.019531  38332.890625   \n",
       "2024-06-19 00:00:00+09:00  38653.910156  38797.968750  38453.410156   \n",
       "...                                 ...           ...           ...   \n",
       "2024-12-09 00:00:00+09:00  39332.550781  39332.550781  38972.781250   \n",
       "2024-12-10 00:00:00+09:00  39375.488281  39465.140625  39171.691406   \n",
       "2024-12-11 00:00:00+09:00  39357.769531  39401.929688  39112.800781   \n",
       "2024-12-12 00:00:00+09:00  39849.968750  40091.550781  39827.589844   \n",
       "2024-12-13 00:00:00+09:00  39624.050781  39734.988281  39247.410156   \n",
       "\n",
       "                                  Close     Volume  Dividends  Stock Splits  \n",
       "Date                                                                         \n",
       "2024-06-13 00:00:00+09:00  38720.468750  115900000        0.0           0.0  \n",
       "2024-06-14 00:00:00+09:00  38814.558594  157100000        0.0           0.0  \n",
       "2024-06-17 00:00:00+09:00  38102.441406  107500000        0.0           0.0  \n",
       "2024-06-18 00:00:00+09:00  38482.109375   97100000        0.0           0.0  \n",
       "2024-06-19 00:00:00+09:00  38570.761719   93600000        0.0           0.0  \n",
       "...                                 ...        ...        ...           ...  \n",
       "2024-12-09 00:00:00+09:00  39160.500000  113100000        0.0           0.0  \n",
       "2024-12-10 00:00:00+09:00  39367.578125  110300000        0.0           0.0  \n",
       "2024-12-11 00:00:00+09:00  39372.230469  105800000        0.0           0.0  \n",
       "2024-12-12 00:00:00+09:00  39849.140625  121100000        0.0           0.0  \n",
       "2024-12-13 00:00:00+09:00  39470.441406          0        0.0           0.0  \n",
       "\n",
       "[126 rows x 7 columns]"
      ]
     },
     "execution_count": 15,
     "metadata": {},
     "output_type": "execute_result"
    }
   ],
   "source": [
    "import matplotlib.pyplot as plt\n",
    "import mplfinance as mpf\n",
    "import numpy as np\n",
    "import pandas as pd\n",
    "import yfinance as yf\n",
    "\n",
    "symbol = '^N225'\n",
    "ticker = yf.Ticker(symbol)\n",
    "\n",
    "df = ticker.history(period='6mo')\n",
    "df"
   ]
  },
  {
   "cell_type": "markdown",
   "id": "d962988e-3347-4589-b186-27510a8d1d9b",
   "metadata": {},
   "source": [
    "## パラボリック SAR"
   ]
  },
  {
   "cell_type": "code",
   "execution_count": 16,
   "id": "8a50fcec-f72e-414f-89ea-d5c3926b60fd",
   "metadata": {},
   "outputs": [],
   "source": [
    "def psar(ohlc: pd.DataFrame, iaf: float = 0.02, maxaf: float = 0.2) -> dict:\n",
    "    length = len(ohlc)\n",
    "    high = ohlc['High'].tolist()\n",
    "    low = ohlc['Low'].tolist()\n",
    "    close = ohlc['Close'].tolist()\n",
    " \n",
    "    psar = close[0:len(close)]\n",
    "    psarbull = [None] * length\n",
    "    psarbear = [None] * length\n",
    " \n",
    "    bull = True\n",
    "    af = iaf\n",
    "    ep = low[0]\n",
    "    price_high = high[0]\n",
    "    price_low = low[0]\n",
    " \n",
    "    for i in range(2, length):\n",
    "        if bull:\n",
    "            psar[i] = psar[i - 1] + af * (price_high - psar[i - 1])\n",
    "        else:\n",
    "            psar[i] = psar[i - 1] + af * (price_low - psar[i - 1])\n",
    "        reverse = False\n",
    " \n",
    "        if bull:\n",
    "            if low[i] < psar[i]:\n",
    "                bull = False\n",
    "                reverse = True\n",
    "                psar[i] = price_high\n",
    "                price_low = low[i]\n",
    "                af = iaf\n",
    "        else:\n",
    "            if high[i] > psar[i]:\n",
    "                bull = True\n",
    "                reverse = True\n",
    "                psar[i] = price_low\n",
    "                price_high = high[i]\n",
    "                af = iaf\n",
    " \n",
    "        if not reverse:\n",
    "            if bull:\n",
    "                if high[i] > price_high:\n",
    "                    price_high = high[i]\n",
    "                    af = min(af + iaf, maxaf)\n",
    "                if low[i - 1] < psar[i]:\n",
    "                    psar[i] = low[i - 1]\n",
    "                if low[i - 2] < psar[i]:\n",
    "                    psar[i] = low[i - 2]\n",
    "            else:\n",
    "                if low[i] < price_low:\n",
    "                    price_low = low[i]\n",
    "                    af = min(af + iaf, maxaf)\n",
    "                if high[i - 1] > psar[i]:\n",
    "                    psar[i] = high[i - 1]\n",
    "                if high[i - 2] > psar[i]:\n",
    "                    psar[i] = high[i - 2]\n",
    " \n",
    "        if bull:\n",
    "            psarbull[i] = psar[i]\n",
    "        else:\n",
    "            psarbear[i] = psar[i]\n",
    " \n",
    "    return {\n",
    "        'bear': np.array(psarbear, dtype='float64'),\n",
    "        'bull': np.array(psarbull, dtype='float64'),\n",
    "    }"
   ]
  },
  {
   "cell_type": "markdown",
   "id": "a8e1eedf-42ee-48d9-90b7-a03984127b91",
   "metadata": {},
   "source": [
    "## 日足チャートとパラボリック SAR"
   ]
  },
  {
   "cell_type": "code",
   "execution_count": 17,
   "id": "9992dabc-2cb3-4cea-b153-802c5fd5b5fb",
   "metadata": {},
   "outputs": [
    {
     "data": {
      "image/png": "[encoded data removed]",
      "text/plain": [
       "<Figure size 1200x600 with 1 Axes>"
      ]
     },
     "metadata": {},
     "output_type": "display_data"
    }
   ],
   "source": [
    "dict_psar = psar(df)\n",
    "\n",
    "fig = plt.figure(figsize=(12, 6))\n",
    "ax = fig.add_subplot(111)\n",
    "\n",
    "apds  = [\n",
    "    mpf.make_addplot(\n",
    "        dict_psar['bear'],\n",
    "        type='scatter',\n",
    "        marker='o',\n",
    "        markersize=10,\n",
    "        color='blue',\n",
    "        label='downtrend',\n",
    "        ax=ax\n",
    "    ),\n",
    "    mpf.make_addplot(\n",
    "        dict_psar['bull'],\n",
    "        type='scatter',\n",
    "        marker='o',\n",
    "        markersize=10,\n",
    "        color='red',\n",
    "        label='uptrend',\n",
    "        ax=ax\n",
    "    ),\n",
    "] \n",
    "\n",
    "mpf.plot(\n",
    "    df,\n",
    "    type='candle',\n",
    "    style='default',\n",
    "    mav=(5, 25, 75, 200),\n",
    "    volume=False,\n",
    "    datetime_format='%m-%d',\n",
    "    addplot=apds,\n",
    "    xrotation=0,\n",
    "    ax=ax,\n",
    ")\n",
    "try:\n",
    "    ax.set_title('Daily chart for %s (%s)\\nmav=(5, 25, 75, 200)' % (ticker.info['longName'], symbol))\n",
    "except KeyError:\n",
    "    ax.set_title('Daily chart for %s\\nmav=(5, 25, 75, 200)' % symbol)\n",
    "\n",
    "ax.grid()\n",
    "\n",
    "plt.tight_layout()\n",
    "plt.savefig('daily_chart_n225.png')\n",
    "plt.show()"
   ]
  },
  {
   "cell_type": "code",
   "execution_count": 12,
   "id": "02289103-23b3-45c7-9be4-91c4f1e7958c",
   "metadata": {},
   "outputs": [
    {
     "data": {
      "text/plain": [
       "Date\n",
       "2024-12-12 00:00:00+09:00    39849.140625\n",
       "2024-12-13 00:00:00+09:00    39470.441406\n",
       "Name: Close, dtype: float64"
      ]
     },
     "execution_count": 12,
     "metadata": {},
     "output_type": "execute_result"
    }
   ],
   "source": [
    "df.tail(2)['Close']"
   ]
  },
  {
   "cell_type": "code",
   "execution_count": 13,
   "id": "c71558aa-1b70-454a-b538-e7c62b3710a2",
   "metadata": {},
   "outputs": [
    {
     "data": {
      "text/plain": [
       "Date\n",
       "2024-12-12 00:00:00+09:00           NaN\n",
       "2024-12-13 00:00:00+09:00   -378.699219\n",
       "Name: Close, dtype: float64"
      ]
     },
     "execution_count": 13,
     "metadata": {},
     "output_type": "execute_result"
    }
   ],
   "source": [
    "df.tail(2)['Close'].diff()"
   ]
  },
  {
   "cell_type": "code",
   "execution_count": 14,
   "id": "6be1421f-d099-45e8-8bc3-c8d627c58968",
   "metadata": {},
   "outputs": [
    {
     "data": {
      "text/plain": [
       "Date\n",
       "2024-06-13 00:00:00+09:00             NaN\n",
       "2024-06-14 00:00:00+09:00             NaN\n",
       "2024-06-17 00:00:00+09:00             NaN\n",
       "2024-06-18 00:00:00+09:00             NaN\n",
       "2024-06-19 00:00:00+09:00             NaN\n",
       "                                 ...     \n",
       "2024-12-09 00:00:00+09:00    38781.776719\n",
       "2024-12-10 00:00:00+09:00    38817.483906\n",
       "2024-12-11 00:00:00+09:00    38813.146250\n",
       "2024-12-12 00:00:00+09:00    38831.855469\n",
       "2024-12-13 00:00:00+09:00    38830.658281\n",
       "Name: Close, Length: 126, dtype: float64"
      ]
     },
     "execution_count": 14,
     "metadata": {},
     "output_type": "execute_result"
    }
   ],
   "source": [
    "df['Close'].rolling(25).mean()"
   ]
  },
  {
   "cell_type": "code",
   "execution_count": 7,
   "id": "891d1909-3c6c-4535-a882-ba7aad2f2f28",
   "metadata": {},
   "outputs": [
    {
     "data": {
      "text/plain": [
       "Date\n",
       "2023-12-13 00:00:00+09:00             NaN\n",
       "2023-12-14 00:00:00+09:00             NaN\n",
       "2023-12-15 00:00:00+09:00             NaN\n",
       "2023-12-18 00:00:00+09:00             NaN\n",
       "2023-12-19 00:00:00+09:00             NaN\n",
       "                                 ...     \n",
       "2024-12-09 00:00:00+09:00    38364.145990\n",
       "2024-12-10 00:00:00+09:00    38383.023021\n",
       "2024-12-11 00:00:00+09:00    38398.505937\n",
       "2024-12-12 00:00:00+09:00    38418.304219\n",
       "2024-12-13 00:00:00+09:00    38436.440521\n",
       "Name: Close, Length: 247, dtype: float64"
      ]
     },
     "execution_count": 7,
     "metadata": {},
     "output_type": "execute_result"
    }
   ],
   "source": [
    "df['Close'].rolling(75).mean()"
   ]
  },
  {
   "cell_type": "code",
   "execution_count": 8,
   "id": "b5a62dc0-6c62-4bab-b70b-44e17cc707aa",
   "metadata": {},
   "outputs": [
    {
     "data": {
      "text/plain": [
       "Date\n",
       "2023-12-13 00:00:00+09:00             NaN\n",
       "2023-12-14 00:00:00+09:00             NaN\n",
       "2023-12-15 00:00:00+09:00             NaN\n",
       "2023-12-18 00:00:00+09:00             NaN\n",
       "2023-12-19 00:00:00+09:00             NaN\n",
       "                                 ...     \n",
       "2024-12-09 00:00:00+09:00    38680.948525\n",
       "2024-12-10 00:00:00+09:00    38685.434521\n",
       "2024-12-11 00:00:00+09:00    38690.477627\n",
       "2024-12-12 00:00:00+09:00    38698.412529\n",
       "2024-12-13 00:00:00+09:00    38700.271338\n",
       "Name: Close, Length: 247, dtype: float64"
      ]
     },
     "execution_count": 8,
     "metadata": {},
     "output_type": "execute_result"
    }
   ],
   "source": [
    "df['Close'].rolling(200).mean()"
   ]
  },
  {
   "cell_type": "code",
   "execution_count": null,
   "id": "ed6538a1-1102-450e-ba62-1ad2e562d213",
   "metadata": {},
   "outputs": [],
   "source": []
  }
 ],
 "metadata": {
  "kernelspec": {
   "display_name": "Python 3 (ipykernel)",
   "language": "python",
   "name": "python3"
  },
  "language_info": {
   "codemirror_mode": {
    "name": "ipython",
    "version": 3
   },
   "file_extension": ".py",
   "mimetype": "text/x-python",
   "name": "python",
   "nbconvert_exporter": "python",
   "pygments_lexer": "ipython3",
   "version": "3.13.0"
  }
 },
 "nbformat": 4,
 "nbformat_minor": 5
}
