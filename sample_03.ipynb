{
 "cells": [
  {
   "cell_type": "markdown",
   "id": "12c4a5e1-22d2-4369-9a66-eadf1f5e9923",
   "metadata": {
    "tags": []
   },
   "source": [
    "#### Reference\n",
    "\n",
    "https://qiita.com/kanagii_codes/items/d33f3b1532802413e619"
   ]
  },
  {
   "cell_type": "code",
   "execution_count": 1,
   "id": "e1b1aa54-09f3-4cc7-9dd2-a9dc19f897f3",
   "metadata": {
    "tags": []
   },
   "outputs": [
    {
     "name": "stdout",
     "output_type": "stream",
     "text": [
      "--2023-05-04 19:04:27--  https://www.jpx.co.jp/markets/statistics-equities/misc/tvdivq0000001vg2-att/data_j.xls\n",
      "www.jpx.co.jp (www.jpx.co.jp) をDNSに問いあわせています... 23.10.4.117\n",
      "www.jpx.co.jp (www.jpx.co.jp)|23.10.4.117|:443 に接続しています... 接続しました。\n",
      "HTTP による接続要求を送信しました、応答を待っています... 200 OK\n",
      "長さ: 783872 (766K) [application/vnd.ms-excel]\n",
      "`data_j.xls.4' に保存中\n",
      "\n",
      "data_j.xls.4        100%[===================>] 765.50K  --.-KB/s 時間 0.09s      \n",
      "\n",
      "2023-05-04 19:04:28 (8.34 MB/s) - `data_j.xls.4' へ保存完了 [783872/783872]\n",
      "\n"
     ]
    }
   ],
   "source": [
    "import pandas as pd\n",
    "\n",
    "##東証から上場企業の一覧を取得\n",
    "!wget 'https://www.jpx.co.jp/markets/statistics-equities/misc/tvdivq0000001vg2-att/data_j.xls'\n",
    "\n",
    "df = pd.read_excel(\"./data_j.xls\")"
   ]
  },
  {
   "cell_type": "code",
   "execution_count": 2,
   "id": "0f0f2a5f-a1e0-416b-bdf5-578d9a60e89d",
   "metadata": {
    "tags": []
   },
   "outputs": [
    {
     "data": {
      "text/plain": [
       "Index(['日付', 'コード', '銘柄名', '市場・商品区分', '33業種コード', '33業種区分', '17業種コード', '17業種区分',\n",
       "       '規模コード', '規模区分'],\n",
       "      dtype='object')"
      ]
     },
     "execution_count": 2,
     "metadata": {},
     "output_type": "execute_result"
    }
   ],
   "source": [
    "df.columns"
   ]
  },
  {
   "cell_type": "code",
   "execution_count": 3,
   "id": "bcc0dc21-fa12-47b9-acc6-decf2cf70c71",
   "metadata": {
    "tags": []
   },
   "outputs": [
    {
     "data": {
      "text/plain": [
       "['ETF・ETN',\n",
       " 'PRO Market',\n",
       " 'REIT・ベンチャーファンド・カントリーファンド・インフラファンド',\n",
       " 'グロース（内国株式）',\n",
       " 'グロース（外国株式）',\n",
       " 'スタンダード（内国株式）',\n",
       " 'スタンダード（外国株式）',\n",
       " 'プライム（内国株式）',\n",
       " 'プライム（外国株式）',\n",
       " '出資証券']"
      ]
     },
     "execution_count": 3,
     "metadata": {},
     "output_type": "execute_result"
    }
   ],
   "source": [
    "sorted(list(set(df['市場・商品区分'])))"
   ]
  },
  {
   "cell_type": "code",
   "execution_count": 4,
   "id": "85d65d37-aeeb-4366-952d-7bd1becb8f7a",
   "metadata": {
    "tags": []
   },
   "outputs": [
    {
     "data": {
      "text/html": [
       "<div>\n",
       "<style scoped>\n",
       "    .dataframe tbody tr th:only-of-type {\n",
       "        vertical-align: middle;\n",
       "    }\n",
       "\n",
       "    .dataframe tbody tr th {\n",
       "        vertical-align: top;\n",
       "    }\n",
       "\n",
       "    .dataframe thead th {\n",
       "        text-align: right;\n",
       "    }\n",
       "</style>\n",
       "<table border=\"1\" class=\"dataframe\">\n",
       "  <thead>\n",
       "    <tr style=\"text-align: right;\">\n",
       "      <th></th>\n",
       "      <th>日付</th>\n",
       "      <th>コード</th>\n",
       "      <th>銘柄名</th>\n",
       "      <th>市場・商品区分</th>\n",
       "      <th>33業種コード</th>\n",
       "      <th>33業種区分</th>\n",
       "      <th>17業種コード</th>\n",
       "      <th>17業種区分</th>\n",
       "      <th>規模コード</th>\n",
       "      <th>規模区分</th>\n",
       "    </tr>\n",
       "  </thead>\n",
       "  <tbody>\n",
       "    <tr>\n",
       "      <th>0</th>\n",
       "      <td>20230331</td>\n",
       "      <td>1301</td>\n",
       "      <td>極洋</td>\n",
       "      <td>プライム（内国株式）</td>\n",
       "      <td>50</td>\n",
       "      <td>水産・農林業</td>\n",
       "      <td>1</td>\n",
       "      <td>食品</td>\n",
       "      <td>7</td>\n",
       "      <td>TOPIX Small 2</td>\n",
       "    </tr>\n",
       "    <tr>\n",
       "      <th>16</th>\n",
       "      <td>20230331</td>\n",
       "      <td>1332</td>\n",
       "      <td>ニッスイ</td>\n",
       "      <td>プライム（内国株式）</td>\n",
       "      <td>50</td>\n",
       "      <td>水産・農林業</td>\n",
       "      <td>1</td>\n",
       "      <td>食品</td>\n",
       "      <td>4</td>\n",
       "      <td>TOPIX Mid400</td>\n",
       "    </tr>\n",
       "    <tr>\n",
       "      <th>17</th>\n",
       "      <td>20230331</td>\n",
       "      <td>1333</td>\n",
       "      <td>マルハニチロ</td>\n",
       "      <td>プライム（内国株式）</td>\n",
       "      <td>50</td>\n",
       "      <td>水産・農林業</td>\n",
       "      <td>1</td>\n",
       "      <td>食品</td>\n",
       "      <td>4</td>\n",
       "      <td>TOPIX Mid400</td>\n",
       "    </tr>\n",
       "    <tr>\n",
       "      <th>33</th>\n",
       "      <td>20230331</td>\n",
       "      <td>1375</td>\n",
       "      <td>雪国まいたけ</td>\n",
       "      <td>プライム（内国株式）</td>\n",
       "      <td>50</td>\n",
       "      <td>水産・農林業</td>\n",
       "      <td>1</td>\n",
       "      <td>食品</td>\n",
       "      <td>7</td>\n",
       "      <td>TOPIX Small 2</td>\n",
       "    </tr>\n",
       "    <tr>\n",
       "      <th>34</th>\n",
       "      <td>20230331</td>\n",
       "      <td>1376</td>\n",
       "      <td>カネコ種苗</td>\n",
       "      <td>スタンダード（内国株式）</td>\n",
       "      <td>50</td>\n",
       "      <td>水産・農林業</td>\n",
       "      <td>1</td>\n",
       "      <td>食品</td>\n",
       "      <td>7</td>\n",
       "      <td>TOPIX Small 2</td>\n",
       "    </tr>\n",
       "    <tr>\n",
       "      <th>...</th>\n",
       "      <td>...</td>\n",
       "      <td>...</td>\n",
       "      <td>...</td>\n",
       "      <td>...</td>\n",
       "      <td>...</td>\n",
       "      <td>...</td>\n",
       "      <td>...</td>\n",
       "      <td>...</td>\n",
       "      <td>...</td>\n",
       "      <td>...</td>\n",
       "    </tr>\n",
       "    <tr>\n",
       "      <th>4248</th>\n",
       "      <td>20230331</td>\n",
       "      <td>9993</td>\n",
       "      <td>ヤマザワ</td>\n",
       "      <td>スタンダード（内国株式）</td>\n",
       "      <td>6100</td>\n",
       "      <td>小売業</td>\n",
       "      <td>14</td>\n",
       "      <td>小売</td>\n",
       "      <td>7</td>\n",
       "      <td>TOPIX Small 2</td>\n",
       "    </tr>\n",
       "    <tr>\n",
       "      <th>4249</th>\n",
       "      <td>20230331</td>\n",
       "      <td>9994</td>\n",
       "      <td>やまや</td>\n",
       "      <td>スタンダード（内国株式）</td>\n",
       "      <td>6100</td>\n",
       "      <td>小売業</td>\n",
       "      <td>14</td>\n",
       "      <td>小売</td>\n",
       "      <td>7</td>\n",
       "      <td>TOPIX Small 2</td>\n",
       "    </tr>\n",
       "    <tr>\n",
       "      <th>4250</th>\n",
       "      <td>20230331</td>\n",
       "      <td>9995</td>\n",
       "      <td>グローセル</td>\n",
       "      <td>プライム（内国株式）</td>\n",
       "      <td>6050</td>\n",
       "      <td>卸売業</td>\n",
       "      <td>13</td>\n",
       "      <td>商社・卸売</td>\n",
       "      <td>7</td>\n",
       "      <td>TOPIX Small 2</td>\n",
       "    </tr>\n",
       "    <tr>\n",
       "      <th>4251</th>\n",
       "      <td>20230331</td>\n",
       "      <td>9996</td>\n",
       "      <td>サトー商会</td>\n",
       "      <td>スタンダード（内国株式）</td>\n",
       "      <td>6050</td>\n",
       "      <td>卸売業</td>\n",
       "      <td>13</td>\n",
       "      <td>商社・卸売</td>\n",
       "      <td>-</td>\n",
       "      <td>-</td>\n",
       "    </tr>\n",
       "    <tr>\n",
       "      <th>4252</th>\n",
       "      <td>20230331</td>\n",
       "      <td>9997</td>\n",
       "      <td>ベルーナ</td>\n",
       "      <td>プライム（内国株式）</td>\n",
       "      <td>6100</td>\n",
       "      <td>小売業</td>\n",
       "      <td>14</td>\n",
       "      <td>小売</td>\n",
       "      <td>6</td>\n",
       "      <td>TOPIX Small 1</td>\n",
       "    </tr>\n",
       "  </tbody>\n",
       "</table>\n",
       "<p>3804 rows × 10 columns</p>\n",
       "</div>"
      ],
      "text/plain": [
       "            日付   コード     銘柄名       市場・商品区分 33業種コード  33業種区分 17業種コード  17業種区分   \n",
       "0     20230331  1301      極洋    プライム（内国株式）      50  水産・農林業       1     食品   \\\n",
       "16    20230331  1332    ニッスイ    プライム（内国株式）      50  水産・農林業       1     食品    \n",
       "17    20230331  1333  マルハニチロ    プライム（内国株式）      50  水産・農林業       1     食品    \n",
       "33    20230331  1375  雪国まいたけ    プライム（内国株式）      50  水産・農林業       1     食品    \n",
       "34    20230331  1376   カネコ種苗  スタンダード（内国株式）      50  水産・農林業       1     食品    \n",
       "...        ...   ...     ...           ...     ...     ...     ...     ...   \n",
       "4248  20230331  9993    ヤマザワ  スタンダード（内国株式）    6100     小売業      14     小売    \n",
       "4249  20230331  9994     やまや  スタンダード（内国株式）    6100     小売業      14     小売    \n",
       "4250  20230331  9995   グローセル    プライム（内国株式）    6050     卸売業      13  商社・卸売    \n",
       "4251  20230331  9996   サトー商会  スタンダード（内国株式）    6050     卸売業      13  商社・卸売    \n",
       "4252  20230331  9997    ベルーナ    プライム（内国株式）    6100     小売業      14     小売    \n",
       "\n",
       "     規模コード           規模区分  \n",
       "0        7  TOPIX Small 2  \n",
       "16       4   TOPIX Mid400  \n",
       "17       4   TOPIX Mid400  \n",
       "33       7  TOPIX Small 2  \n",
       "34       7  TOPIX Small 2  \n",
       "...    ...            ...  \n",
       "4248     7  TOPIX Small 2  \n",
       "4249     7  TOPIX Small 2  \n",
       "4250     7  TOPIX Small 2  \n",
       "4251     -              -  \n",
       "4252     6  TOPIX Small 1  \n",
       "\n",
       "[3804 rows x 10 columns]"
      ]
     },
     "execution_count": 4,
     "metadata": {},
     "output_type": "execute_result"
    }
   ],
   "source": [
    "list_market = ['グロース（内国株式）', 'グロース（外国株式）', 'スタンダード（内国株式）', 'スタンダード（外国株式）', 'プライム（内国株式）', 'プライム（外国株式）']\n",
    "\n",
    "df_stock = df[df['市場・商品区分'].isin(list_market)]\n",
    "df_stock"
   ]
  },
  {
   "cell_type": "code",
   "execution_count": 5,
   "id": "639b90b7-1953-46bb-98b5-947abf28611b",
   "metadata": {
    "tags": []
   },
   "outputs": [
    {
     "name": "stdout",
     "output_type": "stream",
     "text": [
      "[*********************100%***********************]  1 of 1 completed\n",
      "              Open    High     Low   Close    Adj Close  Volume\n",
      "Date                                                           \n",
      "2020-05-07  2526.0  2539.0  2512.0  2525.0  2399.195068   11100\n",
      "2020-05-08  2527.0  2549.0  2520.0  2547.0  2420.099121   12600\n",
      "2020-05-11  2555.0  2582.0  2547.0  2582.0  2453.355469    7200\n",
      "2020-05-12  2590.0  2628.0  2570.0  2612.0  2481.860596   21300\n",
      "2020-05-13  2634.0  2684.0  2634.0  2682.0  2548.372803   32400\n"
     ]
    }
   ],
   "source": [
    "import yfinance as yf\n",
    "\n",
    "for code in df_stock['コード'][0:1]:\n",
    "    ticker = str(code) + '.T'\n",
    "    data = yf.download(ticker , period='3y', interval = '1d')\n",
    "    print(data.head())"
   ]
  },
  {
   "cell_type": "code",
   "execution_count": 6,
   "id": "b74e5abf-4909-4485-b448-a38c0f384363",
   "metadata": {
    "tags": []
   },
   "outputs": [
    {
     "data": {
      "text/plain": [
       "DatetimeIndex(['2020-05-07', '2020-05-08', '2020-05-11', '2020-05-12',\n",
       "               '2020-05-13', '2020-05-14', '2020-05-15', '2020-05-18',\n",
       "               '2020-05-19', '2020-05-20',\n",
       "               ...\n",
       "               '2023-04-19', '2023-04-20', '2023-04-21', '2023-04-24',\n",
       "               '2023-04-25', '2023-04-26', '2023-04-27', '2023-04-28',\n",
       "               '2023-05-01', '2023-05-02'],\n",
       "              dtype='datetime64[ns]', name='Date', length=733, freq=None)"
      ]
     },
     "execution_count": 6,
     "metadata": {},
     "output_type": "execute_result"
    }
   ],
   "source": [
    "data.index"
   ]
  },
  {
   "cell_type": "code",
   "execution_count": 7,
   "id": "92ec8067-7b14-49cd-8c3e-2590bb59497f",
   "metadata": {
    "tags": []
   },
   "outputs": [
    {
     "name": "stdout",
     "output_type": "stream",
     "text": [
      "[*********************100%***********************]  1 of 1 completed\n"
     ]
    },
    {
     "data": {
      "text/html": [
       "<div>\n",
       "<style scoped>\n",
       "    .dataframe tbody tr th:only-of-type {\n",
       "        vertical-align: middle;\n",
       "    }\n",
       "\n",
       "    .dataframe tbody tr th {\n",
       "        vertical-align: top;\n",
       "    }\n",
       "\n",
       "    .dataframe thead th {\n",
       "        text-align: right;\n",
       "    }\n",
       "</style>\n",
       "<table border=\"1\" class=\"dataframe\">\n",
       "  <thead>\n",
       "    <tr style=\"text-align: right;\">\n",
       "      <th></th>\n",
       "      <th>Open</th>\n",
       "      <th>High</th>\n",
       "      <th>Low</th>\n",
       "      <th>Close</th>\n",
       "      <th>Adj Close</th>\n",
       "      <th>Volume</th>\n",
       "    </tr>\n",
       "    <tr>\n",
       "      <th>Date</th>\n",
       "      <th></th>\n",
       "      <th></th>\n",
       "      <th></th>\n",
       "      <th></th>\n",
       "      <th></th>\n",
       "      <th></th>\n",
       "    </tr>\n",
       "  </thead>\n",
       "  <tbody>\n",
       "    <tr>\n",
       "      <th>2020-05-07</th>\n",
       "      <td>2526.0</td>\n",
       "      <td>2539.0</td>\n",
       "      <td>2512.0</td>\n",
       "      <td>2525.0</td>\n",
       "      <td>2399.195312</td>\n",
       "      <td>11100</td>\n",
       "    </tr>\n",
       "    <tr>\n",
       "      <th>2020-05-08</th>\n",
       "      <td>2527.0</td>\n",
       "      <td>2549.0</td>\n",
       "      <td>2520.0</td>\n",
       "      <td>2547.0</td>\n",
       "      <td>2420.099121</td>\n",
       "      <td>12600</td>\n",
       "    </tr>\n",
       "    <tr>\n",
       "      <th>2020-05-11</th>\n",
       "      <td>2555.0</td>\n",
       "      <td>2582.0</td>\n",
       "      <td>2547.0</td>\n",
       "      <td>2582.0</td>\n",
       "      <td>2453.355225</td>\n",
       "      <td>7200</td>\n",
       "    </tr>\n",
       "    <tr>\n",
       "      <th>2020-05-12</th>\n",
       "      <td>2590.0</td>\n",
       "      <td>2628.0</td>\n",
       "      <td>2570.0</td>\n",
       "      <td>2612.0</td>\n",
       "      <td>2481.860596</td>\n",
       "      <td>21300</td>\n",
       "    </tr>\n",
       "    <tr>\n",
       "      <th>2020-05-13</th>\n",
       "      <td>2634.0</td>\n",
       "      <td>2684.0</td>\n",
       "      <td>2634.0</td>\n",
       "      <td>2682.0</td>\n",
       "      <td>2548.373047</td>\n",
       "      <td>32400</td>\n",
       "    </tr>\n",
       "    <tr>\n",
       "      <th>...</th>\n",
       "      <td>...</td>\n",
       "      <td>...</td>\n",
       "      <td>...</td>\n",
       "      <td>...</td>\n",
       "      <td>...</td>\n",
       "      <td>...</td>\n",
       "    </tr>\n",
       "    <tr>\n",
       "      <th>2023-04-26</th>\n",
       "      <td>3535.0</td>\n",
       "      <td>3535.0</td>\n",
       "      <td>3500.0</td>\n",
       "      <td>3505.0</td>\n",
       "      <td>3505.000000</td>\n",
       "      <td>18500</td>\n",
       "    </tr>\n",
       "    <tr>\n",
       "      <th>2023-04-27</th>\n",
       "      <td>3485.0</td>\n",
       "      <td>3530.0</td>\n",
       "      <td>3485.0</td>\n",
       "      <td>3530.0</td>\n",
       "      <td>3530.000000</td>\n",
       "      <td>17600</td>\n",
       "    </tr>\n",
       "    <tr>\n",
       "      <th>2023-04-28</th>\n",
       "      <td>3545.0</td>\n",
       "      <td>3575.0</td>\n",
       "      <td>3540.0</td>\n",
       "      <td>3575.0</td>\n",
       "      <td>3575.000000</td>\n",
       "      <td>32100</td>\n",
       "    </tr>\n",
       "    <tr>\n",
       "      <th>2023-05-01</th>\n",
       "      <td>3575.0</td>\n",
       "      <td>3585.0</td>\n",
       "      <td>3565.0</td>\n",
       "      <td>3570.0</td>\n",
       "      <td>3570.000000</td>\n",
       "      <td>20200</td>\n",
       "    </tr>\n",
       "    <tr>\n",
       "      <th>2023-05-02</th>\n",
       "      <td>3580.0</td>\n",
       "      <td>3590.0</td>\n",
       "      <td>3545.0</td>\n",
       "      <td>3560.0</td>\n",
       "      <td>3560.000000</td>\n",
       "      <td>20800</td>\n",
       "    </tr>\n",
       "  </tbody>\n",
       "</table>\n",
       "<p>733 rows × 6 columns</p>\n",
       "</div>"
      ],
      "text/plain": [
       "              Open    High     Low   Close    Adj Close  Volume\n",
       "Date                                                           \n",
       "2020-05-07  2526.0  2539.0  2512.0  2525.0  2399.195312   11100\n",
       "2020-05-08  2527.0  2549.0  2520.0  2547.0  2420.099121   12600\n",
       "2020-05-11  2555.0  2582.0  2547.0  2582.0  2453.355225    7200\n",
       "2020-05-12  2590.0  2628.0  2570.0  2612.0  2481.860596   21300\n",
       "2020-05-13  2634.0  2684.0  2634.0  2682.0  2548.373047   32400\n",
       "...            ...     ...     ...     ...          ...     ...\n",
       "2023-04-26  3535.0  3535.0  3500.0  3505.0  3505.000000   18500\n",
       "2023-04-27  3485.0  3530.0  3485.0  3530.0  3530.000000   17600\n",
       "2023-04-28  3545.0  3575.0  3540.0  3575.0  3575.000000   32100\n",
       "2023-05-01  3575.0  3585.0  3565.0  3570.0  3570.000000   20200\n",
       "2023-05-02  3580.0  3590.0  3545.0  3560.0  3560.000000   20800\n",
       "\n",
       "[733 rows x 6 columns]"
      ]
     },
     "execution_count": 7,
     "metadata": {},
     "output_type": "execute_result"
    }
   ],
   "source": [
    "import pandas as pd\n",
    "import matplotlib.pyplot as plt\n",
    "import numpy as np\n",
    "import datetime\n",
    "import yfinance as yf\n",
    "\n",
    "#ターゲットを指定\n",
    "ticker = '1301.T'\n",
    "\n",
    "#データを収集\n",
    "data = yf.download(ticker , period='3y', interval = '1d')\n",
    "data"
   ]
  },
  {
   "cell_type": "code",
   "execution_count": 8,
   "id": "31fbd3b9-c47a-4190-b09d-a75799a3c9d1",
   "metadata": {
    "tags": []
   },
   "outputs": [],
   "source": [
    "import sqlite3\n",
    "\n",
    "dbname = 'test.db'\n",
    "conn = sqlite3.connect(dbname)\n",
    "cur = conn.cursor()\n",
    "\n",
    "cur.execute(\n",
    "    \"\"\"\n",
    "    CREATE TABLE trading(\n",
    "        id_date INTEGER PRIMARY KEY AUTOINCREMENT,\n",
    "        date DATE,\n",
    "        timestamp INTEGER\n",
    "    )\n",
    "    \"\"\"\n",
    ")\n",
    "cur.execute(\n",
    "    \"\"\"\n",
    "    CREATE TABLE ticker(\n",
    "        id_ticker INTEGER PRIMARY KEY AUTOINCREMENT,\n",
    "        code INTEGER,\n",
    "        discription STRING,\n",
    "        market STRING\n",
    "    )\n",
    "    \"\"\"\n",
    ")\n",
    "\n",
    "conn.commit()\n",
    "conn.close()"
   ]
  },
  {
   "cell_type": "code",
   "execution_count": 9,
   "id": "93eefa38-9b1f-48cf-8743-cb3e9b166549",
   "metadata": {
    "tags": []
   },
   "outputs": [],
   "source": [
    "dbname = 'test.db'\n",
    "conn = sqlite3.connect(dbname)\n",
    "cur = conn.cursor()\n",
    "\n",
    "for code, description, market in zip(df_stock['コード'], df_stock['銘柄名'], df_stock['市場・商品区分']):\n",
    "    cur.execute('INSERT INTO ticker values(Null, %d, \"%s\", \"%s\")' % (code, description, market))\n",
    "    conn.commit()\n",
    "    \n",
    "conn.close()"
   ]
  },
  {
   "cell_type": "code",
   "execution_count": 10,
   "id": "2915e290-10c0-4b9c-b13c-e73e104d035f",
   "metadata": {
    "tags": []
   },
   "outputs": [],
   "source": [
    "import datetime\n",
    "\n",
    "dbname = 'test.db'\n",
    "conn = sqlite3.connect(dbname)\n",
    "cur = conn.cursor()\n",
    "\n",
    "for date in data.index.astype(str):\n",
    "    dt = datetime.datetime.strptime(date, '%Y-%m-%d')\n",
    "    cur.execute('INSERT INTO trading values(Null, \"%s\", %d)' % (date, int(dt.timestamp())))\n",
    "    conn.commit()\n",
    "\n",
    "conn.close()"
   ]
  },
  {
   "cell_type": "code",
   "execution_count": 43,
   "id": "b8ed88bc-8de3-4446-8ddb-0ac1fb9de86e",
   "metadata": {
    "tags": []
   },
   "outputs": [
    {
     "data": {
      "text/plain": [
       "<Axes: xlabel='Date'>"
      ]
     },
     "execution_count": 43,
     "metadata": {},
     "output_type": "execute_result"
    },
    {
     "data": {
      "image/png": "[encoded data removed]",
      "text/plain": [
       "<Figure size 640x480 with 1 Axes>"
      ]
     },
     "metadata": {},
     "output_type": "display_data"
    }
   ],
   "source": [
    "data = data.drop('Volume', axis=1)\n",
    "\n",
    "#可視化する\n",
    "data.plot()"
   ]
  },
  {
   "cell_type": "code",
   "execution_count": null,
   "id": "7c450571-7eeb-4524-aba7-71169c974e5b",
   "metadata": {},
   "outputs": [],
   "source": []
  }
 ],
 "metadata": {
  "kernelspec": {
   "display_name": "Python 3 (ipykernel)",
   "language": "python",
   "name": "python3"
  },
  "language_info": {
   "codemirror_mode": {
    "name": "ipython",
    "version": 3
   },
   "file_extension": ".py",
   "mimetype": "text/x-python",
   "name": "python",
   "nbconvert_exporter": "python",
   "pygments_lexer": "ipython3",
   "version": "3.11.3"
  }
 },
 "nbformat": 4,
 "nbformat_minor": 5
}
