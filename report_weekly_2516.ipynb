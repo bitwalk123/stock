{
 "cells": [
  {
   "cell_type": "code",
   "execution_count": 1,
   "id": "c14a2fc6-21f3-47d0-a5f1-5fb5e1f40115",
   "metadata": {},
   "outputs": [
    {
     "data": {
      "text/html": [
       "<div>\n",
       "<style scoped>\n",
       "    .dataframe tbody tr th:only-of-type {\n",
       "        vertical-align: middle;\n",
       "    }\n",
       "\n",
       "    .dataframe tbody tr th {\n",
       "        vertical-align: top;\n",
       "    }\n",
       "\n",
       "    .dataframe thead th {\n",
       "        text-align: right;\n",
       "    }\n",
       "</style>\n",
       "<table border=\"1\" class=\"dataframe\">\n",
       "  <thead>\n",
       "    <tr style=\"text-align: right;\">\n",
       "      <th></th>\n",
       "      <th>Open</th>\n",
       "      <th>High</th>\n",
       "      <th>Low</th>\n",
       "      <th>Close</th>\n",
       "      <th>Volume</th>\n",
       "      <th>Dividends</th>\n",
       "      <th>Stock Splits</th>\n",
       "      <th>Capital Gains</th>\n",
       "    </tr>\n",
       "    <tr>\n",
       "      <th>Date</th>\n",
       "      <th></th>\n",
       "      <th></th>\n",
       "      <th></th>\n",
       "      <th></th>\n",
       "      <th></th>\n",
       "      <th></th>\n",
       "      <th></th>\n",
       "      <th></th>\n",
       "    </tr>\n",
       "  </thead>\n",
       "  <tbody>\n",
       "    <tr>\n",
       "      <th>2022-10-24 00:00:00+09:00</th>\n",
       "      <td>569.700012</td>\n",
       "      <td>582.299988</td>\n",
       "      <td>562.000000</td>\n",
       "      <td>575.200012</td>\n",
       "      <td>7260770</td>\n",
       "      <td>0.0</td>\n",
       "      <td>0.0</td>\n",
       "      <td>0.0</td>\n",
       "    </tr>\n",
       "    <tr>\n",
       "      <th>2022-10-31 00:00:00+09:00</th>\n",
       "      <td>582.599976</td>\n",
       "      <td>583.299988</td>\n",
       "      <td>559.400024</td>\n",
       "      <td>565.400024</td>\n",
       "      <td>4121700</td>\n",
       "      <td>0.0</td>\n",
       "      <td>0.0</td>\n",
       "      <td>0.0</td>\n",
       "    </tr>\n",
       "    <tr>\n",
       "      <th>2022-11-07 00:00:00+09:00</th>\n",
       "      <td>566.000000</td>\n",
       "      <td>589.000000</td>\n",
       "      <td>562.000000</td>\n",
       "      <td>587.500000</td>\n",
       "      <td>5996040</td>\n",
       "      <td>0.0</td>\n",
       "      <td>0.0</td>\n",
       "      <td>0.0</td>\n",
       "    </tr>\n",
       "    <tr>\n",
       "      <th>2022-11-14 00:00:00+09:00</th>\n",
       "      <td>596.299988</td>\n",
       "      <td>613.200012</td>\n",
       "      <td>590.099976</td>\n",
       "      <td>605.900024</td>\n",
       "      <td>9497670</td>\n",
       "      <td>0.0</td>\n",
       "      <td>0.0</td>\n",
       "      <td>0.0</td>\n",
       "    </tr>\n",
       "    <tr>\n",
       "      <th>2022-11-21 00:00:00+09:00</th>\n",
       "      <td>605.400024</td>\n",
       "      <td>620.400024</td>\n",
       "      <td>601.299988</td>\n",
       "      <td>618.500000</td>\n",
       "      <td>4598760</td>\n",
       "      <td>0.0</td>\n",
       "      <td>0.0</td>\n",
       "      <td>0.0</td>\n",
       "    </tr>\n",
       "    <tr>\n",
       "      <th>...</th>\n",
       "      <td>...</td>\n",
       "      <td>...</td>\n",
       "      <td>...</td>\n",
       "      <td>...</td>\n",
       "      <td>...</td>\n",
       "      <td>...</td>\n",
       "      <td>...</td>\n",
       "      <td>...</td>\n",
       "    </tr>\n",
       "    <tr>\n",
       "      <th>2024-09-23 00:00:00+09:00</th>\n",
       "      <td>520.400024</td>\n",
       "      <td>529.000000</td>\n",
       "      <td>510.000000</td>\n",
       "      <td>526.700012</td>\n",
       "      <td>3606980</td>\n",
       "      <td>0.0</td>\n",
       "      <td>0.0</td>\n",
       "      <td>0.0</td>\n",
       "    </tr>\n",
       "    <tr>\n",
       "      <th>2024-09-30 00:00:00+09:00</th>\n",
       "      <td>507.700012</td>\n",
       "      <td>520.900024</td>\n",
       "      <td>500.500000</td>\n",
       "      <td>504.899994</td>\n",
       "      <td>5484060</td>\n",
       "      <td>0.0</td>\n",
       "      <td>0.0</td>\n",
       "      <td>0.0</td>\n",
       "    </tr>\n",
       "    <tr>\n",
       "      <th>2024-10-07 00:00:00+09:00</th>\n",
       "      <td>509.200012</td>\n",
       "      <td>509.899994</td>\n",
       "      <td>496.200012</td>\n",
       "      <td>496.299988</td>\n",
       "      <td>3539380</td>\n",
       "      <td>0.0</td>\n",
       "      <td>0.0</td>\n",
       "      <td>0.0</td>\n",
       "    </tr>\n",
       "    <tr>\n",
       "      <th>2024-10-14 00:00:00+09:00</th>\n",
       "      <td>496.299988</td>\n",
       "      <td>500.600006</td>\n",
       "      <td>481.200012</td>\n",
       "      <td>482.500000</td>\n",
       "      <td>3413160</td>\n",
       "      <td>0.0</td>\n",
       "      <td>0.0</td>\n",
       "      <td>0.0</td>\n",
       "    </tr>\n",
       "    <tr>\n",
       "      <th>2024-10-21 00:00:00+09:00</th>\n",
       "      <td>483.299988</td>\n",
       "      <td>493.799988</td>\n",
       "      <td>461.500000</td>\n",
       "      <td>466.500000</td>\n",
       "      <td>7648700</td>\n",
       "      <td>0.0</td>\n",
       "      <td>0.0</td>\n",
       "      <td>0.0</td>\n",
       "    </tr>\n",
       "  </tbody>\n",
       "</table>\n",
       "<p>105 rows × 8 columns</p>\n",
       "</div>"
      ],
      "text/plain": [
       "                                 Open        High         Low       Close  \\\n",
       "Date                                                                        \n",
       "2022-10-24 00:00:00+09:00  569.700012  582.299988  562.000000  575.200012   \n",
       "2022-10-31 00:00:00+09:00  582.599976  583.299988  559.400024  565.400024   \n",
       "2022-11-07 00:00:00+09:00  566.000000  589.000000  562.000000  587.500000   \n",
       "2022-11-14 00:00:00+09:00  596.299988  613.200012  590.099976  605.900024   \n",
       "2022-11-21 00:00:00+09:00  605.400024  620.400024  601.299988  618.500000   \n",
       "...                               ...         ...         ...         ...   \n",
       "2024-09-23 00:00:00+09:00  520.400024  529.000000  510.000000  526.700012   \n",
       "2024-09-30 00:00:00+09:00  507.700012  520.900024  500.500000  504.899994   \n",
       "2024-10-07 00:00:00+09:00  509.200012  509.899994  496.200012  496.299988   \n",
       "2024-10-14 00:00:00+09:00  496.299988  500.600006  481.200012  482.500000   \n",
       "2024-10-21 00:00:00+09:00  483.299988  493.799988  461.500000  466.500000   \n",
       "\n",
       "                            Volume  Dividends  Stock Splits  Capital Gains  \n",
       "Date                                                                        \n",
       "2022-10-24 00:00:00+09:00  7260770        0.0           0.0            0.0  \n",
       "2022-10-31 00:00:00+09:00  4121700        0.0           0.0            0.0  \n",
       "2022-11-07 00:00:00+09:00  5996040        0.0           0.0            0.0  \n",
       "2022-11-14 00:00:00+09:00  9497670        0.0           0.0            0.0  \n",
       "2022-11-21 00:00:00+09:00  4598760        0.0           0.0            0.0  \n",
       "...                            ...        ...           ...            ...  \n",
       "2024-09-23 00:00:00+09:00  3606980        0.0           0.0            0.0  \n",
       "2024-09-30 00:00:00+09:00  5484060        0.0           0.0            0.0  \n",
       "2024-10-07 00:00:00+09:00  3539380        0.0           0.0            0.0  \n",
       "2024-10-14 00:00:00+09:00  3413160        0.0           0.0            0.0  \n",
       "2024-10-21 00:00:00+09:00  7648700        0.0           0.0            0.0  \n",
       "\n",
       "[105 rows x 8 columns]"
      ]
     },
     "execution_count": 1,
     "metadata": {},
     "output_type": "execute_result"
    }
   ],
   "source": [
    "import matplotlib.pyplot as plt\n",
    "import mplfinance as mpf\n",
    "import yfinance as yf\n",
    "\n",
    "symbol = '2516.T'\n",
    "#symbol = 'USDJPY=X'\n",
    "ticker = yf.Ticker(symbol)\n",
    "df = ticker.history(period='2y', interval='1wk')\n",
    "df"
   ]
  },
  {
   "cell_type": "code",
   "execution_count": 2,
   "id": "17d8fa47-23ac-42a6-9f06-d52701bb7a6e",
   "metadata": {},
   "outputs": [
    {
     "name": "stderr",
     "output_type": "stream",
     "text": [
      "401 Client Error: Unauthorized for url: https://query2.finance.yahoo.com/v10/finance/quoteSummary/2516.T?modules=financialData%2CquoteType%2CdefaultKeyStatistics%2CassetProfile%2CsummaryDetail&corsDomain=finance.yahoo.com&formatted=false&symbol=2516.T&crumb=%7B%22finance%22%3A%7B%22result%22%3Anull%2C%22error%22%3A%7B%22code%22%3A%22Unauthorized%22%2C%22description%22%3A%22Invalid+Cookie%22%7D%7D%7D\n"
     ]
    },
    {
     "ename": "KeyError",
     "evalue": "'longName'",
     "output_type": "error",
     "traceback": [
      "\u001b[0;31m---------------------------------------------------------------------------\u001b[0m",
      "\u001b[0;31mKeyError\u001b[0m                                  Traceback (most recent call last)",
      "Cell \u001b[0;32mIn[2], line 13\u001b[0m\n\u001b[1;32m      3\u001b[0m ax \u001b[38;5;241m=\u001b[39m fig\u001b[38;5;241m.\u001b[39madd_subplot(\u001b[38;5;241m111\u001b[39m)\n\u001b[1;32m      5\u001b[0m mpf\u001b[38;5;241m.\u001b[39mplot(\n\u001b[1;32m      6\u001b[0m     df, \u001b[38;5;28mtype\u001b[39m\u001b[38;5;241m=\u001b[39m\u001b[38;5;124m'\u001b[39m\u001b[38;5;124mcandle\u001b[39m\u001b[38;5;124m'\u001b[39m, style\u001b[38;5;241m=\u001b[39m\u001b[38;5;124m'\u001b[39m\u001b[38;5;124myahoo\u001b[39m\u001b[38;5;124m'\u001b[39m,\n\u001b[1;32m      7\u001b[0m     mav\u001b[38;5;241m=\u001b[39m(\u001b[38;5;241m13\u001b[39m, \u001b[38;5;241m26\u001b[39m, \u001b[38;5;241m52\u001b[39m),\n\u001b[0;32m   (...)\u001b[0m\n\u001b[1;32m     11\u001b[0m     ax\u001b[38;5;241m=\u001b[39max,\n\u001b[1;32m     12\u001b[0m )\n\u001b[0;32m---> 13\u001b[0m ax\u001b[38;5;241m.\u001b[39mset_title(\u001b[38;5;124m'\u001b[39m\u001b[38;5;124mWeekly chart for \u001b[39m\u001b[38;5;132;01m%s\u001b[39;00m\u001b[38;5;124m (\u001b[39m\u001b[38;5;132;01m%s\u001b[39;00m\u001b[38;5;124m)\u001b[39m\u001b[38;5;130;01m\\n\u001b[39;00m\u001b[38;5;124mmav=(13, 26, 52)\u001b[39m\u001b[38;5;124m'\u001b[39m \u001b[38;5;241m%\u001b[39m(\u001b[43mticker\u001b[49m\u001b[38;5;241;43m.\u001b[39;49m\u001b[43minfo\u001b[49m\u001b[43m[\u001b[49m\u001b[38;5;124;43m'\u001b[39;49m\u001b[38;5;124;43mlongName\u001b[39;49m\u001b[38;5;124;43m'\u001b[39;49m\u001b[43m]\u001b[49m, symbol))\n\u001b[1;32m     14\u001b[0m ax\u001b[38;5;241m.\u001b[39mgrid()\n\u001b[1;32m     16\u001b[0m plt\u001b[38;5;241m.\u001b[39mtight_layout()\n",
      "\u001b[0;31mKeyError\u001b[0m: 'longName'"
     ]
    },
    {
     "data": {
      "image/png": "[encoded data removed]",
      "text/plain": [
       "<Figure size 1200x600 with 1 Axes>"
      ]
     },
     "metadata": {},
     "output_type": "display_data"
    }
   ],
   "source": [
    "fig = plt.figure(figsize=(12, 6))\n",
    "#ax = fig.add_axes(111)\n",
    "ax = fig.add_subplot(111)\n",
    "\n",
    "mpf.plot(\n",
    "    df, type='candle', style='yahoo',\n",
    "    mav=(13, 26, 52),\n",
    "    volume=False,\n",
    "    datetime_format='%Y-%m-%d',\n",
    "    xrotation=0,\n",
    "    ax=ax,\n",
    ")\n",
    "ax.set_title('Weekly chart for %s (%s)\\nmav=(13, 26, 52)' %(ticker.info['longName'], symbol))\n",
    "ax.grid()\n",
    "\n",
    "plt.tight_layout()\n",
    "plt.savefig('weekly_chart_n225.png')\n",
    "plt.show()"
   ]
  },
  {
   "cell_type": "code",
   "execution_count": null,
   "id": "b5ddac87-7aca-4a91-a167-e92aca64f6e7",
   "metadata": {},
   "outputs": [],
   "source": [
    "df.tail(2)['Close']"
   ]
  },
  {
   "cell_type": "code",
   "execution_count": 3,
   "id": "c16b51e9-cee6-43ea-b5af-a4a1124c2624",
   "metadata": {},
   "outputs": [
    {
     "data": {
      "text/plain": [
       "Date\n",
       "2024-10-14 00:00:00+09:00     NaN\n",
       "2024-10-21 00:00:00+09:00   -16.0\n",
       "Name: Close, dtype: float64"
      ]
     },
     "execution_count": 3,
     "metadata": {},
     "output_type": "execute_result"
    }
   ],
   "source": [
    "df.tail(2)['Close'].diff()"
   ]
  },
  {
   "cell_type": "code",
   "execution_count": 5,
   "id": "7061388d-20d1-49f8-8551-afff6ca3decb",
   "metadata": {},
   "outputs": [
    {
     "data": {
      "text/plain": [
       "Date\n",
       "2022-10-17 00:00:00+09:00           NaN\n",
       "2022-10-24 00:00:00+09:00           NaN\n",
       "2022-10-31 00:00:00+09:00           NaN\n",
       "2022-11-07 00:00:00+09:00           NaN\n",
       "2022-11-14 00:00:00+09:00           NaN\n",
       "                                ...    \n",
       "2024-09-16 00:00:00+09:00    504.196152\n",
       "2024-09-23 00:00:00+09:00    502.203845\n",
       "2024-09-30 00:00:00+09:00    500.930767\n",
       "2024-10-07 00:00:00+09:00    499.442305\n",
       "2024-10-14 00:00:00+09:00    498.807690\n",
       "Name: Close, Length: 105, dtype: float64"
      ]
     },
     "execution_count": 5,
     "metadata": {},
     "output_type": "execute_result"
    }
   ],
   "source": [
    "df['Close'].rolling(26).mean()"
   ]
  },
  {
   "cell_type": "code",
   "execution_count": 6,
   "id": "01d06e4e-0da0-49c8-b132-a20ab8a287ed",
   "metadata": {},
   "outputs": [
    {
     "data": {
      "text/plain": [
       "Date\n",
       "2022-10-17 00:00:00+09:00           NaN\n",
       "2022-10-24 00:00:00+09:00           NaN\n",
       "2022-10-31 00:00:00+09:00           NaN\n",
       "2022-11-07 00:00:00+09:00           NaN\n",
       "2022-11-14 00:00:00+09:00           NaN\n",
       "                                ...    \n",
       "2024-09-16 00:00:00+09:00    526.407691\n",
       "2024-09-23 00:00:00+09:00    525.675000\n",
       "2024-09-30 00:00:00+09:00    524.936538\n",
       "2024-10-07 00:00:00+09:00    524.215384\n",
       "2024-10-14 00:00:00+09:00    523.642308\n",
       "Name: Close, Length: 105, dtype: float64"
      ]
     },
     "execution_count": 6,
     "metadata": {},
     "output_type": "execute_result"
    }
   ],
   "source": [
    "df['Close'].rolling(52).mean()"
   ]
  },
  {
   "cell_type": "code",
   "execution_count": null,
   "id": "76032b04-7544-4dfd-834b-729c17d7395e",
   "metadata": {},
   "outputs": [],
   "source": []
  }
 ],
 "metadata": {
  "kernelspec": {
   "display_name": "Python 3 (ipykernel)",
   "language": "python",
   "name": "python3"
  },
  "language_info": {
   "codemirror_mode": {
    "name": "ipython",
    "version": 3
   },
   "file_extension": ".py",
   "mimetype": "text/x-python",
   "name": "python",
   "nbconvert_exporter": "python",
   "pygments_lexer": "ipython3",
   "version": "3.12.7"
  }
 },
 "nbformat": 4,
 "nbformat_minor": 5
}
