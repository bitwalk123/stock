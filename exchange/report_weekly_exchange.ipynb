{
 "cells": [
  {
   "cell_type": "code",
   "execution_count": 1,
   "id": "c14a2fc6-21f3-47d0-a5f1-5fb5e1f40115",
   "metadata": {},
   "outputs": [
    {
     "data": {
      "text/html": [
       "<div>\n",
       "<style scoped>\n",
       "    .dataframe tbody tr th:only-of-type {\n",
       "        vertical-align: middle;\n",
       "    }\n",
       "\n",
       "    .dataframe tbody tr th {\n",
       "        vertical-align: top;\n",
       "    }\n",
       "\n",
       "    .dataframe thead th {\n",
       "        text-align: right;\n",
       "    }\n",
       "</style>\n",
       "<table border=\"1\" class=\"dataframe\">\n",
       "  <thead>\n",
       "    <tr style=\"text-align: right;\">\n",
       "      <th></th>\n",
       "      <th>Open</th>\n",
       "      <th>High</th>\n",
       "      <th>Low</th>\n",
       "      <th>Close</th>\n",
       "      <th>Volume</th>\n",
       "      <th>Dividends</th>\n",
       "      <th>Stock Splits</th>\n",
       "    </tr>\n",
       "    <tr>\n",
       "      <th>Date</th>\n",
       "      <th></th>\n",
       "      <th></th>\n",
       "      <th></th>\n",
       "      <th></th>\n",
       "      <th></th>\n",
       "      <th></th>\n",
       "      <th></th>\n",
       "    </tr>\n",
       "  </thead>\n",
       "  <tbody>\n",
       "    <tr>\n",
       "      <th>2022-12-05 00:00:00+00:00</th>\n",
       "      <td>136.651993</td>\n",
       "      <td>137.837997</td>\n",
       "      <td>135.612000</td>\n",
       "      <td>136.580002</td>\n",
       "      <td>0</td>\n",
       "      <td>0.0</td>\n",
       "      <td>0.0</td>\n",
       "    </tr>\n",
       "    <tr>\n",
       "      <th>2022-12-12 00:00:00+00:00</th>\n",
       "      <td>136.712006</td>\n",
       "      <td>137.942001</td>\n",
       "      <td>134.681000</td>\n",
       "      <td>136.699997</td>\n",
       "      <td>0</td>\n",
       "      <td>0.0</td>\n",
       "      <td>0.0</td>\n",
       "    </tr>\n",
       "    <tr>\n",
       "      <th>2022-12-19 00:00:00+00:00</th>\n",
       "      <td>136.029999</td>\n",
       "      <td>137.451996</td>\n",
       "      <td>131.016998</td>\n",
       "      <td>132.759995</td>\n",
       "      <td>0</td>\n",
       "      <td>0.0</td>\n",
       "      <td>0.0</td>\n",
       "    </tr>\n",
       "    <tr>\n",
       "      <th>2022-12-26 00:00:00+00:00</th>\n",
       "      <td>132.770004</td>\n",
       "      <td>134.395004</td>\n",
       "      <td>131.110001</td>\n",
       "      <td>131.110001</td>\n",
       "      <td>0</td>\n",
       "      <td>0.0</td>\n",
       "      <td>0.0</td>\n",
       "    </tr>\n",
       "    <tr>\n",
       "      <th>2023-01-02 00:00:00+00:00</th>\n",
       "      <td>130.845001</td>\n",
       "      <td>134.740997</td>\n",
       "      <td>129.533997</td>\n",
       "      <td>132.080002</td>\n",
       "      <td>0</td>\n",
       "      <td>0.0</td>\n",
       "      <td>0.0</td>\n",
       "    </tr>\n",
       "    <tr>\n",
       "      <th>...</th>\n",
       "      <td>...</td>\n",
       "      <td>...</td>\n",
       "      <td>...</td>\n",
       "      <td>...</td>\n",
       "      <td>...</td>\n",
       "      <td>...</td>\n",
       "      <td>...</td>\n",
       "    </tr>\n",
       "    <tr>\n",
       "      <th>2024-11-04 00:00:00+00:00</th>\n",
       "      <td>152.287003</td>\n",
       "      <td>154.701996</td>\n",
       "      <td>151.343002</td>\n",
       "      <td>152.639999</td>\n",
       "      <td>0</td>\n",
       "      <td>0.0</td>\n",
       "      <td>0.0</td>\n",
       "    </tr>\n",
       "    <tr>\n",
       "      <th>2024-11-11 00:00:00+00:00</th>\n",
       "      <td>152.904007</td>\n",
       "      <td>156.746002</td>\n",
       "      <td>152.869995</td>\n",
       "      <td>154.320007</td>\n",
       "      <td>0</td>\n",
       "      <td>0.0</td>\n",
       "      <td>0.0</td>\n",
       "    </tr>\n",
       "    <tr>\n",
       "      <th>2024-11-18 00:00:00+00:00</th>\n",
       "      <td>154.664001</td>\n",
       "      <td>155.871994</td>\n",
       "      <td>153.397003</td>\n",
       "      <td>154.770004</td>\n",
       "      <td>0</td>\n",
       "      <td>0.0</td>\n",
       "      <td>0.0</td>\n",
       "    </tr>\n",
       "    <tr>\n",
       "      <th>2024-11-25 00:00:00+00:00</th>\n",
       "      <td>154.145996</td>\n",
       "      <td>154.695999</td>\n",
       "      <td>149.589996</td>\n",
       "      <td>149.750000</td>\n",
       "      <td>0</td>\n",
       "      <td>0.0</td>\n",
       "      <td>0.0</td>\n",
       "    </tr>\n",
       "    <tr>\n",
       "      <th>2024-12-02 00:00:00+00:00</th>\n",
       "      <td>149.815994</td>\n",
       "      <td>151.216995</td>\n",
       "      <td>148.651001</td>\n",
       "      <td>149.988998</td>\n",
       "      <td>0</td>\n",
       "      <td>0.0</td>\n",
       "      <td>0.0</td>\n",
       "    </tr>\n",
       "  </tbody>\n",
       "</table>\n",
       "<p>105 rows × 7 columns</p>\n",
       "</div>"
      ],
      "text/plain": [
       "                                 Open        High         Low       Close  \\\n",
       "Date                                                                        \n",
       "2022-12-05 00:00:00+00:00  136.651993  137.837997  135.612000  136.580002   \n",
       "2022-12-12 00:00:00+00:00  136.712006  137.942001  134.681000  136.699997   \n",
       "2022-12-19 00:00:00+00:00  136.029999  137.451996  131.016998  132.759995   \n",
       "2022-12-26 00:00:00+00:00  132.770004  134.395004  131.110001  131.110001   \n",
       "2023-01-02 00:00:00+00:00  130.845001  134.740997  129.533997  132.080002   \n",
       "...                               ...         ...         ...         ...   \n",
       "2024-11-04 00:00:00+00:00  152.287003  154.701996  151.343002  152.639999   \n",
       "2024-11-11 00:00:00+00:00  152.904007  156.746002  152.869995  154.320007   \n",
       "2024-11-18 00:00:00+00:00  154.664001  155.871994  153.397003  154.770004   \n",
       "2024-11-25 00:00:00+00:00  154.145996  154.695999  149.589996  149.750000   \n",
       "2024-12-02 00:00:00+00:00  149.815994  151.216995  148.651001  149.988998   \n",
       "\n",
       "                           Volume  Dividends  Stock Splits  \n",
       "Date                                                        \n",
       "2022-12-05 00:00:00+00:00       0        0.0           0.0  \n",
       "2022-12-12 00:00:00+00:00       0        0.0           0.0  \n",
       "2022-12-19 00:00:00+00:00       0        0.0           0.0  \n",
       "2022-12-26 00:00:00+00:00       0        0.0           0.0  \n",
       "2023-01-02 00:00:00+00:00       0        0.0           0.0  \n",
       "...                           ...        ...           ...  \n",
       "2024-11-04 00:00:00+00:00       0        0.0           0.0  \n",
       "2024-11-11 00:00:00+00:00       0        0.0           0.0  \n",
       "2024-11-18 00:00:00+00:00       0        0.0           0.0  \n",
       "2024-11-25 00:00:00+00:00       0        0.0           0.0  \n",
       "2024-12-02 00:00:00+00:00       0        0.0           0.0  \n",
       "\n",
       "[105 rows x 7 columns]"
      ]
     },
     "execution_count": 1,
     "metadata": {},
     "output_type": "execute_result"
    }
   ],
   "source": [
    "import matplotlib.pyplot as plt\n",
    "import mplfinance as mpf\n",
    "import yfinance as yf\n",
    "\n",
    "symbol = 'USDJPY=X'\n",
    "#symbol = 'USDJPY=X'\n",
    "ticker = yf.Ticker(symbol)\n",
    "df = ticker.history(period='2y', interval='1wk')\n",
    "df"
   ]
  },
  {
   "cell_type": "code",
   "execution_count": 2,
   "id": "17d8fa47-23ac-42a6-9f06-d52701bb7a6e",
   "metadata": {},
   "outputs": [
    {
     "data": {
      "image/png": "[encoded data removed]",
      "text/plain": [
       "<Figure size 1200x600 with 1 Axes>"
      ]
     },
     "metadata": {},
     "output_type": "display_data"
    }
   ],
   "source": [
    "fig = plt.figure(figsize=(12, 6))\n",
    "#ax = fig.add_axes(111)\n",
    "ax = fig.add_subplot(111)\n",
    "\n",
    "mpf.plot(\n",
    "    df, type='candle', style='default',\n",
    "    mav=(13, 26, 52),\n",
    "    volume=False,\n",
    "    datetime_format='%Y-%m-%d',\n",
    "    xrotation=0,\n",
    "    ax=ax,\n",
    ")\n",
    "ax.set_title('Weekly chart for %s\\nmav=(13, 26, 52)' % symbol)\n",
    "ax.grid()\n",
    "\n",
    "plt.tight_layout()\n",
    "plt.savefig('weekly_chart_exchange.png')\n",
    "plt.show()"
   ]
  },
  {
   "cell_type": "code",
   "execution_count": 3,
   "id": "60c07842-88e5-4d06-8c0d-91c0f29bf7eb",
   "metadata": {},
   "outputs": [
    {
     "data": {
      "text/html": [
       "<div>\n",
       "<style scoped>\n",
       "    .dataframe tbody tr th:only-of-type {\n",
       "        vertical-align: middle;\n",
       "    }\n",
       "\n",
       "    .dataframe tbody tr th {\n",
       "        vertical-align: top;\n",
       "    }\n",
       "\n",
       "    .dataframe thead th {\n",
       "        text-align: right;\n",
       "    }\n",
       "</style>\n",
       "<table border=\"1\" class=\"dataframe\">\n",
       "  <thead>\n",
       "    <tr style=\"text-align: right;\">\n",
       "      <th></th>\n",
       "      <th>Open</th>\n",
       "      <th>High</th>\n",
       "      <th>Low</th>\n",
       "      <th>Close</th>\n",
       "      <th>Volume</th>\n",
       "      <th>Dividends</th>\n",
       "      <th>Stock Splits</th>\n",
       "    </tr>\n",
       "    <tr>\n",
       "      <th>Date</th>\n",
       "      <th></th>\n",
       "      <th></th>\n",
       "      <th></th>\n",
       "      <th></th>\n",
       "      <th></th>\n",
       "      <th></th>\n",
       "      <th></th>\n",
       "    </tr>\n",
       "  </thead>\n",
       "  <tbody>\n",
       "    <tr>\n",
       "      <th>2024-12-02 00:00:00+00:00</th>\n",
       "      <td>149.815994</td>\n",
       "      <td>151.216995</td>\n",
       "      <td>148.651001</td>\n",
       "      <td>149.988998</td>\n",
       "      <td>0</td>\n",
       "      <td>0.0</td>\n",
       "      <td>0.0</td>\n",
       "    </tr>\n",
       "  </tbody>\n",
       "</table>\n",
       "</div>"
      ],
      "text/plain": [
       "                                 Open        High         Low       Close  \\\n",
       "Date                                                                        \n",
       "2024-12-02 00:00:00+00:00  149.815994  151.216995  148.651001  149.988998   \n",
       "\n",
       "                           Volume  Dividends  Stock Splits  \n",
       "Date                                                        \n",
       "2024-12-02 00:00:00+00:00       0        0.0           0.0  "
      ]
     },
     "execution_count": 3,
     "metadata": {},
     "output_type": "execute_result"
    }
   ],
   "source": [
    "df.tail(1)"
   ]
  },
  {
   "cell_type": "code",
   "execution_count": 4,
   "id": "b5ddac87-7aca-4a91-a167-e92aca64f6e7",
   "metadata": {},
   "outputs": [
    {
     "data": {
      "text/plain": [
       "Date\n",
       "2024-11-25 00:00:00+00:00    149.750000\n",
       "2024-12-02 00:00:00+00:00    149.988998\n",
       "Name: Close, dtype: float64"
      ]
     },
     "execution_count": 4,
     "metadata": {},
     "output_type": "execute_result"
    }
   ],
   "source": [
    "df.tail(2)['Close']"
   ]
  },
  {
   "cell_type": "code",
   "execution_count": 5,
   "id": "c16b51e9-cee6-43ea-b5af-a4a1124c2624",
   "metadata": {},
   "outputs": [
    {
     "data": {
      "text/plain": [
       "Date\n",
       "2024-11-25 00:00:00+00:00         NaN\n",
       "2024-12-02 00:00:00+00:00    0.238998\n",
       "Name: Close, dtype: float64"
      ]
     },
     "execution_count": 5,
     "metadata": {},
     "output_type": "execute_result"
    }
   ],
   "source": [
    "df.tail(2)['Close'].diff()"
   ]
  },
  {
   "cell_type": "code",
   "execution_count": 6,
   "id": "9b81b628-5fb1-4c6e-bbf2-be39d517c427",
   "metadata": {},
   "outputs": [
    {
     "data": {
      "text/plain": [
       "Date\n",
       "2022-12-05 00:00:00+00:00           NaN\n",
       "2022-12-12 00:00:00+00:00           NaN\n",
       "2022-12-19 00:00:00+00:00           NaN\n",
       "2022-12-26 00:00:00+00:00           NaN\n",
       "2023-01-02 00:00:00+00:00           NaN\n",
       "                                ...    \n",
       "2024-11-04 00:00:00+00:00    151.547308\n",
       "2024-11-11 00:00:00+00:00    151.495770\n",
       "2024-11-18 00:00:00+00:00    151.411924\n",
       "2024-11-25 00:00:00+00:00    151.123078\n",
       "2024-12-02 00:00:00+00:00    150.864578\n",
       "Name: Close, Length: 105, dtype: float64"
      ]
     },
     "execution_count": 6,
     "metadata": {},
     "output_type": "execute_result"
    }
   ],
   "source": [
    "df['Close'].rolling(26).mean()"
   ]
  },
  {
   "cell_type": "code",
   "execution_count": 7,
   "id": "f67aff9f-3963-4ebf-a482-036301eff3cb",
   "metadata": {},
   "outputs": [
    {
     "data": {
      "text/plain": [
       "Date\n",
       "2022-12-05 00:00:00+00:00           NaN\n",
       "2022-12-12 00:00:00+00:00           NaN\n",
       "2022-12-19 00:00:00+00:00           NaN\n",
       "2022-12-26 00:00:00+00:00           NaN\n",
       "2023-01-02 00:00:00+00:00           NaN\n",
       "                                ...    \n",
       "2024-11-04 00:00:00+00:00    150.307076\n",
       "2024-11-11 00:00:00+00:00    150.399192\n",
       "2024-11-18 00:00:00+00:00    150.501307\n",
       "2024-11-25 00:00:00+00:00    150.557846\n",
       "2024-12-02 00:00:00+00:00    150.656500\n",
       "Name: Close, Length: 105, dtype: float64"
      ]
     },
     "execution_count": 7,
     "metadata": {},
     "output_type": "execute_result"
    }
   ],
   "source": [
    "df['Close'].rolling(52).mean()"
   ]
  },
  {
   "cell_type": "code",
   "execution_count": null,
   "id": "68256757-455b-4638-bef9-7411e005bce3",
   "metadata": {},
   "outputs": [],
   "source": []
  }
 ],
 "metadata": {
  "kernelspec": {
   "display_name": "Python 3 (ipykernel)",
   "language": "python",
   "name": "python3"
  },
  "language_info": {
   "codemirror_mode": {
    "name": "ipython",
    "version": 3
   },
   "file_extension": ".py",
   "mimetype": "text/x-python",
   "name": "python",
   "nbconvert_exporter": "python",
   "pygments_lexer": "ipython3",
   "version": "3.12.7"
  }
 },
 "nbformat": 4,
 "nbformat_minor": 5
}
