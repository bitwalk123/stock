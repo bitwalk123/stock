{
 "cells": [
  {
   "cell_type": "markdown",
   "id": "52a2670c-4c51-4045-a062-07a2721ad756",
   "metadata": {},
   "source": [
    "# ＰＢＲ１倍割れ解消 日足"
   ]
  },
  {
   "cell_type": "code",
   "execution_count": 9,
   "id": "6834dd84-ba52-49e6-a4e1-73cf33186524",
   "metadata": {},
   "outputs": [
    {
     "data": {
      "text/html": [
       "<div>\n",
       "<style scoped>\n",
       "    .dataframe tbody tr th:only-of-type {\n",
       "        vertical-align: middle;\n",
       "    }\n",
       "\n",
       "    .dataframe tbody tr th {\n",
       "        vertical-align: top;\n",
       "    }\n",
       "\n",
       "    .dataframe thead th {\n",
       "        text-align: right;\n",
       "    }\n",
       "</style>\n",
       "<table border=\"1\" class=\"dataframe\">\n",
       "  <thead>\n",
       "    <tr style=\"text-align: right;\">\n",
       "      <th></th>\n",
       "      <th>Open</th>\n",
       "      <th>High</th>\n",
       "      <th>Low</th>\n",
       "      <th>Close</th>\n",
       "      <th>Volume</th>\n",
       "      <th>Dividends</th>\n",
       "      <th>Stock Splits</th>\n",
       "      <th>Capital Gains</th>\n",
       "    </tr>\n",
       "    <tr>\n",
       "      <th>Date</th>\n",
       "      <th></th>\n",
       "      <th></th>\n",
       "      <th></th>\n",
       "      <th></th>\n",
       "      <th></th>\n",
       "      <th></th>\n",
       "      <th></th>\n",
       "      <th></th>\n",
       "    </tr>\n",
       "  </thead>\n",
       "  <tbody>\n",
       "    <tr>\n",
       "      <th>2024-07-10 00:00:00+09:00</th>\n",
       "      <td>1217.634591</td>\n",
       "      <td>1229.342616</td>\n",
       "      <td>1217.634591</td>\n",
       "      <td>1225.439941</td>\n",
       "      <td>68616</td>\n",
       "      <td>0.0</td>\n",
       "      <td>0.0</td>\n",
       "      <td>0.0</td>\n",
       "    </tr>\n",
       "    <tr>\n",
       "      <th>2024-07-11 00:00:00+09:00</th>\n",
       "      <td>1240.074999</td>\n",
       "      <td>1241.050668</td>\n",
       "      <td>1230.318311</td>\n",
       "      <td>1235.196655</td>\n",
       "      <td>125670</td>\n",
       "      <td>0.0</td>\n",
       "      <td>0.0</td>\n",
       "      <td>0.0</td>\n",
       "    </tr>\n",
       "    <tr>\n",
       "      <th>2024-07-12 00:00:00+09:00</th>\n",
       "      <td>1211.780583</td>\n",
       "      <td>1229.342621</td>\n",
       "      <td>1211.780583</td>\n",
       "      <td>1222.512939</td>\n",
       "      <td>138388</td>\n",
       "      <td>0.0</td>\n",
       "      <td>0.0</td>\n",
       "      <td>0.0</td>\n",
       "    </tr>\n",
       "    <tr>\n",
       "      <th>2024-07-16 00:00:00+09:00</th>\n",
       "      <td>1229.342612</td>\n",
       "      <td>1234.220956</td>\n",
       "      <td>1227.391275</td>\n",
       "      <td>1228.366943</td>\n",
       "      <td>99083</td>\n",
       "      <td>0.0</td>\n",
       "      <td>0.0</td>\n",
       "      <td>0.0</td>\n",
       "    </tr>\n",
       "    <tr>\n",
       "      <th>2024-07-17 00:00:00+09:00</th>\n",
       "      <td>1235.196573</td>\n",
       "      <td>1241.050585</td>\n",
       "      <td>1234.220904</td>\n",
       "      <td>1236.172241</td>\n",
       "      <td>73506</td>\n",
       "      <td>0.0</td>\n",
       "      <td>0.0</td>\n",
       "      <td>0.0</td>\n",
       "    </tr>\n",
       "    <tr>\n",
       "      <th>...</th>\n",
       "      <td>...</td>\n",
       "      <td>...</td>\n",
       "      <td>...</td>\n",
       "      <td>...</td>\n",
       "      <td>...</td>\n",
       "      <td>...</td>\n",
       "      <td>...</td>\n",
       "      <td>...</td>\n",
       "    </tr>\n",
       "    <tr>\n",
       "      <th>2025-01-06 00:00:00+09:00</th>\n",
       "      <td>1213.000000</td>\n",
       "      <td>1213.000000</td>\n",
       "      <td>1201.000000</td>\n",
       "      <td>1206.000000</td>\n",
       "      <td>72990</td>\n",
       "      <td>0.0</td>\n",
       "      <td>0.0</td>\n",
       "      <td>0.0</td>\n",
       "    </tr>\n",
       "    <tr>\n",
       "      <th>2025-01-07 00:00:00+09:00</th>\n",
       "      <td>1211.000000</td>\n",
       "      <td>1217.000000</td>\n",
       "      <td>1202.000000</td>\n",
       "      <td>1215.000000</td>\n",
       "      <td>54238</td>\n",
       "      <td>0.0</td>\n",
       "      <td>0.0</td>\n",
       "      <td>0.0</td>\n",
       "    </tr>\n",
       "    <tr>\n",
       "      <th>2025-01-08 00:00:00+09:00</th>\n",
       "      <td>1209.000000</td>\n",
       "      <td>1215.000000</td>\n",
       "      <td>1208.000000</td>\n",
       "      <td>1210.000000</td>\n",
       "      <td>15618</td>\n",
       "      <td>0.0</td>\n",
       "      <td>0.0</td>\n",
       "      <td>0.0</td>\n",
       "    </tr>\n",
       "    <tr>\n",
       "      <th>2025-01-09 00:00:00+09:00</th>\n",
       "      <td>1209.000000</td>\n",
       "      <td>1209.000000</td>\n",
       "      <td>1192.000000</td>\n",
       "      <td>1196.000000</td>\n",
       "      <td>38915</td>\n",
       "      <td>0.0</td>\n",
       "      <td>0.0</td>\n",
       "      <td>0.0</td>\n",
       "    </tr>\n",
       "    <tr>\n",
       "      <th>2025-01-10 00:00:00+09:00</th>\n",
       "      <td>1187.000000</td>\n",
       "      <td>1194.000000</td>\n",
       "      <td>1181.000000</td>\n",
       "      <td>1183.000000</td>\n",
       "      <td>56513</td>\n",
       "      <td>0.0</td>\n",
       "      <td>0.0</td>\n",
       "      <td>0.0</td>\n",
       "    </tr>\n",
       "  </tbody>\n",
       "</table>\n",
       "<p>120 rows × 8 columns</p>\n",
       "</div>"
      ],
      "text/plain": [
       "                                  Open         High          Low        Close  \\\n",
       "Date                                                                            \n",
       "2024-07-10 00:00:00+09:00  1217.634591  1229.342616  1217.634591  1225.439941   \n",
       "2024-07-11 00:00:00+09:00  1240.074999  1241.050668  1230.318311  1235.196655   \n",
       "2024-07-12 00:00:00+09:00  1211.780583  1229.342621  1211.780583  1222.512939   \n",
       "2024-07-16 00:00:00+09:00  1229.342612  1234.220956  1227.391275  1228.366943   \n",
       "2024-07-17 00:00:00+09:00  1235.196573  1241.050585  1234.220904  1236.172241   \n",
       "...                                ...          ...          ...          ...   \n",
       "2025-01-06 00:00:00+09:00  1213.000000  1213.000000  1201.000000  1206.000000   \n",
       "2025-01-07 00:00:00+09:00  1211.000000  1217.000000  1202.000000  1215.000000   \n",
       "2025-01-08 00:00:00+09:00  1209.000000  1215.000000  1208.000000  1210.000000   \n",
       "2025-01-09 00:00:00+09:00  1209.000000  1209.000000  1192.000000  1196.000000   \n",
       "2025-01-10 00:00:00+09:00  1187.000000  1194.000000  1181.000000  1183.000000   \n",
       "\n",
       "                           Volume  Dividends  Stock Splits  Capital Gains  \n",
       "Date                                                                       \n",
       "2024-07-10 00:00:00+09:00   68616        0.0           0.0            0.0  \n",
       "2024-07-11 00:00:00+09:00  125670        0.0           0.0            0.0  \n",
       "2024-07-12 00:00:00+09:00  138388        0.0           0.0            0.0  \n",
       "2024-07-16 00:00:00+09:00   99083        0.0           0.0            0.0  \n",
       "2024-07-17 00:00:00+09:00   73506        0.0           0.0            0.0  \n",
       "...                           ...        ...           ...            ...  \n",
       "2025-01-06 00:00:00+09:00   72990        0.0           0.0            0.0  \n",
       "2025-01-07 00:00:00+09:00   54238        0.0           0.0            0.0  \n",
       "2025-01-08 00:00:00+09:00   15618        0.0           0.0            0.0  \n",
       "2025-01-09 00:00:00+09:00   38915        0.0           0.0            0.0  \n",
       "2025-01-10 00:00:00+09:00   56513        0.0           0.0            0.0  \n",
       "\n",
       "[120 rows x 8 columns]"
      ]
     },
     "execution_count": 9,
     "metadata": {},
     "output_type": "execute_result"
    }
   ],
   "source": [
    "import matplotlib.pyplot as plt\n",
    "import mplfinance as mpf\n",
    "import numpy as np\n",
    "import pandas as pd\n",
    "import re\n",
    "import yfinance as yf\n",
    "\n",
    "pattern = re.compile(r'(.+)\\.T')\n",
    "\n",
    "symbol = '2080.T'\n",
    "ticker = yf.Ticker(symbol)\n",
    "\n",
    "df = ticker.history(period='6mo')\n",
    "df"
   ]
  },
  {
   "cell_type": "markdown",
   "id": "d962988e-3347-4589-b186-27510a8d1d9b",
   "metadata": {},
   "source": [
    "## パラボリック SAR"
   ]
  },
  {
   "cell_type": "code",
   "execution_count": 10,
   "id": "8a50fcec-f72e-414f-89ea-d5c3926b60fd",
   "metadata": {},
   "outputs": [],
   "source": [
    "def psar(ohlc: pd.DataFrame, iaf: float = 0.02, maxaf: float = 0.2) -> dict:\n",
    "    length = len(ohlc)\n",
    "    high = ohlc['High'].tolist()\n",
    "    low = ohlc['Low'].tolist()\n",
    "    close = ohlc['Close'].tolist()\n",
    " \n",
    "    psar = close[0:len(close)]\n",
    "    psarbull = [None] * length\n",
    "    psarbear = [None] * length\n",
    " \n",
    "    bull = True\n",
    "    af = iaf\n",
    "    ep = low[0]\n",
    "    price_high = high[0]\n",
    "    price_low = low[0]\n",
    " \n",
    "    for i in range(2, length):\n",
    "        if bull:\n",
    "            psar[i] = psar[i - 1] + af * (price_high - psar[i - 1])\n",
    "        else:\n",
    "            psar[i] = psar[i - 1] + af * (price_low - psar[i - 1])\n",
    "        reverse = False\n",
    " \n",
    "        if bull:\n",
    "            if low[i] < psar[i]:\n",
    "                bull = False\n",
    "                reverse = True\n",
    "                psar[i] = price_high\n",
    "                price_low = low[i]\n",
    "                af = iaf\n",
    "        else:\n",
    "            if high[i] > psar[i]:\n",
    "                bull = True\n",
    "                reverse = True\n",
    "                psar[i] = price_low\n",
    "                price_high = high[i]\n",
    "                af = iaf\n",
    " \n",
    "        if not reverse:\n",
    "            if bull:\n",
    "                if high[i] > price_high:\n",
    "                    price_high = high[i]\n",
    "                    af = min(af + iaf, maxaf)\n",
    "                if low[i - 1] < psar[i]:\n",
    "                    psar[i] = low[i - 1]\n",
    "                if low[i - 2] < psar[i]:\n",
    "                    psar[i] = low[i - 2]\n",
    "            else:\n",
    "                if low[i] < price_low:\n",
    "                    price_low = low[i]\n",
    "                    af = min(af + iaf, maxaf)\n",
    "                if high[i - 1] > psar[i]:\n",
    "                    psar[i] = high[i - 1]\n",
    "                if high[i - 2] > psar[i]:\n",
    "                    psar[i] = high[i - 2]\n",
    " \n",
    "        if bull:\n",
    "            psarbull[i] = psar[i]\n",
    "        else:\n",
    "            psarbear[i] = psar[i]\n",
    " \n",
    "    return {\n",
    "        'bear': np.array(psarbear, dtype='float64'),\n",
    "        'bull': np.array(psarbull, dtype='float64'),\n",
    "    }"
   ]
  },
  {
   "cell_type": "markdown",
   "id": "a8e1eedf-42ee-48d9-90b7-a03984127b91",
   "metadata": {},
   "source": [
    "## 日足チャートとパラボリック SAR"
   ]
  },
  {
   "cell_type": "code",
   "execution_count": 11,
   "id": "9992dabc-2cb3-4cea-b153-802c5fd5b5fb",
   "metadata": {},
   "outputs": [
    {
     "data": {
      "image/png": "[encoded data removed]",
      "text/plain": [
       "<Figure size 1200x600 with 1 Axes>"
      ]
     },
     "metadata": {},
     "output_type": "display_data"
    }
   ],
   "source": [
    "dict_psar = psar(df)\n",
    "\n",
    "fig = plt.figure(figsize=(12, 6))\n",
    "ax = fig.add_subplot(111)\n",
    "\n",
    "apds  = [\n",
    "    mpf.make_addplot(\n",
    "        dict_psar['bear'],\n",
    "        type='scatter',\n",
    "        marker='o',\n",
    "        markersize=5,\n",
    "        color='blue',\n",
    "        label='downtrend',\n",
    "        ax=ax\n",
    "    ),\n",
    "    mpf.make_addplot(\n",
    "        dict_psar['bull'],\n",
    "        type='scatter',\n",
    "        marker='o',\n",
    "        markersize=5,\n",
    "        color='red',\n",
    "        label='uptrend',\n",
    "        ax=ax\n",
    "    ),\n",
    "] \n",
    "\n",
    "mpf.plot(\n",
    "    df,\n",
    "    type='candle',\n",
    "    style='default',\n",
    "    mav=(5, 25, 75),\n",
    "    volume=False,\n",
    "    datetime_format='%m-%d',\n",
    "    addplot=apds,\n",
    "    xrotation=0,\n",
    "    ax=ax,\n",
    ")\n",
    "\n",
    "try:\n",
    "    ax.set_title('Daily chart for %s (%s)\\nmav=(5, 25, 75)' % (ticker.info['longName'], symbol))\n",
    "except KeyError:\n",
    "    ax.set_title('Daily chart for %s\\nmav=(5, 25, 75)' % symbol)\n",
    "\n",
    "ax.grid()\n",
    "\n",
    "plt.tight_layout()\n",
    "\n",
    "m = pattern.match(symbol)\n",
    "if m:\n",
    "    plt.savefig('daily_chart_%s.png' % m.group(1))\n",
    "else:\n",
    "    plt.savefig('daily_chart_%s.png' % symbol)\n",
    "\n",
    "plt.show()"
   ]
  },
  {
   "cell_type": "code",
   "execution_count": 12,
   "id": "02289103-23b3-45c7-9be4-91c4f1e7958c",
   "metadata": {},
   "outputs": [
    {
     "data": {
      "text/plain": [
       "Date\n",
       "2025-01-09 00:00:00+09:00    1196.0\n",
       "2025-01-10 00:00:00+09:00    1183.0\n",
       "Name: Close, dtype: float64"
      ]
     },
     "execution_count": 12,
     "metadata": {},
     "output_type": "execute_result"
    }
   ],
   "source": [
    "df.tail(2)['Close']"
   ]
  },
  {
   "cell_type": "code",
   "execution_count": 13,
   "id": "c71558aa-1b70-454a-b538-e7c62b3710a2",
   "metadata": {},
   "outputs": [
    {
     "data": {
      "text/plain": [
       "Date\n",
       "2025-01-09 00:00:00+09:00     NaN\n",
       "2025-01-10 00:00:00+09:00   -13.0\n",
       "Name: Close, dtype: float64"
      ]
     },
     "execution_count": 13,
     "metadata": {},
     "output_type": "execute_result"
    }
   ],
   "source": [
    "df.tail(2)['Close'].diff()"
   ]
  },
  {
   "cell_type": "code",
   "execution_count": 14,
   "id": "22705f9a-58ad-4fdd-ad4d-f331fd7d83fa",
   "metadata": {},
   "outputs": [
    {
     "data": {
      "text/plain": [
       "Date\n",
       "2025-01-09 00:00:00+09:00    1207.8\n",
       "2025-01-10 00:00:00+09:00    1202.0\n",
       "Name: Close, dtype: float64"
      ]
     },
     "execution_count": 14,
     "metadata": {},
     "output_type": "execute_result"
    }
   ],
   "source": [
    "df['Close'].rolling(5).mean().tail(2)"
   ]
  },
  {
   "cell_type": "code",
   "execution_count": 15,
   "id": "582d76da-f40c-4dbb-b4b5-c6909bd5d3a6",
   "metadata": {},
   "outputs": [
    {
     "data": {
      "text/plain": [
       "Date\n",
       "2025-01-09 00:00:00+09:00    1187.84\n",
       "2025-01-10 00:00:00+09:00    1187.88\n",
       "Name: Close, dtype: float64"
      ]
     },
     "execution_count": 15,
     "metadata": {},
     "output_type": "execute_result"
    }
   ],
   "source": [
    "df['Close'].rolling(25).mean().tail(2)"
   ]
  },
  {
   "cell_type": "code",
   "execution_count": 16,
   "id": "706214b0-622c-4098-b6ab-e5763461e9e4",
   "metadata": {},
   "outputs": [
    {
     "data": {
      "text/plain": [
       "Date\n",
       "2025-01-09 00:00:00+09:00    1154.266667\n",
       "2025-01-10 00:00:00+09:00    1155.680000\n",
       "Name: Close, dtype: float64"
      ]
     },
     "execution_count": 16,
     "metadata": {},
     "output_type": "execute_result"
    }
   ],
   "source": [
    "df['Close'].rolling(75).mean().tail(2)"
   ]
  },
  {
   "cell_type": "code",
   "execution_count": null,
   "id": "ee9a4e88-40d2-4c7b-b6ad-64db74cef691",
   "metadata": {},
   "outputs": [],
   "source": []
  }
 ],
 "metadata": {
  "kernelspec": {
   "display_name": "Python 3 (ipykernel)",
   "language": "python",
   "name": "python3"
  },
  "language_info": {
   "codemirror_mode": {
    "name": "ipython",
    "version": 3
   },
   "file_extension": ".py",
   "mimetype": "text/x-python",
   "name": "python",
   "nbconvert_exporter": "python",
   "pygments_lexer": "ipython3",
   "version": "3.13.1"
  }
 },
 "nbformat": 4,
 "nbformat_minor": 5
}
