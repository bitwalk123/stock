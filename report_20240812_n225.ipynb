{
 "cells": [
  {
   "cell_type": "markdown",
   "id": "52a2670c-4c51-4045-a062-07a2721ad756",
   "metadata": {},
   "source": [
    "# 日経平均株価"
   ]
  },
  {
   "cell_type": "code",
   "execution_count": 1,
   "id": "6834dd84-ba52-49e6-a4e1-73cf33186524",
   "metadata": {},
   "outputs": [],
   "source": [
    "import matplotlib.pyplot as plt\n",
    "import mplfinance as mpf\n",
    "import pandas as pd\n",
    "import yfinance as yf"
   ]
  },
  {
   "cell_type": "markdown",
   "id": "920110c9-2c8b-4264-8b0d-c766327e0c76",
   "metadata": {},
   "source": [
    "## 日経平均株価の yf.Ticker インスタンスの作成"
   ]
  },
  {
   "cell_type": "code",
   "execution_count": 2,
   "id": "1e659d74-ec1b-441f-aaa3-9a23dec068b9",
   "metadata": {},
   "outputs": [],
   "source": [
    "symbol = '^N225'\n",
    "ticker = yf.Ticker(symbol)"
   ]
  },
  {
   "cell_type": "markdown",
   "id": "a8e1eedf-42ee-48d9-90b7-a03984127b91",
   "metadata": {},
   "source": [
    "## 過去10年の月足データ"
   ]
  },
  {
   "cell_type": "code",
   "execution_count": 3,
   "id": "95637f3c-a3f8-4e98-848d-edaf665b05c7",
   "metadata": {},
   "outputs": [
    {
     "data": {
      "text/html": [
       "<div>\n",
       "<style scoped>\n",
       "    .dataframe tbody tr th:only-of-type {\n",
       "        vertical-align: middle;\n",
       "    }\n",
       "\n",
       "    .dataframe tbody tr th {\n",
       "        vertical-align: top;\n",
       "    }\n",
       "\n",
       "    .dataframe thead th {\n",
       "        text-align: right;\n",
       "    }\n",
       "</style>\n",
       "<table border=\"1\" class=\"dataframe\">\n",
       "  <thead>\n",
       "    <tr style=\"text-align: right;\">\n",
       "      <th></th>\n",
       "      <th>Open</th>\n",
       "      <th>High</th>\n",
       "      <th>Low</th>\n",
       "      <th>Close</th>\n",
       "      <th>Volume</th>\n",
       "      <th>Dividends</th>\n",
       "      <th>Stock Splits</th>\n",
       "    </tr>\n",
       "    <tr>\n",
       "      <th>Date</th>\n",
       "      <th></th>\n",
       "      <th></th>\n",
       "      <th></th>\n",
       "      <th></th>\n",
       "      <th></th>\n",
       "      <th></th>\n",
       "      <th></th>\n",
       "    </tr>\n",
       "  </thead>\n",
       "  <tbody>\n",
       "    <tr>\n",
       "      <th>2014-09-01 00:00:00+09:00</th>\n",
       "      <td>15454.589844</td>\n",
       "      <td>16374.139648</td>\n",
       "      <td>15440.990234</td>\n",
       "      <td>16173.519531</td>\n",
       "      <td>2530100000</td>\n",
       "      <td>0.0</td>\n",
       "      <td>0.0</td>\n",
       "    </tr>\n",
       "    <tr>\n",
       "      <th>2014-10-01 00:00:00+09:00</th>\n",
       "      <td>16173.389648</td>\n",
       "      <td>16533.910156</td>\n",
       "      <td>14529.030273</td>\n",
       "      <td>16413.759766</td>\n",
       "      <td>3436700000</td>\n",
       "      <td>0.0</td>\n",
       "      <td>0.0</td>\n",
       "    </tr>\n",
       "    <tr>\n",
       "      <th>2014-11-01 00:00:00+09:00</th>\n",
       "      <td>16732.849609</td>\n",
       "      <td>17520.539062</td>\n",
       "      <td>16713.369141</td>\n",
       "      <td>17459.849609</td>\n",
       "      <td>3155400000</td>\n",
       "      <td>0.0</td>\n",
       "      <td>0.0</td>\n",
       "    </tr>\n",
       "    <tr>\n",
       "      <th>2014-12-01 00:00:00+09:00</th>\n",
       "      <td>17475.099609</td>\n",
       "      <td>18030.830078</td>\n",
       "      <td>16672.939453</td>\n",
       "      <td>17450.769531</td>\n",
       "      <td>2962900000</td>\n",
       "      <td>0.0</td>\n",
       "      <td>0.0</td>\n",
       "    </tr>\n",
       "    <tr>\n",
       "      <th>2015-01-01 00:00:00+09:00</th>\n",
       "      <td>17325.679688</td>\n",
       "      <td>17850.589844</td>\n",
       "      <td>16592.570312</td>\n",
       "      <td>17674.390625</td>\n",
       "      <td>2691500000</td>\n",
       "      <td>0.0</td>\n",
       "      <td>0.0</td>\n",
       "    </tr>\n",
       "    <tr>\n",
       "      <th>...</th>\n",
       "      <td>...</td>\n",
       "      <td>...</td>\n",
       "      <td>...</td>\n",
       "      <td>...</td>\n",
       "      <td>...</td>\n",
       "      <td>...</td>\n",
       "      <td>...</td>\n",
       "    </tr>\n",
       "    <tr>\n",
       "      <th>2024-04-01 00:00:00+09:00</th>\n",
       "      <td>40646.699219</td>\n",
       "      <td>40697.218750</td>\n",
       "      <td>36733.058594</td>\n",
       "      <td>38405.660156</td>\n",
       "      <td>2522300000</td>\n",
       "      <td>0.0</td>\n",
       "      <td>0.0</td>\n",
       "    </tr>\n",
       "    <tr>\n",
       "      <th>2024-05-01 00:00:00+09:00</th>\n",
       "      <td>38107.378906</td>\n",
       "      <td>39437.160156</td>\n",
       "      <td>37617.000000</td>\n",
       "      <td>38487.898438</td>\n",
       "      <td>2632400000</td>\n",
       "      <td>0.0</td>\n",
       "      <td>0.0</td>\n",
       "    </tr>\n",
       "    <tr>\n",
       "      <th>2024-06-01 00:00:00+09:00</th>\n",
       "      <td>38734.949219</td>\n",
       "      <td>39788.628906</td>\n",
       "      <td>37950.199219</td>\n",
       "      <td>39583.078125</td>\n",
       "      <td>2209000000</td>\n",
       "      <td>0.0</td>\n",
       "      <td>0.0</td>\n",
       "    </tr>\n",
       "    <tr>\n",
       "      <th>2024-07-01 00:00:00+09:00</th>\n",
       "      <td>39839.820312</td>\n",
       "      <td>42426.769531</td>\n",
       "      <td>37611.191406</td>\n",
       "      <td>39101.820312</td>\n",
       "      <td>2570500000</td>\n",
       "      <td>0.0</td>\n",
       "      <td>0.0</td>\n",
       "    </tr>\n",
       "    <tr>\n",
       "      <th>2024-08-01 00:00:00+09:00</th>\n",
       "      <td>38781.558594</td>\n",
       "      <td>38781.558594</td>\n",
       "      <td>31156.119141</td>\n",
       "      <td>35025.000000</td>\n",
       "      <td>1504900000</td>\n",
       "      <td>0.0</td>\n",
       "      <td>0.0</td>\n",
       "    </tr>\n",
       "  </tbody>\n",
       "</table>\n",
       "<p>120 rows × 7 columns</p>\n",
       "</div>"
      ],
      "text/plain": [
       "                                   Open          High           Low  \\\n",
       "Date                                                                  \n",
       "2014-09-01 00:00:00+09:00  15454.589844  16374.139648  15440.990234   \n",
       "2014-10-01 00:00:00+09:00  16173.389648  16533.910156  14529.030273   \n",
       "2014-11-01 00:00:00+09:00  16732.849609  17520.539062  16713.369141   \n",
       "2014-12-01 00:00:00+09:00  17475.099609  18030.830078  16672.939453   \n",
       "2015-01-01 00:00:00+09:00  17325.679688  17850.589844  16592.570312   \n",
       "...                                 ...           ...           ...   \n",
       "2024-04-01 00:00:00+09:00  40646.699219  40697.218750  36733.058594   \n",
       "2024-05-01 00:00:00+09:00  38107.378906  39437.160156  37617.000000   \n",
       "2024-06-01 00:00:00+09:00  38734.949219  39788.628906  37950.199219   \n",
       "2024-07-01 00:00:00+09:00  39839.820312  42426.769531  37611.191406   \n",
       "2024-08-01 00:00:00+09:00  38781.558594  38781.558594  31156.119141   \n",
       "\n",
       "                                  Close      Volume  Dividends  Stock Splits  \n",
       "Date                                                                          \n",
       "2014-09-01 00:00:00+09:00  16173.519531  2530100000        0.0           0.0  \n",
       "2014-10-01 00:00:00+09:00  16413.759766  3436700000        0.0           0.0  \n",
       "2014-11-01 00:00:00+09:00  17459.849609  3155400000        0.0           0.0  \n",
       "2014-12-01 00:00:00+09:00  17450.769531  2962900000        0.0           0.0  \n",
       "2015-01-01 00:00:00+09:00  17674.390625  2691500000        0.0           0.0  \n",
       "...                                 ...         ...        ...           ...  \n",
       "2024-04-01 00:00:00+09:00  38405.660156  2522300000        0.0           0.0  \n",
       "2024-05-01 00:00:00+09:00  38487.898438  2632400000        0.0           0.0  \n",
       "2024-06-01 00:00:00+09:00  39583.078125  2209000000        0.0           0.0  \n",
       "2024-07-01 00:00:00+09:00  39101.820312  2570500000        0.0           0.0  \n",
       "2024-08-01 00:00:00+09:00  35025.000000  1504900000        0.0           0.0  \n",
       "\n",
       "[120 rows x 7 columns]"
      ]
     },
     "execution_count": 3,
     "metadata": {},
     "output_type": "execute_result"
    }
   ],
   "source": [
    "df = ticker.history(period='10y', interval='1mo')\n",
    "df"
   ]
  },
  {
   "cell_type": "markdown",
   "id": "1bc4c904-b677-4a94-92da-696c988c04a1",
   "metadata": {},
   "source": [
    "### 2020年３月の日経平均株価\n",
    "\n",
    "月次終値としては2017年３月（１万8909円26銭）以来、３年ぶりの水準に落ち込んだ。新型コロナウイルスの感染者が世界的に増え続け、終息の兆しが見えないなか、実体経済への影響を警戒した売りが広がった。原油安や急速な円高・ドル安を受け、運用リスクを回避する株売りも目立った。\n",
    "\n",
    "Reference: https://indexes.nikkei.co.jp/atoz/2020/04/202003.html"
   ]
  },
  {
   "cell_type": "code",
   "execution_count": 4,
   "id": "19e1d766-4e27-4680-a0ae-6f6070cbe75c",
   "metadata": {},
   "outputs": [
    {
     "name": "stdout",
     "output_type": "stream",
     "text": [
      "2020-03-01 00:00:00+09:00 16358.1904296875\n"
     ]
    }
   ],
   "source": [
    "origin = pd.to_datetime('2018-01-01 00:00:00+09:00')\n",
    "price_min = min(df[df.index > origin]['Low'])\n",
    "df_min = df[df['Low'] == price_min]\n",
    "ts_min = df_min.index[0]\n",
    "print(ts_min, price_min)"
   ]
  },
  {
   "cell_type": "markdown",
   "id": "613efdb0-d5f9-495b-9ea1-3b9331fe71db",
   "metadata": {},
   "source": [
    "### 2024年7月の日経平均株価\n",
    "\n",
    "７月前半は米連邦準備理事会（ＦＲＢ）の早期利下げへの期待を背景に、米国市場でハイテク株が上昇。東京市場でも半導体関連株が買われて日経平均が上昇し、11日には４万2224円02銭と終値で史上初めて４万2000円台を記録した。\n",
    "\n",
    "Reference: https://indexes.nikkei.co.jp/atoz/2024/08/20247.html"
   ]
  },
  {
   "cell_type": "code",
   "execution_count": 5,
   "id": "7817621a-259a-4bfd-bebc-5b35292adf02",
   "metadata": {},
   "outputs": [
    {
     "name": "stdout",
     "output_type": "stream",
     "text": [
      "2024-07-01 00:00:00+09:00 42426.76953125\n"
     ]
    }
   ],
   "source": [
    "price_max = max(df['High'])\n",
    "df_max = df[df['High'] == price_max]\n",
    "ts_max = df_max.index[0]\n",
    "print(ts_max, price_max)"
   ]
  },
  {
   "cell_type": "code",
   "execution_count": 6,
   "id": "d56f020b-7a22-4db0-ae2a-55239dbddfbe",
   "metadata": {},
   "outputs": [],
   "source": [
    "delta = price_max - price_min\n",
    "level1 = price_max - 0.236 * delta\n",
    "level2 = price_max - 0.382 * delta\n",
    "level3 = price_max - 0.618 * delta"
   ]
  },
  {
   "cell_type": "markdown",
   "id": "c4e8a642-29be-4c04-810c-bca1ce850d31",
   "metadata": {},
   "source": [
    "## フィボナッチリトレースメント"
   ]
  },
  {
   "cell_type": "code",
   "execution_count": 7,
   "id": "2a46583d-2f5d-4ed6-807b-5c2bf6faec54",
   "metadata": {},
   "outputs": [
    {
     "data": {
      "image/png": "[encoded data removed]",
      "text/plain": [
       "<Figure size 1200x400 with 1 Axes>"
      ]
     },
     "metadata": {},
     "output_type": "display_data"
    }
   ],
   "source": [
    "plt.rcParams['font.family'] = 'monospace'\n",
    "fig, ax = plt.subplots(figsize=(12, 4))\n",
    "\n",
    "mpf.plot(\n",
    "    df,\n",
    "    type='candle',\n",
    "    style='binance',\n",
    "    datetime_format='%Y-%m',\n",
    "    xrotation=0,\n",
    "    mav=(12, 36, 60),\n",
    "    ax = ax,\n",
    ")\n",
    "\n",
    "# フィボナッチリトレースメント\n",
    "x_start = 0.45\n",
    "x_left = ax.get_xlim()[0]\n",
    "x_right = ax.get_xlim()[1]\n",
    "x_mid = (x_right - x_left) * (x_start - 0.05)\n",
    "x_delta = x_right - x_left\n",
    "x_adjust = x_delta * 0.005\n",
    "\n",
    "y_min = ax.get_ylim()[0]\n",
    "y_max = ax.get_ylim()[1]\n",
    "y_delta = y_max - y_min\n",
    "y_adjust = y_delta * 0.01\n",
    "\n",
    "for y, v in zip([price_max, level1, level2, level3, price_min],[0, 23.6, 38.2, 61.8, 100]):\n",
    "    plt.axhline(y, xmin=x_start, linestyle = 'dashed', linewidth=0.75, color = 'b')\n",
    "    plt.text(x_right + x_adjust, y - y_adjust, '%.1f' % y, color='b')\n",
    "    plt.text(x_mid, y + y_adjust, '%.1f%%' % v, color='b')\n",
    "\n",
    "plt.title('Nikkei 225 Monthly Chart\\nFibonacci retracement')\n",
    "plt.savefig('n255_fibonacci.png')\n",
    "plt.show()"
   ]
  },
  {
   "cell_type": "code",
   "execution_count": null,
   "id": "9992dabc-2cb3-4cea-b153-802c5fd5b5fb",
   "metadata": {},
   "outputs": [],
   "source": []
  }
 ],
 "metadata": {
  "kernelspec": {
   "display_name": "Python 3 (ipykernel)",
   "language": "python",
   "name": "python3"
  },
  "language_info": {
   "codemirror_mode": {
    "name": "ipython",
    "version": 3
   },
   "file_extension": ".py",
   "mimetype": "text/x-python",
   "name": "python",
   "nbconvert_exporter": "python",
   "pygments_lexer": "ipython3",
   "version": "3.12.1"
  }
 },
 "nbformat": 4,
 "nbformat_minor": 5
}
